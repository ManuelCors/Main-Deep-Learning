{
  "cells": [
    {
      "cell_type": "markdown",
      "metadata": {
        "id": "4-D30kBIGmSi"
      },
      "source": [
        "## Proyecto final: módulo de deep learning"
      ]
    },
    {
      "cell_type": "code",
      "execution_count": 1,
      "metadata": {
        "colab": {
          "base_uri": "https://localhost:8080/"
        },
        "id": "rQrB9dONGn8k",
        "outputId": "36821ee1-bf88-4725-b51e-ba548a2a01b4"
      },
      "outputs": [
        {
          "output_type": "stream",
          "name": "stdout",
          "text": [
            "--2023-03-06 23:24:32--  https://public.opendatasoft.com/explore/dataset/airbnb-listings/download/?format=csv&disjunctive.host_verifications=true&disjunctive.amenities=true&disjunctive.features=true&refine.country=Spain&q=Madrid&timezone=Europe/London&use_labels_for_header=true&csv_separator=%3B\n",
            "Resolving public.opendatasoft.com (public.opendatasoft.com)... 34.248.20.69, 34.249.199.226\n",
            "Connecting to public.opendatasoft.com (public.opendatasoft.com)|34.248.20.69|:443... connected.\n",
            "HTTP request sent, awaiting response... 200 OK\n",
            "Length: unspecified [application/csv]\n",
            "Saving to: ‘airbnb-listings.csv’\n",
            "\n",
            "airbnb-listings.csv     [                <=> ]  54.31M  1.43MB/s    in 37s     \n",
            "\n",
            "2023-03-06 23:25:12 (1.45 MB/s) - ‘airbnb-listings.csv’ saved [56950929]\n",
            "\n"
          ]
        }
      ],
      "source": [
        "#Lo primero es decargarmos el dataset:\n",
        "!wget -O \"airbnb-listings.csv\" \"https://public.opendatasoft.com/explore/dataset/airbnb-listings/download/?format=csv&disjunctive.host_verifications=true&disjunctive.amenities=true&disjunctive.features=true&refine.country=Spain&q=Madrid&timezone=Europe/London&use_labels_for_header=true&csv_separator=%3B\""
      ]
    },
    {
      "cell_type": "code",
      "execution_count": 2,
      "metadata": {
        "colab": {
          "base_uri": "https://localhost:8080/"
        },
        "id": "s-BO8xGDGsGK",
        "outputId": "909d1d2b-c69d-411b-ba4e-00127ced69f3"
      },
      "outputs": [
        {
          "output_type": "stream",
          "name": "stdout",
          "text": [
            "total 55636\n",
            "drwxr-xr-x 1 root root     4096 Mar  6 23:24 .\n",
            "drwxr-xr-x 1 root root     4096 Mar  6 23:23 ..\n",
            "-rw-r--r-- 1 root root 56950929 Mar  6 23:25 airbnb-listings.csv\n",
            "drwxr-xr-x 4 root root     4096 Mar  3 14:33 .config\n",
            "drwxr-xr-x 1 root root     4096 Mar  3 14:33 sample_data\n"
          ]
        }
      ],
      "source": [
        "#Comprobamos que tenemos el dataset descargado:\n",
        "!ls -la"
      ]
    },
    {
      "cell_type": "markdown",
      "metadata": {
        "id": "tmuaAP-BZk3e"
      },
      "source": [
        "## Importar librerias"
      ]
    },
    {
      "cell_type": "code",
      "execution_count": 3,
      "metadata": {
        "id": "ttmK2T_NZo6y"
      },
      "outputs": [],
      "source": [
        "import pandas as pd\n",
        "from sklearn.preprocessing import StandardScaler"
      ]
    },
    {
      "cell_type": "markdown",
      "metadata": {
        "id": "OiystAXHZrSz"
      },
      "source": [
        "## Importar Dataset"
      ]
    },
    {
      "cell_type": "code",
      "execution_count": 4,
      "metadata": {
        "colab": {
          "base_uri": "https://localhost:8080/",
          "height": 785
        },
        "id": "gGiw2pPjZxU_",
        "outputId": "42a83443-1c37-4b12-bd68-754281b7decb"
      },
      "outputs": [
        {
          "output_type": "execute_result",
          "data": {
            "text/plain": [
              "        ID                           Listing Url       Scrape ID Last Scraped  \\\n",
              "0  3150371  https://www.airbnb.com/rooms/3150371  20170407214119   2017-04-08   \n",
              "1  3378181  https://www.airbnb.com/rooms/3378181  20170407214119   2017-04-08   \n",
              "2  2070750  https://www.airbnb.com/rooms/2070750  20170407214119   2017-04-08   \n",
              "3  9832499  https://www.airbnb.com/rooms/9832499  20170407214119   2017-04-08   \n",
              "4  1868170  https://www.airbnb.com/rooms/1868170  20170407214119   2017-04-08   \n",
              "\n",
              "                                  Name  \\\n",
              "0   Double room + bathroom - La Latina   \n",
              "1     Ópera/Plz Mayor -- A/C, elevator   \n",
              "2          Centric room with a balcony   \n",
              "3  PLAZA DE ESPAÑA - Único - Gimnasio.   \n",
              "4    Loft/duplex 150m2, 3 double rooms   \n",
              "\n",
              "                                             Summary  \\\n",
              "0  Double room with own bathroom in La Latina, in...   \n",
              "1  Old world charm meets modern comfort in our ne...   \n",
              "2  Lominous room for rent in the heart of the old...   \n",
              "3  Ubicado en el famoso edificio Torre de Madrid,...   \n",
              "4  Huge, open plan spacious apartment in the cent...   \n",
              "\n",
              "                                               Space  \\\n",
              "0  The apartment is spacious and cozy. It is 90 m...   \n",
              "1  Designed with the traveler in mind, our one-be...   \n",
              "2  Lominous room for rent in the heart of the old...   \n",
              "3  Ubicado en el famoso edificio Torre de Madrid,...   \n",
              "4  Huge, open plan spacious apartment in the cent...   \n",
              "\n",
              "                                         Description Experiences Offered  \\\n",
              "0  Double room with own bathroom in La Latina, in...                none   \n",
              "1  Old world charm meets modern comfort in our ne...                none   \n",
              "2  Lominous room for rent in the heart of the old...                none   \n",
              "3  Ubicado en el famoso edificio Torre de Madrid,...                none   \n",
              "4  Huge, open plan spacious apartment in the cent...                none   \n",
              "\n",
              "                               Neighborhood Overview  ...  \\\n",
              "0  La Latina is one of the most famous neighbourh...  ...   \n",
              "1  The neighborhood is steeped in history and clo...  ...   \n",
              "2                                                  -  ...   \n",
              "3                                                NaN  ...   \n",
              "4                                                NaN  ...   \n",
              "\n",
              "  Review Scores Communication Review Scores Location Review Scores Value  \\\n",
              "0                        10.0                   10.0                10.0   \n",
              "1                        10.0                   10.0                10.0   \n",
              "2                         9.0                   10.0                 9.0   \n",
              "3                        10.0                   10.0                10.0   \n",
              "4                        10.0                   10.0                 9.0   \n",
              "\n",
              "   License Jurisdiction Names Cancellation Policy  \\\n",
              "0      NaN                NaN            flexible   \n",
              "1      NaN                NaN              strict   \n",
              "2      NaN                NaN            flexible   \n",
              "3  VT-1520                NaN              strict   \n",
              "4      NaN                NaN            moderate   \n",
              "\n",
              "  Calculated host listings count Reviews per Month  \\\n",
              "0                              1              2.33   \n",
              "1                              2              2.69   \n",
              "2                              4              0.60   \n",
              "3                              9              3.56   \n",
              "4                              1              1.13   \n",
              "\n",
              "                              Geolocation  \\\n",
              "0    40.41010608050749,-3.714754034177323   \n",
              "1  40.416968822636726,-3.7094389211089993   \n",
              "2   40.40970517560235,-3.7135611928841086   \n",
              "3      40.42319271738103,-3.7112486513892   \n",
              "4  40.416513932601625,-3.7178427529546973   \n",
              "\n",
              "                                            Features  \n",
              "0  Host Has Profile Pic,Host Identity Verified,Is...  \n",
              "1  Host Has Profile Pic,Host Identity Verified,Is...  \n",
              "2  Host Has Profile Pic,Host Identity Verified,Is...  \n",
              "3  Host Is Superhost,Host Has Profile Pic,Host Id...  \n",
              "4  Host Is Superhost,Host Has Profile Pic,Host Id...  \n",
              "\n",
              "[5 rows x 89 columns]"
            ],
            "text/html": [
              "\n",
              "  <div id=\"df-81982e02-a7db-4181-85a0-7c84d26fafb8\">\n",
              "    <div class=\"colab-df-container\">\n",
              "      <div>\n",
              "<style scoped>\n",
              "    .dataframe tbody tr th:only-of-type {\n",
              "        vertical-align: middle;\n",
              "    }\n",
              "\n",
              "    .dataframe tbody tr th {\n",
              "        vertical-align: top;\n",
              "    }\n",
              "\n",
              "    .dataframe thead th {\n",
              "        text-align: right;\n",
              "    }\n",
              "</style>\n",
              "<table border=\"1\" class=\"dataframe\">\n",
              "  <thead>\n",
              "    <tr style=\"text-align: right;\">\n",
              "      <th></th>\n",
              "      <th>ID</th>\n",
              "      <th>Listing Url</th>\n",
              "      <th>Scrape ID</th>\n",
              "      <th>Last Scraped</th>\n",
              "      <th>Name</th>\n",
              "      <th>Summary</th>\n",
              "      <th>Space</th>\n",
              "      <th>Description</th>\n",
              "      <th>Experiences Offered</th>\n",
              "      <th>Neighborhood Overview</th>\n",
              "      <th>...</th>\n",
              "      <th>Review Scores Communication</th>\n",
              "      <th>Review Scores Location</th>\n",
              "      <th>Review Scores Value</th>\n",
              "      <th>License</th>\n",
              "      <th>Jurisdiction Names</th>\n",
              "      <th>Cancellation Policy</th>\n",
              "      <th>Calculated host listings count</th>\n",
              "      <th>Reviews per Month</th>\n",
              "      <th>Geolocation</th>\n",
              "      <th>Features</th>\n",
              "    </tr>\n",
              "  </thead>\n",
              "  <tbody>\n",
              "    <tr>\n",
              "      <th>0</th>\n",
              "      <td>3150371</td>\n",
              "      <td>https://www.airbnb.com/rooms/3150371</td>\n",
              "      <td>20170407214119</td>\n",
              "      <td>2017-04-08</td>\n",
              "      <td>Double room + bathroom - La Latina</td>\n",
              "      <td>Double room with own bathroom in La Latina, in...</td>\n",
              "      <td>The apartment is spacious and cozy. It is 90 m...</td>\n",
              "      <td>Double room with own bathroom in La Latina, in...</td>\n",
              "      <td>none</td>\n",
              "      <td>La Latina is one of the most famous neighbourh...</td>\n",
              "      <td>...</td>\n",
              "      <td>10.0</td>\n",
              "      <td>10.0</td>\n",
              "      <td>10.0</td>\n",
              "      <td>NaN</td>\n",
              "      <td>NaN</td>\n",
              "      <td>flexible</td>\n",
              "      <td>1</td>\n",
              "      <td>2.33</td>\n",
              "      <td>40.41010608050749,-3.714754034177323</td>\n",
              "      <td>Host Has Profile Pic,Host Identity Verified,Is...</td>\n",
              "    </tr>\n",
              "    <tr>\n",
              "      <th>1</th>\n",
              "      <td>3378181</td>\n",
              "      <td>https://www.airbnb.com/rooms/3378181</td>\n",
              "      <td>20170407214119</td>\n",
              "      <td>2017-04-08</td>\n",
              "      <td>Ópera/Plz Mayor -- A/C, elevator</td>\n",
              "      <td>Old world charm meets modern comfort in our ne...</td>\n",
              "      <td>Designed with the traveler in mind, our one-be...</td>\n",
              "      <td>Old world charm meets modern comfort in our ne...</td>\n",
              "      <td>none</td>\n",
              "      <td>The neighborhood is steeped in history and clo...</td>\n",
              "      <td>...</td>\n",
              "      <td>10.0</td>\n",
              "      <td>10.0</td>\n",
              "      <td>10.0</td>\n",
              "      <td>NaN</td>\n",
              "      <td>NaN</td>\n",
              "      <td>strict</td>\n",
              "      <td>2</td>\n",
              "      <td>2.69</td>\n",
              "      <td>40.416968822636726,-3.7094389211089993</td>\n",
              "      <td>Host Has Profile Pic,Host Identity Verified,Is...</td>\n",
              "    </tr>\n",
              "    <tr>\n",
              "      <th>2</th>\n",
              "      <td>2070750</td>\n",
              "      <td>https://www.airbnb.com/rooms/2070750</td>\n",
              "      <td>20170407214119</td>\n",
              "      <td>2017-04-08</td>\n",
              "      <td>Centric room with a balcony</td>\n",
              "      <td>Lominous room for rent in the heart of the old...</td>\n",
              "      <td>Lominous room for rent in the heart of the old...</td>\n",
              "      <td>Lominous room for rent in the heart of the old...</td>\n",
              "      <td>none</td>\n",
              "      <td>-</td>\n",
              "      <td>...</td>\n",
              "      <td>9.0</td>\n",
              "      <td>10.0</td>\n",
              "      <td>9.0</td>\n",
              "      <td>NaN</td>\n",
              "      <td>NaN</td>\n",
              "      <td>flexible</td>\n",
              "      <td>4</td>\n",
              "      <td>0.60</td>\n",
              "      <td>40.40970517560235,-3.7135611928841086</td>\n",
              "      <td>Host Has Profile Pic,Host Identity Verified,Is...</td>\n",
              "    </tr>\n",
              "    <tr>\n",
              "      <th>3</th>\n",
              "      <td>9832499</td>\n",
              "      <td>https://www.airbnb.com/rooms/9832499</td>\n",
              "      <td>20170407214119</td>\n",
              "      <td>2017-04-08</td>\n",
              "      <td>PLAZA DE ESPAÑA - Único - Gimnasio.</td>\n",
              "      <td>Ubicado en el famoso edificio Torre de Madrid,...</td>\n",
              "      <td>Ubicado en el famoso edificio Torre de Madrid,...</td>\n",
              "      <td>Ubicado en el famoso edificio Torre de Madrid,...</td>\n",
              "      <td>none</td>\n",
              "      <td>NaN</td>\n",
              "      <td>...</td>\n",
              "      <td>10.0</td>\n",
              "      <td>10.0</td>\n",
              "      <td>10.0</td>\n",
              "      <td>VT-1520</td>\n",
              "      <td>NaN</td>\n",
              "      <td>strict</td>\n",
              "      <td>9</td>\n",
              "      <td>3.56</td>\n",
              "      <td>40.42319271738103,-3.7112486513892</td>\n",
              "      <td>Host Is Superhost,Host Has Profile Pic,Host Id...</td>\n",
              "    </tr>\n",
              "    <tr>\n",
              "      <th>4</th>\n",
              "      <td>1868170</td>\n",
              "      <td>https://www.airbnb.com/rooms/1868170</td>\n",
              "      <td>20170407214119</td>\n",
              "      <td>2017-04-08</td>\n",
              "      <td>Loft/duplex 150m2, 3 double rooms</td>\n",
              "      <td>Huge, open plan spacious apartment in the cent...</td>\n",
              "      <td>Huge, open plan spacious apartment in the cent...</td>\n",
              "      <td>Huge, open plan spacious apartment in the cent...</td>\n",
              "      <td>none</td>\n",
              "      <td>NaN</td>\n",
              "      <td>...</td>\n",
              "      <td>10.0</td>\n",
              "      <td>10.0</td>\n",
              "      <td>9.0</td>\n",
              "      <td>NaN</td>\n",
              "      <td>NaN</td>\n",
              "      <td>moderate</td>\n",
              "      <td>1</td>\n",
              "      <td>1.13</td>\n",
              "      <td>40.416513932601625,-3.7178427529546973</td>\n",
              "      <td>Host Is Superhost,Host Has Profile Pic,Host Id...</td>\n",
              "    </tr>\n",
              "  </tbody>\n",
              "</table>\n",
              "<p>5 rows × 89 columns</p>\n",
              "</div>\n",
              "      <button class=\"colab-df-convert\" onclick=\"convertToInteractive('df-81982e02-a7db-4181-85a0-7c84d26fafb8')\"\n",
              "              title=\"Convert this dataframe to an interactive table.\"\n",
              "              style=\"display:none;\">\n",
              "        \n",
              "  <svg xmlns=\"http://www.w3.org/2000/svg\" height=\"24px\"viewBox=\"0 0 24 24\"\n",
              "       width=\"24px\">\n",
              "    <path d=\"M0 0h24v24H0V0z\" fill=\"none\"/>\n",
              "    <path d=\"M18.56 5.44l.94 2.06.94-2.06 2.06-.94-2.06-.94-.94-2.06-.94 2.06-2.06.94zm-11 1L8.5 8.5l.94-2.06 2.06-.94-2.06-.94L8.5 2.5l-.94 2.06-2.06.94zm10 10l.94 2.06.94-2.06 2.06-.94-2.06-.94-.94-2.06-.94 2.06-2.06.94z\"/><path d=\"M17.41 7.96l-1.37-1.37c-.4-.4-.92-.59-1.43-.59-.52 0-1.04.2-1.43.59L10.3 9.45l-7.72 7.72c-.78.78-.78 2.05 0 2.83L4 21.41c.39.39.9.59 1.41.59.51 0 1.02-.2 1.41-.59l7.78-7.78 2.81-2.81c.8-.78.8-2.07 0-2.86zM5.41 20L4 18.59l7.72-7.72 1.47 1.35L5.41 20z\"/>\n",
              "  </svg>\n",
              "      </button>\n",
              "      \n",
              "  <style>\n",
              "    .colab-df-container {\n",
              "      display:flex;\n",
              "      flex-wrap:wrap;\n",
              "      gap: 12px;\n",
              "    }\n",
              "\n",
              "    .colab-df-convert {\n",
              "      background-color: #E8F0FE;\n",
              "      border: none;\n",
              "      border-radius: 50%;\n",
              "      cursor: pointer;\n",
              "      display: none;\n",
              "      fill: #1967D2;\n",
              "      height: 32px;\n",
              "      padding: 0 0 0 0;\n",
              "      width: 32px;\n",
              "    }\n",
              "\n",
              "    .colab-df-convert:hover {\n",
              "      background-color: #E2EBFA;\n",
              "      box-shadow: 0px 1px 2px rgba(60, 64, 67, 0.3), 0px 1px 3px 1px rgba(60, 64, 67, 0.15);\n",
              "      fill: #174EA6;\n",
              "    }\n",
              "\n",
              "    [theme=dark] .colab-df-convert {\n",
              "      background-color: #3B4455;\n",
              "      fill: #D2E3FC;\n",
              "    }\n",
              "\n",
              "    [theme=dark] .colab-df-convert:hover {\n",
              "      background-color: #434B5C;\n",
              "      box-shadow: 0px 1px 3px 1px rgba(0, 0, 0, 0.15);\n",
              "      filter: drop-shadow(0px 1px 2px rgba(0, 0, 0, 0.3));\n",
              "      fill: #FFFFFF;\n",
              "    }\n",
              "  </style>\n",
              "\n",
              "      <script>\n",
              "        const buttonEl =\n",
              "          document.querySelector('#df-81982e02-a7db-4181-85a0-7c84d26fafb8 button.colab-df-convert');\n",
              "        buttonEl.style.display =\n",
              "          google.colab.kernel.accessAllowed ? 'block' : 'none';\n",
              "\n",
              "        async function convertToInteractive(key) {\n",
              "          const element = document.querySelector('#df-81982e02-a7db-4181-85a0-7c84d26fafb8');\n",
              "          const dataTable =\n",
              "            await google.colab.kernel.invokeFunction('convertToInteractive',\n",
              "                                                     [key], {});\n",
              "          if (!dataTable) return;\n",
              "\n",
              "          const docLinkHtml = 'Like what you see? Visit the ' +\n",
              "            '<a target=\"_blank\" href=https://colab.research.google.com/notebooks/data_table.ipynb>data table notebook</a>'\n",
              "            + ' to learn more about interactive tables.';\n",
              "          element.innerHTML = '';\n",
              "          dataTable['output_type'] = 'display_data';\n",
              "          await google.colab.output.renderOutput(dataTable, element);\n",
              "          const docLink = document.createElement('div');\n",
              "          docLink.innerHTML = docLinkHtml;\n",
              "          element.appendChild(docLink);\n",
              "        }\n",
              "      </script>\n",
              "    </div>\n",
              "  </div>\n",
              "  "
            ]
          },
          "metadata": {},
          "execution_count": 4
        }
      ],
      "source": [
        "#Cargamos el Dataset:\n",
        "df=pd.read_csv(\"airbnb-listings.csv\",sep = ';')\n",
        "df.head()"
      ]
    },
    {
      "cell_type": "code",
      "execution_count": 5,
      "metadata": {
        "colab": {
          "base_uri": "https://localhost:8080/"
        },
        "id": "pR32Ob9yaFl9",
        "outputId": "d8eddeb5-6429-4cc7-af55-e038f2e87db7"
      },
      "outputs": [
        {
          "output_type": "execute_result",
          "data": {
            "text/plain": [
              "(14001, 89)"
            ]
          },
          "metadata": {},
          "execution_count": 5
        }
      ],
      "source": [
        "#Dimensión de nuestro dataset\n",
        "df.shape"
      ]
    },
    {
      "cell_type": "markdown",
      "metadata": {
        "id": "FZYIc0olaNMf"
      },
      "source": [
        "Nuestro dataset tiene 14k de filas y hay 89 características diferentes disponibles."
      ]
    },
    {
      "cell_type": "code",
      "execution_count": 6,
      "metadata": {
        "colab": {
          "base_uri": "https://localhost:8080/"
        },
        "id": "_xCKGnabaUMG",
        "outputId": "770f81e7-630f-467a-de43-ec34b3c01a52"
      },
      "outputs": [
        {
          "output_type": "execute_result",
          "data": {
            "text/plain": [
              "Index(['ID', 'Listing Url', 'Scrape ID', 'Last Scraped', 'Name', 'Summary',\n",
              "       'Space', 'Description', 'Experiences Offered', 'Neighborhood Overview',\n",
              "       'Notes', 'Transit', 'Access', 'Interaction', 'House Rules',\n",
              "       'Thumbnail Url', 'Medium Url', 'Picture Url', 'XL Picture Url',\n",
              "       'Host ID', 'Host URL', 'Host Name', 'Host Since', 'Host Location',\n",
              "       'Host About', 'Host Response Time', 'Host Response Rate',\n",
              "       'Host Acceptance Rate', 'Host Thumbnail Url', 'Host Picture Url',\n",
              "       'Host Neighbourhood', 'Host Listings Count',\n",
              "       'Host Total Listings Count', 'Host Verifications', 'Street',\n",
              "       'Neighbourhood', 'Neighbourhood Cleansed',\n",
              "       'Neighbourhood Group Cleansed', 'City', 'State', 'Zipcode', 'Market',\n",
              "       'Smart Location', 'Country Code', 'Country', 'Latitude', 'Longitude',\n",
              "       'Property Type', 'Room Type', 'Accommodates', 'Bathrooms', 'Bedrooms',\n",
              "       'Beds', 'Bed Type', 'Amenities', 'Square Feet', 'Price', 'Weekly Price',\n",
              "       'Monthly Price', 'Security Deposit', 'Cleaning Fee', 'Guests Included',\n",
              "       'Extra People', 'Minimum Nights', 'Maximum Nights', 'Calendar Updated',\n",
              "       'Has Availability', 'Availability 30', 'Availability 60',\n",
              "       'Availability 90', 'Availability 365', 'Calendar last Scraped',\n",
              "       'Number of Reviews', 'First Review', 'Last Review',\n",
              "       'Review Scores Rating', 'Review Scores Accuracy',\n",
              "       'Review Scores Cleanliness', 'Review Scores Checkin',\n",
              "       'Review Scores Communication', 'Review Scores Location',\n",
              "       'Review Scores Value', 'License', 'Jurisdiction Names',\n",
              "       'Cancellation Policy', 'Calculated host listings count',\n",
              "       'Reviews per Month', 'Geolocation', 'Features'],\n",
              "      dtype='object')"
            ]
          },
          "metadata": {},
          "execution_count": 6
        }
      ],
      "source": [
        "#Las variables que tenemos:\n",
        "df.columns"
      ]
    },
    {
      "cell_type": "markdown",
      "metadata": {
        "id": "TTXZTnlaiqnF"
      },
      "source": [
        "## En las próximas lineas de codigo realizaremos:\n",
        "\n",
        "\n",
        "* Extraeremos imágenes del conjunto de datos\n",
        "* Extraeremos las columnas numéricas y las columnas categóricas.\n",
        "\n",
        "* Realizaremos la codificación en las columnas categóricas para que podamos transformar eso en numérico.\n",
        "* Después de la codificación, combinaremos todas las columnas categóricas transformadas y numéricas y esos datos se convertirán en nuestro conjunto de datos numéricos."
      ]
    },
    {
      "cell_type": "code",
      "execution_count": 7,
      "metadata": {
        "id": "PvD8UN_xaa_h",
        "colab": {
          "base_uri": "https://localhost:8080/"
        },
        "outputId": "30946d17-4319-48e6-b7a3-9c706331f4c8"
      },
      "outputs": [
        {
          "output_type": "stream",
          "name": "stdout",
          "text": [
            "Looking in indexes: https://pypi.org/simple, https://us-python.pkg.dev/colab-wheels/public/simple/\n",
            "Requirement already satisfied: opencv-python in /usr/local/lib/python3.8/dist-packages (4.6.0.66)\n",
            "Requirement already satisfied: numpy>=1.17.3 in /usr/local/lib/python3.8/dist-packages (from opencv-python) (1.22.4)\n",
            "Looking in indexes: https://pypi.org/simple, https://us-python.pkg.dev/colab-wheels/public/simple/\n",
            "Requirement already satisfied: numpy in /usr/local/lib/python3.8/dist-packages (1.22.4)\n",
            "Collecting numpy\n",
            "  Downloading numpy-1.24.2-cp38-cp38-manylinux_2_17_x86_64.manylinux2014_x86_64.whl (17.3 MB)\n",
            "\u001b[2K     \u001b[90m━━━━━━━━━━━━━━━━━━━━━━━━━━━━━━━━━━━━━━━━\u001b[0m \u001b[32m17.3/17.3 MB\u001b[0m \u001b[31m82.8 MB/s\u001b[0m eta \u001b[36m0:00:00\u001b[0m\n",
            "\u001b[?25hInstalling collected packages: numpy\n",
            "  Attempting uninstall: numpy\n",
            "    Found existing installation: numpy 1.22.4\n",
            "    Uninstalling numpy-1.22.4:\n",
            "      Successfully uninstalled numpy-1.22.4\n",
            "\u001b[31mERROR: pip's dependency resolver does not currently take into account all the packages that are installed. This behaviour is the source of the following dependency conflicts.\n",
            "numba 0.56.4 requires numpy<1.24,>=1.18, but you have numpy 1.24.2 which is incompatible.\u001b[0m\u001b[31m\n",
            "\u001b[0mSuccessfully installed numpy-1.24.2\n",
            "Imagen 0 descargada\n",
            "Imagen 1 descargada\n",
            "Imagen 2 descargada\n",
            "Imagen 3 descargada\n",
            "Imagen 4 descargada\n",
            "Imagen 5 descargada\n",
            "Imagen 7 descargada\n",
            "Imagen 8 descargada\n",
            "Imagen 10 descargada\n",
            "Imagen 11 descargada\n",
            "Imagen 12 descargada\n",
            "Imagen 13 descargada\n",
            "Imagen 14 descargada\n",
            "Imagen 15 descargada\n",
            "Imagen 16 descargada\n",
            "Imagen 18 descargada\n",
            "Imagen 19 descargada\n",
            "Imagen 20 descargada\n",
            "Imagen 21 descargada\n",
            "Imagen 24 descargada\n",
            "Imagen 25 descargada\n",
            "Imagen 27 descargada\n",
            "Imagen 33 descargada\n",
            "Imagen 35 descargada\n",
            "Imagen 36 descargada\n",
            "Imagen 37 descargada\n",
            "Imagen 41 descargada\n",
            "Imagen 42 descargada\n",
            "Imagen 44 descargada\n",
            "Imagen 47 descargada\n",
            "Imagen 48 descargada\n",
            "Imagen 49 descargada\n",
            "Imagen 51 descargada\n",
            "Imagen 54 descargada\n",
            "Imagen 57 descargada\n",
            "Imagen 59 descargada\n",
            "Imagen 61 descargada\n",
            "Imagen 62 descargada\n",
            "Imagen 64 descargada\n",
            "Imagen 67 descargada\n",
            "Imagen 69 descargada\n",
            "Imagen 70 descargada\n",
            "Imagen 72 descargada\n",
            "Imagen 74 descargada\n",
            "Imagen 76 descargada\n",
            "Imagen 77 descargada\n",
            "Imagen 79 descargada\n",
            "Imagen 80 descargada\n",
            "Imagen 81 descargada\n",
            "Imagen 83 descargada\n",
            "Imagen 86 descargada\n",
            "Imagen 87 descargada\n",
            "Imagen 88 descargada\n",
            "Imagen 91 descargada\n",
            "Imagen 92 descargada\n",
            "Imagen 93 descargada\n",
            "Imagen 94 descargada\n",
            "Imagen 95 descargada\n",
            "Imagen 96 descargada\n",
            "Imagen 98 descargada\n",
            "Imagen 99 descargada\n",
            "Imagen 100 descargada\n",
            "Imagen 101 descargada\n",
            "Imagen 102 descargada\n",
            "Imagen 103 descargada\n",
            "Imagen 104 descargada\n",
            "Imagen 105 descargada\n",
            "Imagen 106 descargada\n",
            "Imagen 107 descargada\n",
            "Imagen 109 descargada\n",
            "Imagen 110 descargada\n",
            "Imagen 112 descargada\n",
            "Imagen 113 descargada\n",
            "Imagen 114 descargada\n",
            "Imagen 117 descargada\n",
            "Imagen 118 descargada\n",
            "Imagen 121 descargada\n",
            "Imagen 122 descargada\n",
            "Imagen 123 descargada\n",
            "Imagen 126 descargada\n",
            "Imagen 127 descargada\n",
            "Imagen 128 descargada\n",
            "Imagen 131 descargada\n",
            "Imagen 132 descargada\n",
            "Imagen 134 descargada\n",
            "Imagen 135 descargada\n",
            "Imagen 136 descargada\n",
            "Imagen 139 descargada\n",
            "Imagen 140 descargada\n",
            "Imagen 145 descargada\n",
            "Imagen 146 descargada\n",
            "Imagen 148 descargada\n",
            "Imagen 149 descargada\n",
            "Imagen 153 descargada\n",
            "Imagen 154 descargada\n",
            "Imagen 156 descargada\n",
            "Imagen 157 descargada\n",
            "Imagen 160 descargada\n",
            "Imagen 162 descargada\n",
            "Imagen 163 descargada\n",
            "Imagen 165 descargada\n",
            "Imagen 166 descargada\n",
            "Imagen 171 descargada\n",
            "Imagen 172 descargada\n",
            "Imagen 174 descargada\n",
            "Imagen 176 descargada\n",
            "Imagen 180 descargada\n",
            "Imagen 181 descargada\n",
            "Imagen 182 descargada\n",
            "Imagen 183 descargada\n",
            "Imagen 184 descargada\n",
            "Imagen 185 descargada\n",
            "Imagen 188 descargada\n",
            "Imagen 190 descargada\n",
            "Imagen 191 descargada\n",
            "Imagen 195 descargada\n",
            "Imagen 197 descargada\n",
            "Imagen 198 descargada\n",
            "Imagen 199 descargada\n",
            "Imagen 200 descargada\n",
            "Imagen 201 descargada\n",
            "Imagen 202 descargada\n",
            "Imagen 203 descargada\n",
            "Imagen 204 descargada\n",
            "Imagen 208 descargada\n",
            "Imagen 209 descargada\n",
            "Imagen 210 descargada\n",
            "Imagen 211 descargada\n",
            "Imagen 212 descargada\n",
            "Imagen 213 descargada\n",
            "Imagen 214 descargada\n",
            "Imagen 215 descargada\n",
            "Imagen 216 descargada\n",
            "Imagen 217 descargada\n",
            "Imagen 221 descargada\n",
            "Imagen 227 descargada\n",
            "Imagen 228 descargada\n",
            "Imagen 229 descargada\n",
            "Imagen 230 descargada\n",
            "Imagen 231 descargada\n",
            "Imagen 232 descargada\n",
            "Imagen 233 descargada\n",
            "Imagen 235 descargada\n",
            "Imagen 236 descargada\n",
            "Imagen 237 descargada\n",
            "Imagen 238 descargada\n",
            "Imagen 239 descargada\n",
            "Imagen 242 descargada\n",
            "Imagen 243 descargada\n",
            "Imagen 244 descargada\n",
            "Imagen 245 descargada\n",
            "Imagen 246 descargada\n",
            "Imagen 247 descargada\n",
            "Imagen 248 descargada\n",
            "Imagen 249 descargada\n",
            "Imagen 250 descargada\n",
            "Imagen 251 descargada\n",
            "Imagen 252 descargada\n",
            "Imagen 254 descargada\n",
            "Imagen 255 descargada\n",
            "Imagen 256 descargada\n",
            "Imagen 258 descargada\n",
            "Imagen 260 descargada\n",
            "Imagen 261 descargada\n",
            "Imagen 262 descargada\n",
            "Imagen 264 descargada\n",
            "Imagen 265 descargada\n",
            "Imagen 267 descargada\n",
            "Imagen 268 descargada\n",
            "Imagen 269 descargada\n",
            "Imagen 270 descargada\n",
            "Imagen 271 descargada\n",
            "Imagen 272 descargada\n",
            "Imagen 273 descargada\n",
            "Imagen 274 descargada\n",
            "Imagen 275 descargada\n",
            "Imagen 276 descargada\n",
            "Imagen 277 descargada\n",
            "Imagen 278 descargada\n",
            "Imagen 279 descargada\n",
            "Imagen 280 descargada\n",
            "Imagen 281 descargada\n",
            "Imagen 283 descargada\n",
            "Imagen 284 descargada\n",
            "Imagen 286 descargada\n",
            "Imagen 288 descargada\n",
            "Imagen 289 descargada\n",
            "Imagen 290 descargada\n",
            "Imagen 291 descargada\n",
            "Imagen 292 descargada\n",
            "Imagen 293 descargada\n",
            "Imagen 295 descargada\n",
            "Imagen 296 descargada\n",
            "Imagen 297 descargada\n",
            "Imagen 299 descargada\n",
            "Imagen 300 descargada\n",
            "Imagen 301 descargada\n",
            "Imagen 302 descargada\n",
            "Imagen 304 descargada\n",
            "Imagen 305 descargada\n",
            "Imagen 307 descargada\n",
            "Imagen 311 descargada\n",
            "Imagen 312 descargada\n",
            "Imagen 314 descargada\n",
            "Imagen 315 descargada\n",
            "Imagen 318 descargada\n",
            "Imagen 319 descargada\n",
            "Imagen 320 descargada\n",
            "Imagen 321 descargada\n",
            "Imagen 322 descargada\n",
            "Imagen 323 descargada\n",
            "Imagen 324 descargada\n",
            "Imagen 325 descargada\n",
            "Imagen 326 descargada\n",
            "Imagen 327 descargada\n",
            "Imagen 329 descargada\n",
            "Imagen 331 descargada\n",
            "Imagen 332 descargada\n",
            "Imagen 334 descargada\n",
            "Imagen 338 descargada\n",
            "Imagen 339 descargada\n",
            "Imagen 340 descargada\n",
            "Imagen 344 descargada\n",
            "Imagen 345 descargada\n",
            "Imagen 346 descargada\n",
            "Imagen 347 descargada\n",
            "Imagen 348 descargada\n",
            "Imagen 349 descargada\n",
            "Imagen 352 descargada\n",
            "Imagen 353 descargada\n",
            "Imagen 354 descargada\n",
            "Imagen 355 descargada\n",
            "Imagen 358 descargada\n",
            "Imagen 359 descargada\n",
            "Imagen 360 descargada\n",
            "Imagen 361 descargada\n",
            "Imagen 362 descargada\n",
            "Imagen 363 descargada\n",
            "Imagen 364 descargada\n",
            "Imagen 365 descargada\n",
            "Imagen 366 descargada\n",
            "Imagen 367 descargada\n",
            "Imagen 368 descargada\n",
            "Imagen 369 descargada\n",
            "Imagen 372 descargada\n",
            "Imagen 373 descargada\n",
            "Imagen 375 descargada\n",
            "Imagen 376 descargada\n",
            "Imagen 377 descargada\n",
            "Imagen 379 descargada\n",
            "Imagen 380 descargada\n",
            "Imagen 381 descargada\n",
            "Imagen 383 descargada\n",
            "Imagen 384 descargada\n",
            "Imagen 385 descargada\n",
            "Imagen 386 descargada\n",
            "Imagen 387 descargada\n",
            "Imagen 389 descargada\n",
            "Imagen 390 descargada\n",
            "Imagen 391 descargada\n",
            "Imagen 392 descargada\n",
            "Imagen 396 descargada\n",
            "Imagen 398 descargada\n",
            "Imagen 399 descargada\n",
            "Imagen 400 descargada\n",
            "Imagen 401 descargada\n",
            "Imagen 402 descargada\n",
            "Imagen 403 descargada\n",
            "Imagen 407 descargada\n",
            "Imagen 408 descargada\n",
            "Imagen 410 descargada\n",
            "Imagen 411 descargada\n",
            "Imagen 412 descargada\n",
            "Imagen 414 descargada\n",
            "Imagen 415 descargada\n",
            "Imagen 416 descargada\n",
            "Imagen 417 descargada\n",
            "Imagen 419 descargada\n",
            "Imagen 421 descargada\n",
            "Imagen 422 descargada\n",
            "Imagen 423 descargada\n",
            "Imagen 424 descargada\n",
            "Imagen 426 descargada\n",
            "Imagen 427 descargada\n",
            "Imagen 428 descargada\n",
            "Imagen 429 descargada\n",
            "Imagen 430 descargada\n",
            "Imagen 431 descargada\n",
            "Imagen 432 descargada\n",
            "Imagen 437 descargada\n",
            "Imagen 438 descargada\n",
            "Imagen 439 descargada\n",
            "Imagen 440 descargada\n",
            "Imagen 441 descargada\n",
            "Imagen 442 descargada\n",
            "Imagen 443 descargada\n",
            "Imagen 447 descargada\n",
            "Imagen 448 descargada\n",
            "Imagen 452 descargada\n",
            "Imagen 453 descargada\n",
            "Imagen 456 descargada\n",
            "Imagen 457 descargada\n",
            "Imagen 460 descargada\n",
            "Imagen 461 descargada\n",
            "Imagen 462 descargada\n",
            "Imagen 463 descargada\n",
            "Imagen 464 descargada\n",
            "Imagen 465 descargada\n",
            "Imagen 466 descargada\n",
            "Imagen 467 descargada\n",
            "Imagen 469 descargada\n",
            "Imagen 470 descargada\n",
            "Imagen 471 descargada\n",
            "Imagen 472 descargada\n",
            "Imagen 474 descargada\n",
            "Imagen 476 descargada\n",
            "Imagen 477 descargada\n",
            "Imagen 478 descargada\n",
            "Imagen 479 descargada\n",
            "Imagen 481 descargada\n",
            "Imagen 482 descargada\n",
            "Imagen 483 descargada\n",
            "Imagen 490 descargada\n",
            "Imagen 491 descargada\n",
            "Imagen 497 descargada\n",
            "Imagen 498 descargada\n",
            "Imagen 499 descargada\n",
            "Imagen 501 descargada\n",
            "Imagen 503 descargada\n",
            "Imagen 504 descargada\n",
            "Imagen 505 descargada\n",
            "Imagen 506 descargada\n",
            "Imagen 507 descargada\n",
            "Imagen 508 descargada\n",
            "Imagen 510 descargada\n",
            "Imagen 511 descargada\n",
            "Imagen 512 descargada\n",
            "Imagen 513 descargada\n",
            "Imagen 514 descargada\n",
            "Imagen 517 descargada\n",
            "Imagen 519 descargada\n",
            "Imagen 520 descargada\n",
            "Imagen 522 descargada\n",
            "Imagen 523 descargada\n",
            "Imagen 524 descargada\n",
            "Imagen 526 descargada\n",
            "Imagen 527 descargada\n",
            "Imagen 528 descargada\n",
            "Imagen 529 descargada\n",
            "Imagen 531 descargada\n",
            "Imagen 532 descargada\n",
            "Imagen 537 descargada\n",
            "Imagen 538 descargada\n",
            "Imagen 540 descargada\n",
            "Imagen 541 descargada\n",
            "Imagen 545 descargada\n",
            "Imagen 546 descargada\n",
            "Imagen 547 descargada\n",
            "Imagen 548 descargada\n",
            "Imagen 549 descargada\n",
            "Imagen 550 descargada\n",
            "Imagen 551 descargada\n",
            "Imagen 552 descargada\n",
            "Imagen 553 descargada\n",
            "Imagen 557 descargada\n",
            "Imagen 559 descargada\n",
            "Imagen 560 descargada\n",
            "Imagen 562 descargada\n",
            "Imagen 563 descargada\n",
            "Imagen 564 descargada\n",
            "Imagen 567 descargada\n",
            "Imagen 569 descargada\n",
            "Imagen 570 descargada\n",
            "Imagen 572 descargada\n",
            "Imagen 573 descargada\n",
            "Imagen 575 descargada\n",
            "Imagen 576 descargada\n",
            "Imagen 577 descargada\n",
            "Imagen 578 descargada\n",
            "Imagen 580 descargada\n",
            "Imagen 582 descargada\n",
            "Imagen 585 descargada\n",
            "Imagen 587 descargada\n",
            "Imagen 588 descargada\n",
            "Imagen 589 descargada\n",
            "Imagen 594 descargada\n",
            "Imagen 595 descargada\n",
            "Imagen 596 descargada\n",
            "Imagen 597 descargada\n",
            "Imagen 599 descargada\n",
            "Imagen 600 descargada\n",
            "Imagen 601 descargada\n",
            "Imagen 602 descargada\n",
            "Imagen 603 descargada\n",
            "Imagen 605 descargada\n",
            "Imagen 606 descargada\n",
            "Imagen 608 descargada\n",
            "Imagen 610 descargada\n",
            "Imagen 611 descargada\n",
            "Imagen 612 descargada\n",
            "Imagen 613 descargada\n",
            "Imagen 614 descargada\n",
            "Imagen 617 descargada\n",
            "Imagen 618 descargada\n",
            "Imagen 620 descargada\n",
            "Imagen 621 descargada\n",
            "Imagen 622 descargada\n",
            "Imagen 623 descargada\n",
            "Imagen 624 descargada\n",
            "Imagen 625 descargada\n",
            "Imagen 626 descargada\n",
            "Imagen 627 descargada\n",
            "Imagen 628 descargada\n",
            "Imagen 633 descargada\n",
            "Imagen 641 descargada\n",
            "Imagen 642 descargada\n",
            "Imagen 643 descargada\n",
            "Imagen 644 descargada\n",
            "Imagen 646 descargada\n",
            "Imagen 647 descargada\n",
            "Imagen 648 descargada\n",
            "Imagen 649 descargada\n",
            "Imagen 650 descargada\n",
            "Imagen 653 descargada\n",
            "Imagen 654 descargada\n",
            "Imagen 655 descargada\n",
            "Imagen 660 descargada\n",
            "Imagen 661 descargada\n",
            "Imagen 665 descargada\n",
            "Imagen 667 descargada\n",
            "Imagen 669 descargada\n",
            "Imagen 670 descargada\n",
            "Imagen 671 descargada\n",
            "Imagen 672 descargada\n",
            "Imagen 673 descargada\n",
            "Imagen 676 descargada\n",
            "Imagen 678 descargada\n",
            "Imagen 680 descargada\n",
            "Imagen 681 descargada\n",
            "Imagen 682 descargada\n",
            "Imagen 684 descargada\n",
            "Imagen 688 descargada\n",
            "Imagen 689 descargada\n",
            "Imagen 690 descargada\n",
            "Imagen 692 descargada\n",
            "Imagen 694 descargada\n",
            "Imagen 695 descargada\n",
            "Imagen 696 descargada\n",
            "Imagen 697 descargada\n",
            "Imagen 698 descargada\n",
            "Imagen 699 descargada\n",
            "Imagen 700 descargada\n",
            "Imagen 701 descargada\n",
            "Imagen 702 descargada\n",
            "Imagen 704 descargada\n",
            "Imagen 705 descargada\n",
            "Imagen 708 descargada\n",
            "Imagen 709 descargada\n",
            "Imagen 710 descargada\n",
            "Imagen 712 descargada\n",
            "Imagen 713 descargada\n",
            "Imagen 714 descargada\n",
            "Imagen 715 descargada\n",
            "Imagen 717 descargada\n",
            "Imagen 721 descargada\n",
            "Imagen 722 descargada\n",
            "Imagen 723 descargada\n",
            "Imagen 725 descargada\n",
            "Imagen 726 descargada\n",
            "Imagen 729 descargada\n",
            "Imagen 730 descargada\n",
            "Imagen 731 descargada\n",
            "Imagen 732 descargada\n",
            "Imagen 733 descargada\n",
            "Imagen 734 descargada\n",
            "Imagen 735 descargada\n",
            "Imagen 736 descargada\n",
            "Imagen 737 descargada\n",
            "Imagen 740 descargada\n",
            "Imagen 741 descargada\n",
            "Imagen 742 descargada\n",
            "Imagen 745 descargada\n",
            "Imagen 746 descargada\n",
            "Imagen 748 descargada\n",
            "Imagen 750 descargada\n",
            "Imagen 751 descargada\n",
            "Imagen 753 descargada\n",
            "Imagen 755 descargada\n",
            "Imagen 756 descargada\n",
            "Imagen 757 descargada\n",
            "Imagen 758 descargada\n",
            "Imagen 760 descargada\n",
            "Imagen 763 descargada\n",
            "Imagen 765 descargada\n",
            "Imagen 766 descargada\n",
            "Imagen 767 descargada\n",
            "Imagen 768 descargada\n",
            "Imagen 769 descargada\n",
            "Imagen 770 descargada\n",
            "Imagen 771 descargada\n",
            "Imagen 772 descargada\n",
            "Imagen 773 descargada\n",
            "Imagen 774 descargada\n",
            "Imagen 775 descargada\n",
            "Imagen 776 descargada\n",
            "Imagen 777 descargada\n",
            "Imagen 778 descargada\n",
            "Imagen 779 descargada\n",
            "Imagen 780 descargada\n",
            "Imagen 784 descargada\n",
            "Imagen 785 descargada\n",
            "Imagen 786 descargada\n",
            "Imagen 788 descargada\n",
            "Imagen 789 descargada\n",
            "Imagen 790 descargada\n",
            "Imagen 791 descargada\n",
            "Imagen 793 descargada\n",
            "Imagen 794 descargada\n",
            "Imagen 795 descargada\n",
            "Imagen 796 descargada\n",
            "Imagen 798 descargada\n",
            "Imagen 799 descargada\n",
            "Imagen 800 descargada\n",
            "Imagen 801 descargada\n",
            "Imagen 803 descargada\n",
            "Imagen 806 descargada\n",
            "Imagen 807 descargada\n",
            "Imagen 808 descargada\n",
            "Imagen 810 descargada\n",
            "Imagen 811 descargada\n",
            "Imagen 812 descargada\n",
            "Imagen 816 descargada\n",
            "Imagen 818 descargada\n",
            "Imagen 819 descargada\n",
            "Imagen 820 descargada\n",
            "Imagen 822 descargada\n",
            "Imagen 823 descargada\n",
            "Imagen 824 descargada\n",
            "Imagen 825 descargada\n",
            "Imagen 826 descargada\n",
            "Imagen 828 descargada\n",
            "Imagen 832 descargada\n",
            "Imagen 833 descargada\n",
            "Imagen 835 descargada\n",
            "Imagen 836 descargada\n",
            "Imagen 837 descargada\n",
            "Imagen 838 descargada\n",
            "Imagen 840 descargada\n",
            "Imagen 841 descargada\n",
            "Imagen 842 descargada\n",
            "Imagen 843 descargada\n",
            "Imagen 844 descargada\n",
            "Imagen 845 descargada\n",
            "Imagen 846 descargada\n",
            "Imagen 847 descargada\n",
            "Imagen 849 descargada\n",
            "Imagen 850 descargada\n",
            "Imagen 851 descargada\n",
            "Imagen 853 descargada\n",
            "Imagen 856 descargada\n",
            "Imagen 860 descargada\n",
            "Imagen 862 descargada\n",
            "Imagen 863 descargada\n",
            "Imagen 865 descargada\n",
            "Imagen 866 descargada\n",
            "Imagen 870 descargada\n",
            "Imagen 871 descargada\n",
            "Imagen 873 descargada\n",
            "Imagen 875 descargada\n",
            "Imagen 876 descargada\n",
            "Imagen 878 descargada\n",
            "Imagen 879 descargada\n",
            "Imagen 880 descargada\n",
            "Imagen 881 descargada\n",
            "Imagen 883 descargada\n",
            "Imagen 885 descargada\n",
            "Imagen 887 descargada\n",
            "Imagen 888 descargada\n",
            "Imagen 889 descargada\n",
            "Imagen 891 descargada\n",
            "Imagen 895 descargada\n",
            "Imagen 897 descargada\n",
            "Imagen 899 descargada\n",
            "Imagen 900 descargada\n",
            "Imagen 903 descargada\n",
            "Imagen 904 descargada\n",
            "Imagen 905 descargada\n",
            "Imagen 908 descargada\n",
            "Imagen 909 descargada\n",
            "Imagen 911 descargada\n",
            "Imagen 916 descargada\n",
            "Imagen 917 descargada\n",
            "Imagen 918 descargada\n",
            "Imagen 919 descargada\n",
            "Imagen 921 descargada\n",
            "Imagen 922 descargada\n",
            "Imagen 923 descargada\n",
            "Imagen 924 descargada\n",
            "Imagen 925 descargada\n",
            "Imagen 926 descargada\n",
            "Imagen 928 descargada\n",
            "Imagen 929 descargada\n",
            "Imagen 930 descargada\n",
            "Imagen 932 descargada\n",
            "Imagen 933 descargada\n",
            "Imagen 937 descargada\n",
            "Imagen 939 descargada\n",
            "Imagen 940 descargada\n",
            "Imagen 943 descargada\n",
            "Imagen 944 descargada\n",
            "Imagen 945 descargada\n",
            "Imagen 947 descargada\n",
            "Imagen 950 descargada\n",
            "Imagen 951 descargada\n",
            "Imagen 953 descargada\n",
            "Imagen 954 descargada\n",
            "Imagen 955 descargada\n",
            "Imagen 956 descargada\n",
            "Imagen 957 descargada\n",
            "Imagen 960 descargada\n",
            "Imagen 961 descargada\n",
            "Imagen 962 descargada\n",
            "Imagen 965 descargada\n",
            "Imagen 967 descargada\n",
            "Imagen 968 descargada\n",
            "Imagen 969 descargada\n",
            "Imagen 971 descargada\n",
            "Imagen 972 descargada\n",
            "Imagen 974 descargada\n",
            "Imagen 975 descargada\n",
            "Imagen 978 descargada\n",
            "Imagen 979 descargada\n",
            "Imagen 982 descargada\n",
            "Imagen 984 descargada\n",
            "Imagen 985 descargada\n",
            "Imagen 986 descargada\n",
            "Imagen 987 descargada\n",
            "Imagen 988 descargada\n",
            "Imagen 993 descargada\n",
            "Imagen 995 descargada\n",
            "Imagen 997 descargada\n",
            "Imagen 998 descargada\n",
            "Imagen 999 descargada\n",
            "Imagen 1001 descargada\n",
            "Imagen 1003 descargada\n",
            "Imagen 1007 descargada\n",
            "Imagen 1008 descargada\n",
            "Imagen 1009 descargada\n",
            "Imagen 1011 descargada\n",
            "Imagen 1015 descargada\n",
            "Imagen 1018 descargada\n",
            "Imagen 1019 descargada\n",
            "Imagen 1021 descargada\n",
            "Imagen 1023 descargada\n",
            "Imagen 1024 descargada\n",
            "Imagen 1026 descargada\n",
            "Imagen 1029 descargada\n",
            "Imagen 1031 descargada\n",
            "Imagen 1033 descargada\n",
            "Imagen 1034 descargada\n",
            "Imagen 1035 descargada\n",
            "Imagen 1036 descargada\n",
            "Imagen 1037 descargada\n",
            "Imagen 1040 descargada\n",
            "Imagen 1041 descargada\n",
            "Imagen 1042 descargada\n",
            "Imagen 1044 descargada\n",
            "Imagen 1046 descargada\n",
            "Imagen 1047 descargada\n",
            "Imagen 1048 descargada\n",
            "Imagen 1049 descargada\n",
            "Imagen 1050 descargada\n",
            "Imagen 1053 descargada\n",
            "Imagen 1054 descargada\n",
            "Imagen 1056 descargada\n",
            "Imagen 1057 descargada\n",
            "Imagen 1058 descargada\n",
            "Imagen 1059 descargada\n",
            "Imagen 1062 descargada\n",
            "Imagen 1063 descargada\n",
            "Imagen 1065 descargada\n",
            "Imagen 1066 descargada\n",
            "Imagen 1067 descargada\n",
            "Imagen 1069 descargada\n",
            "Imagen 1070 descargada\n",
            "Imagen 1074 descargada\n",
            "Imagen 1075 descargada\n",
            "Imagen 1077 descargada\n",
            "Imagen 1078 descargada\n",
            "Imagen 1079 descargada\n",
            "Imagen 1080 descargada\n",
            "Imagen 1081 descargada\n",
            "Imagen 1082 descargada\n",
            "Imagen 1083 descargada\n",
            "Imagen 1084 descargada\n",
            "Imagen 1086 descargada\n",
            "Imagen 1088 descargada\n",
            "Imagen 1089 descargada\n",
            "Imagen 1090 descargada\n",
            "Imagen 1091 descargada\n"
          ]
        }
      ],
      "source": [
        "#Extracción de las imágenes del dataset:\n",
        "!pip install opencv-python\n",
        "!pip install -U numpy\n",
        "\n",
        "import imageio as io\n",
        "import numpy as np\n",
        "import cv2\n",
        "n_images =700\n",
        "images = np.zeros((n_images, 64, 64, 3), dtype=np.uint8)\n",
        "urls = df['Thumbnail Url']\n",
        "\n",
        "i_aux = 0\n",
        "good_urls = []\n",
        "for i_img, url in enumerate(urls):\n",
        "    if len(good_urls) >= n_images:\n",
        "        break\n",
        "    try:\n",
        "        img = io.imread(url)\n",
        "        images[i_aux] = cv2.resize(img, (64, 64))\n",
        "        good_urls.append(i_img)\n",
        "        i_aux += 1\n",
        "        print(f'Imagen {i_img} descargada')\n",
        "    except IOError as err:\n",
        "        pass"
      ]
    },
    {
      "cell_type": "code",
      "execution_count": 8,
      "metadata": {
        "id": "eeV2SKpPjgdV",
        "colab": {
          "base_uri": "https://localhost:8080/"
        },
        "outputId": "f0876f12-c9e1-4572-f1d4-357479a51b26"
      },
      "outputs": [
        {
          "output_type": "execute_result",
          "data": {
            "text/plain": [
              "(700, 89)"
            ]
          },
          "metadata": {},
          "execution_count": 8
        }
      ],
      "source": [
        "#Ahora hemos agregado las imágenes en la lista good_url:\n",
        "  #mantener los datos numéricos solo para aquellos pisos que tienen imágenes\n",
        "   #y los hemos obtenido:\n",
        "data = df.iloc[good_urls, :]\n",
        "data.shape"
      ]
    },
    {
      "cell_type": "markdown",
      "metadata": {
        "id": "RS7aeVe7k2i-"
      },
      "source": [
        "Entonces, en el código anterior, hemos extraído el conjunto de datos tanto como extraemos las imágenes."
      ]
    },
    {
      "cell_type": "code",
      "execution_count": 9,
      "metadata": {
        "id": "U_BaXzoEkt__",
        "colab": {
          "base_uri": "https://localhost:8080/",
          "height": 785
        },
        "outputId": "191696e3-76b7-44ad-f899-24a609532b1d"
      },
      "outputs": [
        {
          "output_type": "execute_result",
          "data": {
            "text/plain": [
              "        ID                           Listing Url       Scrape ID Last Scraped  \\\n",
              "0  3150371  https://www.airbnb.com/rooms/3150371  20170407214119   2017-04-08   \n",
              "1  3378181  https://www.airbnb.com/rooms/3378181  20170407214119   2017-04-08   \n",
              "2  2070750  https://www.airbnb.com/rooms/2070750  20170407214119   2017-04-08   \n",
              "3  9832499  https://www.airbnb.com/rooms/9832499  20170407214119   2017-04-08   \n",
              "4  1868170  https://www.airbnb.com/rooms/1868170  20170407214119   2017-04-08   \n",
              "\n",
              "                                  Name  \\\n",
              "0   Double room + bathroom - La Latina   \n",
              "1     Ópera/Plz Mayor -- A/C, elevator   \n",
              "2          Centric room with a balcony   \n",
              "3  PLAZA DE ESPAÑA - Único - Gimnasio.   \n",
              "4    Loft/duplex 150m2, 3 double rooms   \n",
              "\n",
              "                                             Summary  \\\n",
              "0  Double room with own bathroom in La Latina, in...   \n",
              "1  Old world charm meets modern comfort in our ne...   \n",
              "2  Lominous room for rent in the heart of the old...   \n",
              "3  Ubicado en el famoso edificio Torre de Madrid,...   \n",
              "4  Huge, open plan spacious apartment in the cent...   \n",
              "\n",
              "                                               Space  \\\n",
              "0  The apartment is spacious and cozy. It is 90 m...   \n",
              "1  Designed with the traveler in mind, our one-be...   \n",
              "2  Lominous room for rent in the heart of the old...   \n",
              "3  Ubicado en el famoso edificio Torre de Madrid,...   \n",
              "4  Huge, open plan spacious apartment in the cent...   \n",
              "\n",
              "                                         Description Experiences Offered  \\\n",
              "0  Double room with own bathroom in La Latina, in...                none   \n",
              "1  Old world charm meets modern comfort in our ne...                none   \n",
              "2  Lominous room for rent in the heart of the old...                none   \n",
              "3  Ubicado en el famoso edificio Torre de Madrid,...                none   \n",
              "4  Huge, open plan spacious apartment in the cent...                none   \n",
              "\n",
              "                               Neighborhood Overview  ...  \\\n",
              "0  La Latina is one of the most famous neighbourh...  ...   \n",
              "1  The neighborhood is steeped in history and clo...  ...   \n",
              "2                                                  -  ...   \n",
              "3                                                NaN  ...   \n",
              "4                                                NaN  ...   \n",
              "\n",
              "  Review Scores Communication Review Scores Location Review Scores Value  \\\n",
              "0                        10.0                   10.0                10.0   \n",
              "1                        10.0                   10.0                10.0   \n",
              "2                         9.0                   10.0                 9.0   \n",
              "3                        10.0                   10.0                10.0   \n",
              "4                        10.0                   10.0                 9.0   \n",
              "\n",
              "   License Jurisdiction Names Cancellation Policy  \\\n",
              "0      NaN                NaN            flexible   \n",
              "1      NaN                NaN              strict   \n",
              "2      NaN                NaN            flexible   \n",
              "3  VT-1520                NaN              strict   \n",
              "4      NaN                NaN            moderate   \n",
              "\n",
              "  Calculated host listings count Reviews per Month  \\\n",
              "0                              1              2.33   \n",
              "1                              2              2.69   \n",
              "2                              4              0.60   \n",
              "3                              9              3.56   \n",
              "4                              1              1.13   \n",
              "\n",
              "                              Geolocation  \\\n",
              "0    40.41010608050749,-3.714754034177323   \n",
              "1  40.416968822636726,-3.7094389211089993   \n",
              "2   40.40970517560235,-3.7135611928841086   \n",
              "3      40.42319271738103,-3.7112486513892   \n",
              "4  40.416513932601625,-3.7178427529546973   \n",
              "\n",
              "                                            Features  \n",
              "0  Host Has Profile Pic,Host Identity Verified,Is...  \n",
              "1  Host Has Profile Pic,Host Identity Verified,Is...  \n",
              "2  Host Has Profile Pic,Host Identity Verified,Is...  \n",
              "3  Host Is Superhost,Host Has Profile Pic,Host Id...  \n",
              "4  Host Is Superhost,Host Has Profile Pic,Host Id...  \n",
              "\n",
              "[5 rows x 89 columns]"
            ],
            "text/html": [
              "\n",
              "  <div id=\"df-0fd91813-6c09-4384-b10b-bdee2a2bed63\">\n",
              "    <div class=\"colab-df-container\">\n",
              "      <div>\n",
              "<style scoped>\n",
              "    .dataframe tbody tr th:only-of-type {\n",
              "        vertical-align: middle;\n",
              "    }\n",
              "\n",
              "    .dataframe tbody tr th {\n",
              "        vertical-align: top;\n",
              "    }\n",
              "\n",
              "    .dataframe thead th {\n",
              "        text-align: right;\n",
              "    }\n",
              "</style>\n",
              "<table border=\"1\" class=\"dataframe\">\n",
              "  <thead>\n",
              "    <tr style=\"text-align: right;\">\n",
              "      <th></th>\n",
              "      <th>ID</th>\n",
              "      <th>Listing Url</th>\n",
              "      <th>Scrape ID</th>\n",
              "      <th>Last Scraped</th>\n",
              "      <th>Name</th>\n",
              "      <th>Summary</th>\n",
              "      <th>Space</th>\n",
              "      <th>Description</th>\n",
              "      <th>Experiences Offered</th>\n",
              "      <th>Neighborhood Overview</th>\n",
              "      <th>...</th>\n",
              "      <th>Review Scores Communication</th>\n",
              "      <th>Review Scores Location</th>\n",
              "      <th>Review Scores Value</th>\n",
              "      <th>License</th>\n",
              "      <th>Jurisdiction Names</th>\n",
              "      <th>Cancellation Policy</th>\n",
              "      <th>Calculated host listings count</th>\n",
              "      <th>Reviews per Month</th>\n",
              "      <th>Geolocation</th>\n",
              "      <th>Features</th>\n",
              "    </tr>\n",
              "  </thead>\n",
              "  <tbody>\n",
              "    <tr>\n",
              "      <th>0</th>\n",
              "      <td>3150371</td>\n",
              "      <td>https://www.airbnb.com/rooms/3150371</td>\n",
              "      <td>20170407214119</td>\n",
              "      <td>2017-04-08</td>\n",
              "      <td>Double room + bathroom - La Latina</td>\n",
              "      <td>Double room with own bathroom in La Latina, in...</td>\n",
              "      <td>The apartment is spacious and cozy. It is 90 m...</td>\n",
              "      <td>Double room with own bathroom in La Latina, in...</td>\n",
              "      <td>none</td>\n",
              "      <td>La Latina is one of the most famous neighbourh...</td>\n",
              "      <td>...</td>\n",
              "      <td>10.0</td>\n",
              "      <td>10.0</td>\n",
              "      <td>10.0</td>\n",
              "      <td>NaN</td>\n",
              "      <td>NaN</td>\n",
              "      <td>flexible</td>\n",
              "      <td>1</td>\n",
              "      <td>2.33</td>\n",
              "      <td>40.41010608050749,-3.714754034177323</td>\n",
              "      <td>Host Has Profile Pic,Host Identity Verified,Is...</td>\n",
              "    </tr>\n",
              "    <tr>\n",
              "      <th>1</th>\n",
              "      <td>3378181</td>\n",
              "      <td>https://www.airbnb.com/rooms/3378181</td>\n",
              "      <td>20170407214119</td>\n",
              "      <td>2017-04-08</td>\n",
              "      <td>Ópera/Plz Mayor -- A/C, elevator</td>\n",
              "      <td>Old world charm meets modern comfort in our ne...</td>\n",
              "      <td>Designed with the traveler in mind, our one-be...</td>\n",
              "      <td>Old world charm meets modern comfort in our ne...</td>\n",
              "      <td>none</td>\n",
              "      <td>The neighborhood is steeped in history and clo...</td>\n",
              "      <td>...</td>\n",
              "      <td>10.0</td>\n",
              "      <td>10.0</td>\n",
              "      <td>10.0</td>\n",
              "      <td>NaN</td>\n",
              "      <td>NaN</td>\n",
              "      <td>strict</td>\n",
              "      <td>2</td>\n",
              "      <td>2.69</td>\n",
              "      <td>40.416968822636726,-3.7094389211089993</td>\n",
              "      <td>Host Has Profile Pic,Host Identity Verified,Is...</td>\n",
              "    </tr>\n",
              "    <tr>\n",
              "      <th>2</th>\n",
              "      <td>2070750</td>\n",
              "      <td>https://www.airbnb.com/rooms/2070750</td>\n",
              "      <td>20170407214119</td>\n",
              "      <td>2017-04-08</td>\n",
              "      <td>Centric room with a balcony</td>\n",
              "      <td>Lominous room for rent in the heart of the old...</td>\n",
              "      <td>Lominous room for rent in the heart of the old...</td>\n",
              "      <td>Lominous room for rent in the heart of the old...</td>\n",
              "      <td>none</td>\n",
              "      <td>-</td>\n",
              "      <td>...</td>\n",
              "      <td>9.0</td>\n",
              "      <td>10.0</td>\n",
              "      <td>9.0</td>\n",
              "      <td>NaN</td>\n",
              "      <td>NaN</td>\n",
              "      <td>flexible</td>\n",
              "      <td>4</td>\n",
              "      <td>0.60</td>\n",
              "      <td>40.40970517560235,-3.7135611928841086</td>\n",
              "      <td>Host Has Profile Pic,Host Identity Verified,Is...</td>\n",
              "    </tr>\n",
              "    <tr>\n",
              "      <th>3</th>\n",
              "      <td>9832499</td>\n",
              "      <td>https://www.airbnb.com/rooms/9832499</td>\n",
              "      <td>20170407214119</td>\n",
              "      <td>2017-04-08</td>\n",
              "      <td>PLAZA DE ESPAÑA - Único - Gimnasio.</td>\n",
              "      <td>Ubicado en el famoso edificio Torre de Madrid,...</td>\n",
              "      <td>Ubicado en el famoso edificio Torre de Madrid,...</td>\n",
              "      <td>Ubicado en el famoso edificio Torre de Madrid,...</td>\n",
              "      <td>none</td>\n",
              "      <td>NaN</td>\n",
              "      <td>...</td>\n",
              "      <td>10.0</td>\n",
              "      <td>10.0</td>\n",
              "      <td>10.0</td>\n",
              "      <td>VT-1520</td>\n",
              "      <td>NaN</td>\n",
              "      <td>strict</td>\n",
              "      <td>9</td>\n",
              "      <td>3.56</td>\n",
              "      <td>40.42319271738103,-3.7112486513892</td>\n",
              "      <td>Host Is Superhost,Host Has Profile Pic,Host Id...</td>\n",
              "    </tr>\n",
              "    <tr>\n",
              "      <th>4</th>\n",
              "      <td>1868170</td>\n",
              "      <td>https://www.airbnb.com/rooms/1868170</td>\n",
              "      <td>20170407214119</td>\n",
              "      <td>2017-04-08</td>\n",
              "      <td>Loft/duplex 150m2, 3 double rooms</td>\n",
              "      <td>Huge, open plan spacious apartment in the cent...</td>\n",
              "      <td>Huge, open plan spacious apartment in the cent...</td>\n",
              "      <td>Huge, open plan spacious apartment in the cent...</td>\n",
              "      <td>none</td>\n",
              "      <td>NaN</td>\n",
              "      <td>...</td>\n",
              "      <td>10.0</td>\n",
              "      <td>10.0</td>\n",
              "      <td>9.0</td>\n",
              "      <td>NaN</td>\n",
              "      <td>NaN</td>\n",
              "      <td>moderate</td>\n",
              "      <td>1</td>\n",
              "      <td>1.13</td>\n",
              "      <td>40.416513932601625,-3.7178427529546973</td>\n",
              "      <td>Host Is Superhost,Host Has Profile Pic,Host Id...</td>\n",
              "    </tr>\n",
              "  </tbody>\n",
              "</table>\n",
              "<p>5 rows × 89 columns</p>\n",
              "</div>\n",
              "      <button class=\"colab-df-convert\" onclick=\"convertToInteractive('df-0fd91813-6c09-4384-b10b-bdee2a2bed63')\"\n",
              "              title=\"Convert this dataframe to an interactive table.\"\n",
              "              style=\"display:none;\">\n",
              "        \n",
              "  <svg xmlns=\"http://www.w3.org/2000/svg\" height=\"24px\"viewBox=\"0 0 24 24\"\n",
              "       width=\"24px\">\n",
              "    <path d=\"M0 0h24v24H0V0z\" fill=\"none\"/>\n",
              "    <path d=\"M18.56 5.44l.94 2.06.94-2.06 2.06-.94-2.06-.94-.94-2.06-.94 2.06-2.06.94zm-11 1L8.5 8.5l.94-2.06 2.06-.94-2.06-.94L8.5 2.5l-.94 2.06-2.06.94zm10 10l.94 2.06.94-2.06 2.06-.94-2.06-.94-.94-2.06-.94 2.06-2.06.94z\"/><path d=\"M17.41 7.96l-1.37-1.37c-.4-.4-.92-.59-1.43-.59-.52 0-1.04.2-1.43.59L10.3 9.45l-7.72 7.72c-.78.78-.78 2.05 0 2.83L4 21.41c.39.39.9.59 1.41.59.51 0 1.02-.2 1.41-.59l7.78-7.78 2.81-2.81c.8-.78.8-2.07 0-2.86zM5.41 20L4 18.59l7.72-7.72 1.47 1.35L5.41 20z\"/>\n",
              "  </svg>\n",
              "      </button>\n",
              "      \n",
              "  <style>\n",
              "    .colab-df-container {\n",
              "      display:flex;\n",
              "      flex-wrap:wrap;\n",
              "      gap: 12px;\n",
              "    }\n",
              "\n",
              "    .colab-df-convert {\n",
              "      background-color: #E8F0FE;\n",
              "      border: none;\n",
              "      border-radius: 50%;\n",
              "      cursor: pointer;\n",
              "      display: none;\n",
              "      fill: #1967D2;\n",
              "      height: 32px;\n",
              "      padding: 0 0 0 0;\n",
              "      width: 32px;\n",
              "    }\n",
              "\n",
              "    .colab-df-convert:hover {\n",
              "      background-color: #E2EBFA;\n",
              "      box-shadow: 0px 1px 2px rgba(60, 64, 67, 0.3), 0px 1px 3px 1px rgba(60, 64, 67, 0.15);\n",
              "      fill: #174EA6;\n",
              "    }\n",
              "\n",
              "    [theme=dark] .colab-df-convert {\n",
              "      background-color: #3B4455;\n",
              "      fill: #D2E3FC;\n",
              "    }\n",
              "\n",
              "    [theme=dark] .colab-df-convert:hover {\n",
              "      background-color: #434B5C;\n",
              "      box-shadow: 0px 1px 3px 1px rgba(0, 0, 0, 0.15);\n",
              "      filter: drop-shadow(0px 1px 2px rgba(0, 0, 0, 0.3));\n",
              "      fill: #FFFFFF;\n",
              "    }\n",
              "  </style>\n",
              "\n",
              "      <script>\n",
              "        const buttonEl =\n",
              "          document.querySelector('#df-0fd91813-6c09-4384-b10b-bdee2a2bed63 button.colab-df-convert');\n",
              "        buttonEl.style.display =\n",
              "          google.colab.kernel.accessAllowed ? 'block' : 'none';\n",
              "\n",
              "        async function convertToInteractive(key) {\n",
              "          const element = document.querySelector('#df-0fd91813-6c09-4384-b10b-bdee2a2bed63');\n",
              "          const dataTable =\n",
              "            await google.colab.kernel.invokeFunction('convertToInteractive',\n",
              "                                                     [key], {});\n",
              "          if (!dataTable) return;\n",
              "\n",
              "          const docLinkHtml = 'Like what you see? Visit the ' +\n",
              "            '<a target=\"_blank\" href=https://colab.research.google.com/notebooks/data_table.ipynb>data table notebook</a>'\n",
              "            + ' to learn more about interactive tables.';\n",
              "          element.innerHTML = '';\n",
              "          dataTable['output_type'] = 'display_data';\n",
              "          await google.colab.output.renderOutput(dataTable, element);\n",
              "          const docLink = document.createElement('div');\n",
              "          docLink.innerHTML = docLinkHtml;\n",
              "          element.appendChild(docLink);\n",
              "        }\n",
              "      </script>\n",
              "    </div>\n",
              "  </div>\n",
              "  "
            ]
          },
          "metadata": {},
          "execution_count": 9
        }
      ],
      "source": [
        "data.head()"
      ]
    },
    {
      "cell_type": "markdown",
      "metadata": {
        "id": "JXPDFZkalfSu"
      },
      "source": [
        "## Separar nuestras columnas de destino e independientes"
      ]
    },
    {
      "cell_type": "code",
      "execution_count": 10,
      "metadata": {
        "id": "q8ZGkMGplEvQ"
      },
      "outputs": [],
      "source": [
        "'''\n",
        "Este código separa las características de la variable de destino en el conjunto de datos.\n",
        "La función drop() se usa para eliminar la columna Precio del conjunto de datos y\n",
        "creamos un nuevo conjunto de datos X que contenga todas las columnas restantes como características.\n",
        "A la variable y se le asignan los valores de la columna Precio del conjunto de datos original como variable de destino.\n",
        "Este es un paso de preprocesamiento común antes de entrenar un modelo de aprendizaje automático.\n",
        "'''\n",
        "\n",
        "X=data.drop(columns='Price')\n",
        "y=data['Price']"
      ]
    },
    {
      "cell_type": "markdown",
      "metadata": {
        "id": "KTCClOpeuJ2-"
      },
      "source": [
        "# Sección de preprocesamiento de datos"
      ]
    },
    {
      "cell_type": "markdown",
      "metadata": {
        "id": "kWJE8rn9mnLQ"
      },
      "source": [
        "## Extraer datos numéricos y categóricos"
      ]
    },
    {
      "cell_type": "code",
      "execution_count": 11,
      "metadata": {
        "id": "H07sU2ovmSU0",
        "colab": {
          "base_uri": "https://localhost:8080/"
        },
        "outputId": "828bb0aa-886d-4399-933a-91022624dae0"
      },
      "outputs": [
        {
          "output_type": "execute_result",
          "data": {
            "text/plain": [
              "(700, 10)"
            ]
          },
          "metadata": {},
          "execution_count": 11
        }
      ],
      "source": [
        "#Extrayendo columnas numéricas:\n",
        "numeric_col = ['Accommodates', 'Bathrooms', 'Bedrooms', 'Beds',\n",
        "       'Guests Included', 'Extra People', 'Minimum Nights', 'Maximum Nights',\n",
        "       'Number of Reviews', 'Host Total Listings Count']\n",
        "numeric_col =data.loc[:, numeric_col]\n",
        "numeric_col.shape"
      ]
    },
    {
      "cell_type": "code",
      "execution_count": 12,
      "metadata": {
        "id": "PMFmA7Dem7md",
        "colab": {
          "base_uri": "https://localhost:8080/",
          "height": 267
        },
        "outputId": "729d5373-8176-4d70-aa65-1f60798ebb10"
      },
      "outputs": [
        {
          "output_type": "execute_result",
          "data": {
            "text/plain": [
              "   Accommodates  Bathrooms  Bedrooms  Beds  Guests Included  Extra People  \\\n",
              "0             2        1.0       1.0   1.0                1             0   \n",
              "1             2        1.0       1.0   1.0                1             0   \n",
              "2             2        1.0       1.0   1.0                1            10   \n",
              "3             4        1.0       1.0   2.0                2             5   \n",
              "4             8        3.0       3.0   4.0                6            40   \n",
              "\n",
              "   Minimum Nights  Maximum Nights  Number of Reviews  \\\n",
              "0               2            1125                 80   \n",
              "1               3            1125                 90   \n",
              "2               3            1125                 20   \n",
              "3               3            1900                 55   \n",
              "4               3            1125                 46   \n",
              "\n",
              "   Host Total Listings Count  \n",
              "0                        1.0  \n",
              "1                        3.0  \n",
              "2                        4.0  \n",
              "3                       10.0  \n",
              "4                        1.0  "
            ],
            "text/html": [
              "\n",
              "  <div id=\"df-6788be48-31d3-4225-a4bd-12d6c862e975\">\n",
              "    <div class=\"colab-df-container\">\n",
              "      <div>\n",
              "<style scoped>\n",
              "    .dataframe tbody tr th:only-of-type {\n",
              "        vertical-align: middle;\n",
              "    }\n",
              "\n",
              "    .dataframe tbody tr th {\n",
              "        vertical-align: top;\n",
              "    }\n",
              "\n",
              "    .dataframe thead th {\n",
              "        text-align: right;\n",
              "    }\n",
              "</style>\n",
              "<table border=\"1\" class=\"dataframe\">\n",
              "  <thead>\n",
              "    <tr style=\"text-align: right;\">\n",
              "      <th></th>\n",
              "      <th>Accommodates</th>\n",
              "      <th>Bathrooms</th>\n",
              "      <th>Bedrooms</th>\n",
              "      <th>Beds</th>\n",
              "      <th>Guests Included</th>\n",
              "      <th>Extra People</th>\n",
              "      <th>Minimum Nights</th>\n",
              "      <th>Maximum Nights</th>\n",
              "      <th>Number of Reviews</th>\n",
              "      <th>Host Total Listings Count</th>\n",
              "    </tr>\n",
              "  </thead>\n",
              "  <tbody>\n",
              "    <tr>\n",
              "      <th>0</th>\n",
              "      <td>2</td>\n",
              "      <td>1.0</td>\n",
              "      <td>1.0</td>\n",
              "      <td>1.0</td>\n",
              "      <td>1</td>\n",
              "      <td>0</td>\n",
              "      <td>2</td>\n",
              "      <td>1125</td>\n",
              "      <td>80</td>\n",
              "      <td>1.0</td>\n",
              "    </tr>\n",
              "    <tr>\n",
              "      <th>1</th>\n",
              "      <td>2</td>\n",
              "      <td>1.0</td>\n",
              "      <td>1.0</td>\n",
              "      <td>1.0</td>\n",
              "      <td>1</td>\n",
              "      <td>0</td>\n",
              "      <td>3</td>\n",
              "      <td>1125</td>\n",
              "      <td>90</td>\n",
              "      <td>3.0</td>\n",
              "    </tr>\n",
              "    <tr>\n",
              "      <th>2</th>\n",
              "      <td>2</td>\n",
              "      <td>1.0</td>\n",
              "      <td>1.0</td>\n",
              "      <td>1.0</td>\n",
              "      <td>1</td>\n",
              "      <td>10</td>\n",
              "      <td>3</td>\n",
              "      <td>1125</td>\n",
              "      <td>20</td>\n",
              "      <td>4.0</td>\n",
              "    </tr>\n",
              "    <tr>\n",
              "      <th>3</th>\n",
              "      <td>4</td>\n",
              "      <td>1.0</td>\n",
              "      <td>1.0</td>\n",
              "      <td>2.0</td>\n",
              "      <td>2</td>\n",
              "      <td>5</td>\n",
              "      <td>3</td>\n",
              "      <td>1900</td>\n",
              "      <td>55</td>\n",
              "      <td>10.0</td>\n",
              "    </tr>\n",
              "    <tr>\n",
              "      <th>4</th>\n",
              "      <td>8</td>\n",
              "      <td>3.0</td>\n",
              "      <td>3.0</td>\n",
              "      <td>4.0</td>\n",
              "      <td>6</td>\n",
              "      <td>40</td>\n",
              "      <td>3</td>\n",
              "      <td>1125</td>\n",
              "      <td>46</td>\n",
              "      <td>1.0</td>\n",
              "    </tr>\n",
              "  </tbody>\n",
              "</table>\n",
              "</div>\n",
              "      <button class=\"colab-df-convert\" onclick=\"convertToInteractive('df-6788be48-31d3-4225-a4bd-12d6c862e975')\"\n",
              "              title=\"Convert this dataframe to an interactive table.\"\n",
              "              style=\"display:none;\">\n",
              "        \n",
              "  <svg xmlns=\"http://www.w3.org/2000/svg\" height=\"24px\"viewBox=\"0 0 24 24\"\n",
              "       width=\"24px\">\n",
              "    <path d=\"M0 0h24v24H0V0z\" fill=\"none\"/>\n",
              "    <path d=\"M18.56 5.44l.94 2.06.94-2.06 2.06-.94-2.06-.94-.94-2.06-.94 2.06-2.06.94zm-11 1L8.5 8.5l.94-2.06 2.06-.94-2.06-.94L8.5 2.5l-.94 2.06-2.06.94zm10 10l.94 2.06.94-2.06 2.06-.94-2.06-.94-.94-2.06-.94 2.06-2.06.94z\"/><path d=\"M17.41 7.96l-1.37-1.37c-.4-.4-.92-.59-1.43-.59-.52 0-1.04.2-1.43.59L10.3 9.45l-7.72 7.72c-.78.78-.78 2.05 0 2.83L4 21.41c.39.39.9.59 1.41.59.51 0 1.02-.2 1.41-.59l7.78-7.78 2.81-2.81c.8-.78.8-2.07 0-2.86zM5.41 20L4 18.59l7.72-7.72 1.47 1.35L5.41 20z\"/>\n",
              "  </svg>\n",
              "      </button>\n",
              "      \n",
              "  <style>\n",
              "    .colab-df-container {\n",
              "      display:flex;\n",
              "      flex-wrap:wrap;\n",
              "      gap: 12px;\n",
              "    }\n",
              "\n",
              "    .colab-df-convert {\n",
              "      background-color: #E8F0FE;\n",
              "      border: none;\n",
              "      border-radius: 50%;\n",
              "      cursor: pointer;\n",
              "      display: none;\n",
              "      fill: #1967D2;\n",
              "      height: 32px;\n",
              "      padding: 0 0 0 0;\n",
              "      width: 32px;\n",
              "    }\n",
              "\n",
              "    .colab-df-convert:hover {\n",
              "      background-color: #E2EBFA;\n",
              "      box-shadow: 0px 1px 2px rgba(60, 64, 67, 0.3), 0px 1px 3px 1px rgba(60, 64, 67, 0.15);\n",
              "      fill: #174EA6;\n",
              "    }\n",
              "\n",
              "    [theme=dark] .colab-df-convert {\n",
              "      background-color: #3B4455;\n",
              "      fill: #D2E3FC;\n",
              "    }\n",
              "\n",
              "    [theme=dark] .colab-df-convert:hover {\n",
              "      background-color: #434B5C;\n",
              "      box-shadow: 0px 1px 3px 1px rgba(0, 0, 0, 0.15);\n",
              "      filter: drop-shadow(0px 1px 2px rgba(0, 0, 0, 0.3));\n",
              "      fill: #FFFFFF;\n",
              "    }\n",
              "  </style>\n",
              "\n",
              "      <script>\n",
              "        const buttonEl =\n",
              "          document.querySelector('#df-6788be48-31d3-4225-a4bd-12d6c862e975 button.colab-df-convert');\n",
              "        buttonEl.style.display =\n",
              "          google.colab.kernel.accessAllowed ? 'block' : 'none';\n",
              "\n",
              "        async function convertToInteractive(key) {\n",
              "          const element = document.querySelector('#df-6788be48-31d3-4225-a4bd-12d6c862e975');\n",
              "          const dataTable =\n",
              "            await google.colab.kernel.invokeFunction('convertToInteractive',\n",
              "                                                     [key], {});\n",
              "          if (!dataTable) return;\n",
              "\n",
              "          const docLinkHtml = 'Like what you see? Visit the ' +\n",
              "            '<a target=\"_blank\" href=https://colab.research.google.com/notebooks/data_table.ipynb>data table notebook</a>'\n",
              "            + ' to learn more about interactive tables.';\n",
              "          element.innerHTML = '';\n",
              "          dataTable['output_type'] = 'display_data';\n",
              "          await google.colab.output.renderOutput(dataTable, element);\n",
              "          const docLink = document.createElement('div');\n",
              "          docLink.innerHTML = docLinkHtml;\n",
              "          element.appendChild(docLink);\n",
              "        }\n",
              "      </script>\n",
              "    </div>\n",
              "  </div>\n",
              "  "
            ]
          },
          "metadata": {},
          "execution_count": 12
        }
      ],
      "source": [
        "numeric_col.head()"
      ]
    },
    {
      "cell_type": "markdown",
      "metadata": {
        "id": "skkqgcXYnFX_"
      },
      "source": [
        "Podemos ver que nuestras columnas numéricas tienen diferentes rangos de columnas. Por lo tanto, es necesario escalar.\n",
        "Para escalar podemos usar dos técnicas.\n",
        "\n",
        "\n",
        "* Escalador estándar\n",
        "* Escalador MinMax\n",
        "StandardScaler es un paso de preprocesamiento que se utiliza para estandarizar los datos. Cambia la escala de las funciones para que tengan una media de 0 y una desviación estándar de 1. Ayuda a que el proceso de entrenamiento del modelo sea más efectivo.\n",
        "\n",
        "El escalador MinMax convierte valores en el rango entre 0 y 1.\n",
        "\n"
      ]
    },
    {
      "cell_type": "code",
      "execution_count": 22,
      "metadata": {
        "id": "4C47vs-Anogu",
        "colab": {
          "base_uri": "https://localhost:8080/",
          "height": 267
        },
        "outputId": "38abfaaa-32a4-49e7-a5d6-c00973cd9063"
      },
      "outputs": [
        {
          "output_type": "execute_result",
          "data": {
            "text/plain": [
              "   Accommodates  Bathrooms  Bedrooms      Beds  Guests Included  Extra People  \\\n",
              "0     -0.600791  -0.392618 -0.411639 -0.615589        -0.501549     -0.789340   \n",
              "1     -0.600791  -0.392618 -0.411639 -0.615589        -0.501549     -0.789340   \n",
              "2     -0.600791  -0.392618 -0.411639 -0.615589        -0.501549      0.356291   \n",
              "3      0.386424  -0.392618 -0.411639 -0.012987         0.318742     -0.216524   \n",
              "4      2.360854   2.771020  2.173159  1.192216         3.599906      3.793184   \n",
              "\n",
              "   Minimum Nights  Maximum Nights  Number of Reviews  \\\n",
              "0       -0.243010        0.428109           1.379505   \n",
              "1        0.209402        0.428109           1.628758   \n",
              "2        0.209402        0.428109          -0.116009   \n",
              "3        0.209402        1.708549           0.756374   \n",
              "4        0.209402        0.428109           0.532047   \n",
              "\n",
              "   Host Total Listings Count  \n",
              "0                  -0.314211  \n",
              "1                  -0.260533  \n",
              "2                  -0.233693  \n",
              "3                  -0.072658  \n",
              "4                  -0.314211  "
            ],
            "text/html": [
              "\n",
              "  <div id=\"df-3d3959aa-2fb6-4a38-bdab-7203d13d2729\">\n",
              "    <div class=\"colab-df-container\">\n",
              "      <div>\n",
              "<style scoped>\n",
              "    .dataframe tbody tr th:only-of-type {\n",
              "        vertical-align: middle;\n",
              "    }\n",
              "\n",
              "    .dataframe tbody tr th {\n",
              "        vertical-align: top;\n",
              "    }\n",
              "\n",
              "    .dataframe thead th {\n",
              "        text-align: right;\n",
              "    }\n",
              "</style>\n",
              "<table border=\"1\" class=\"dataframe\">\n",
              "  <thead>\n",
              "    <tr style=\"text-align: right;\">\n",
              "      <th></th>\n",
              "      <th>Accommodates</th>\n",
              "      <th>Bathrooms</th>\n",
              "      <th>Bedrooms</th>\n",
              "      <th>Beds</th>\n",
              "      <th>Guests Included</th>\n",
              "      <th>Extra People</th>\n",
              "      <th>Minimum Nights</th>\n",
              "      <th>Maximum Nights</th>\n",
              "      <th>Number of Reviews</th>\n",
              "      <th>Host Total Listings Count</th>\n",
              "    </tr>\n",
              "  </thead>\n",
              "  <tbody>\n",
              "    <tr>\n",
              "      <th>0</th>\n",
              "      <td>-0.600791</td>\n",
              "      <td>-0.392618</td>\n",
              "      <td>-0.411639</td>\n",
              "      <td>-0.615589</td>\n",
              "      <td>-0.501549</td>\n",
              "      <td>-0.789340</td>\n",
              "      <td>-0.243010</td>\n",
              "      <td>0.428109</td>\n",
              "      <td>1.379505</td>\n",
              "      <td>-0.314211</td>\n",
              "    </tr>\n",
              "    <tr>\n",
              "      <th>1</th>\n",
              "      <td>-0.600791</td>\n",
              "      <td>-0.392618</td>\n",
              "      <td>-0.411639</td>\n",
              "      <td>-0.615589</td>\n",
              "      <td>-0.501549</td>\n",
              "      <td>-0.789340</td>\n",
              "      <td>0.209402</td>\n",
              "      <td>0.428109</td>\n",
              "      <td>1.628758</td>\n",
              "      <td>-0.260533</td>\n",
              "    </tr>\n",
              "    <tr>\n",
              "      <th>2</th>\n",
              "      <td>-0.600791</td>\n",
              "      <td>-0.392618</td>\n",
              "      <td>-0.411639</td>\n",
              "      <td>-0.615589</td>\n",
              "      <td>-0.501549</td>\n",
              "      <td>0.356291</td>\n",
              "      <td>0.209402</td>\n",
              "      <td>0.428109</td>\n",
              "      <td>-0.116009</td>\n",
              "      <td>-0.233693</td>\n",
              "    </tr>\n",
              "    <tr>\n",
              "      <th>3</th>\n",
              "      <td>0.386424</td>\n",
              "      <td>-0.392618</td>\n",
              "      <td>-0.411639</td>\n",
              "      <td>-0.012987</td>\n",
              "      <td>0.318742</td>\n",
              "      <td>-0.216524</td>\n",
              "      <td>0.209402</td>\n",
              "      <td>1.708549</td>\n",
              "      <td>0.756374</td>\n",
              "      <td>-0.072658</td>\n",
              "    </tr>\n",
              "    <tr>\n",
              "      <th>4</th>\n",
              "      <td>2.360854</td>\n",
              "      <td>2.771020</td>\n",
              "      <td>2.173159</td>\n",
              "      <td>1.192216</td>\n",
              "      <td>3.599906</td>\n",
              "      <td>3.793184</td>\n",
              "      <td>0.209402</td>\n",
              "      <td>0.428109</td>\n",
              "      <td>0.532047</td>\n",
              "      <td>-0.314211</td>\n",
              "    </tr>\n",
              "  </tbody>\n",
              "</table>\n",
              "</div>\n",
              "      <button class=\"colab-df-convert\" onclick=\"convertToInteractive('df-3d3959aa-2fb6-4a38-bdab-7203d13d2729')\"\n",
              "              title=\"Convert this dataframe to an interactive table.\"\n",
              "              style=\"display:none;\">\n",
              "        \n",
              "  <svg xmlns=\"http://www.w3.org/2000/svg\" height=\"24px\"viewBox=\"0 0 24 24\"\n",
              "       width=\"24px\">\n",
              "    <path d=\"M0 0h24v24H0V0z\" fill=\"none\"/>\n",
              "    <path d=\"M18.56 5.44l.94 2.06.94-2.06 2.06-.94-2.06-.94-.94-2.06-.94 2.06-2.06.94zm-11 1L8.5 8.5l.94-2.06 2.06-.94-2.06-.94L8.5 2.5l-.94 2.06-2.06.94zm10 10l.94 2.06.94-2.06 2.06-.94-2.06-.94-.94-2.06-.94 2.06-2.06.94z\"/><path d=\"M17.41 7.96l-1.37-1.37c-.4-.4-.92-.59-1.43-.59-.52 0-1.04.2-1.43.59L10.3 9.45l-7.72 7.72c-.78.78-.78 2.05 0 2.83L4 21.41c.39.39.9.59 1.41.59.51 0 1.02-.2 1.41-.59l7.78-7.78 2.81-2.81c.8-.78.8-2.07 0-2.86zM5.41 20L4 18.59l7.72-7.72 1.47 1.35L5.41 20z\"/>\n",
              "  </svg>\n",
              "      </button>\n",
              "      \n",
              "  <style>\n",
              "    .colab-df-container {\n",
              "      display:flex;\n",
              "      flex-wrap:wrap;\n",
              "      gap: 12px;\n",
              "    }\n",
              "\n",
              "    .colab-df-convert {\n",
              "      background-color: #E8F0FE;\n",
              "      border: none;\n",
              "      border-radius: 50%;\n",
              "      cursor: pointer;\n",
              "      display: none;\n",
              "      fill: #1967D2;\n",
              "      height: 32px;\n",
              "      padding: 0 0 0 0;\n",
              "      width: 32px;\n",
              "    }\n",
              "\n",
              "    .colab-df-convert:hover {\n",
              "      background-color: #E2EBFA;\n",
              "      box-shadow: 0px 1px 2px rgba(60, 64, 67, 0.3), 0px 1px 3px 1px rgba(60, 64, 67, 0.15);\n",
              "      fill: #174EA6;\n",
              "    }\n",
              "\n",
              "    [theme=dark] .colab-df-convert {\n",
              "      background-color: #3B4455;\n",
              "      fill: #D2E3FC;\n",
              "    }\n",
              "\n",
              "    [theme=dark] .colab-df-convert:hover {\n",
              "      background-color: #434B5C;\n",
              "      box-shadow: 0px 1px 3px 1px rgba(0, 0, 0, 0.15);\n",
              "      filter: drop-shadow(0px 1px 2px rgba(0, 0, 0, 0.3));\n",
              "      fill: #FFFFFF;\n",
              "    }\n",
              "  </style>\n",
              "\n",
              "      <script>\n",
              "        const buttonEl =\n",
              "          document.querySelector('#df-3d3959aa-2fb6-4a38-bdab-7203d13d2729 button.colab-df-convert');\n",
              "        buttonEl.style.display =\n",
              "          google.colab.kernel.accessAllowed ? 'block' : 'none';\n",
              "\n",
              "        async function convertToInteractive(key) {\n",
              "          const element = document.querySelector('#df-3d3959aa-2fb6-4a38-bdab-7203d13d2729');\n",
              "          const dataTable =\n",
              "            await google.colab.kernel.invokeFunction('convertToInteractive',\n",
              "                                                     [key], {});\n",
              "          if (!dataTable) return;\n",
              "\n",
              "          const docLinkHtml = 'Like what you see? Visit the ' +\n",
              "            '<a target=\"_blank\" href=https://colab.research.google.com/notebooks/data_table.ipynb>data table notebook</a>'\n",
              "            + ' to learn more about interactive tables.';\n",
              "          element.innerHTML = '';\n",
              "          dataTable['output_type'] = 'display_data';\n",
              "          await google.colab.output.renderOutput(dataTable, element);\n",
              "          const docLink = document.createElement('div');\n",
              "          docLink.innerHTML = docLinkHtml;\n",
              "          element.appendChild(docLink);\n",
              "        }\n",
              "      </script>\n",
              "    </div>\n",
              "  </div>\n",
              "  "
            ]
          },
          "metadata": {},
          "execution_count": 22
        }
      ],
      "source": [
        "#Realizamos la estadarización de las variables numericas:\n",
        "#estandarizar las columnas numéricas y se almacena en la variable del escalador:\n",
        "scaler = StandardScaler()\n",
        "#fit_transform(), este método ajusta el escalador a los datos y \n",
        "  #luego transforma los datos en función de las reglas de escalado:\n",
        "numerical_scaler = scaler.fit_transform(numeric_col)\n",
        "#Los datos original se actualiza en la variable numeric_scaler a las columnas numéricas:\n",
        "numeric_col.iloc[:] = numerical_scaler\n",
        "numeric_col.head(5)"
      ]
    },
    {
      "cell_type": "code",
      "execution_count": 24,
      "metadata": {
        "id": "Q8uMr6f-pEtW",
        "colab": {
          "base_uri": "https://localhost:8080/",
          "height": 206
        },
        "outputId": "a7903958-b8ac-40a6-d1d6-5366644ef8ad"
      },
      "outputs": [
        {
          "output_type": "execute_result",
          "data": {
            "text/plain": [
              "  Property Type        Room Type Cancellation Policy\n",
              "0     Apartment     Private room            flexible\n",
              "1     Apartment  Entire home/apt              strict\n",
              "2     Apartment     Private room            flexible\n",
              "3     Apartment  Entire home/apt              strict\n",
              "4     Apartment  Entire home/apt            moderate"
            ],
            "text/html": [
              "\n",
              "  <div id=\"df-aad1c0f5-7422-4e96-8c69-0e6f4622f93b\">\n",
              "    <div class=\"colab-df-container\">\n",
              "      <div>\n",
              "<style scoped>\n",
              "    .dataframe tbody tr th:only-of-type {\n",
              "        vertical-align: middle;\n",
              "    }\n",
              "\n",
              "    .dataframe tbody tr th {\n",
              "        vertical-align: top;\n",
              "    }\n",
              "\n",
              "    .dataframe thead th {\n",
              "        text-align: right;\n",
              "    }\n",
              "</style>\n",
              "<table border=\"1\" class=\"dataframe\">\n",
              "  <thead>\n",
              "    <tr style=\"text-align: right;\">\n",
              "      <th></th>\n",
              "      <th>Property Type</th>\n",
              "      <th>Room Type</th>\n",
              "      <th>Cancellation Policy</th>\n",
              "    </tr>\n",
              "  </thead>\n",
              "  <tbody>\n",
              "    <tr>\n",
              "      <th>0</th>\n",
              "      <td>Apartment</td>\n",
              "      <td>Private room</td>\n",
              "      <td>flexible</td>\n",
              "    </tr>\n",
              "    <tr>\n",
              "      <th>1</th>\n",
              "      <td>Apartment</td>\n",
              "      <td>Entire home/apt</td>\n",
              "      <td>strict</td>\n",
              "    </tr>\n",
              "    <tr>\n",
              "      <th>2</th>\n",
              "      <td>Apartment</td>\n",
              "      <td>Private room</td>\n",
              "      <td>flexible</td>\n",
              "    </tr>\n",
              "    <tr>\n",
              "      <th>3</th>\n",
              "      <td>Apartment</td>\n",
              "      <td>Entire home/apt</td>\n",
              "      <td>strict</td>\n",
              "    </tr>\n",
              "    <tr>\n",
              "      <th>4</th>\n",
              "      <td>Apartment</td>\n",
              "      <td>Entire home/apt</td>\n",
              "      <td>moderate</td>\n",
              "    </tr>\n",
              "  </tbody>\n",
              "</table>\n",
              "</div>\n",
              "      <button class=\"colab-df-convert\" onclick=\"convertToInteractive('df-aad1c0f5-7422-4e96-8c69-0e6f4622f93b')\"\n",
              "              title=\"Convert this dataframe to an interactive table.\"\n",
              "              style=\"display:none;\">\n",
              "        \n",
              "  <svg xmlns=\"http://www.w3.org/2000/svg\" height=\"24px\"viewBox=\"0 0 24 24\"\n",
              "       width=\"24px\">\n",
              "    <path d=\"M0 0h24v24H0V0z\" fill=\"none\"/>\n",
              "    <path d=\"M18.56 5.44l.94 2.06.94-2.06 2.06-.94-2.06-.94-.94-2.06-.94 2.06-2.06.94zm-11 1L8.5 8.5l.94-2.06 2.06-.94-2.06-.94L8.5 2.5l-.94 2.06-2.06.94zm10 10l.94 2.06.94-2.06 2.06-.94-2.06-.94-.94-2.06-.94 2.06-2.06.94z\"/><path d=\"M17.41 7.96l-1.37-1.37c-.4-.4-.92-.59-1.43-.59-.52 0-1.04.2-1.43.59L10.3 9.45l-7.72 7.72c-.78.78-.78 2.05 0 2.83L4 21.41c.39.39.9.59 1.41.59.51 0 1.02-.2 1.41-.59l7.78-7.78 2.81-2.81c.8-.78.8-2.07 0-2.86zM5.41 20L4 18.59l7.72-7.72 1.47 1.35L5.41 20z\"/>\n",
              "  </svg>\n",
              "      </button>\n",
              "      \n",
              "  <style>\n",
              "    .colab-df-container {\n",
              "      display:flex;\n",
              "      flex-wrap:wrap;\n",
              "      gap: 12px;\n",
              "    }\n",
              "\n",
              "    .colab-df-convert {\n",
              "      background-color: #E8F0FE;\n",
              "      border: none;\n",
              "      border-radius: 50%;\n",
              "      cursor: pointer;\n",
              "      display: none;\n",
              "      fill: #1967D2;\n",
              "      height: 32px;\n",
              "      padding: 0 0 0 0;\n",
              "      width: 32px;\n",
              "    }\n",
              "\n",
              "    .colab-df-convert:hover {\n",
              "      background-color: #E2EBFA;\n",
              "      box-shadow: 0px 1px 2px rgba(60, 64, 67, 0.3), 0px 1px 3px 1px rgba(60, 64, 67, 0.15);\n",
              "      fill: #174EA6;\n",
              "    }\n",
              "\n",
              "    [theme=dark] .colab-df-convert {\n",
              "      background-color: #3B4455;\n",
              "      fill: #D2E3FC;\n",
              "    }\n",
              "\n",
              "    [theme=dark] .colab-df-convert:hover {\n",
              "      background-color: #434B5C;\n",
              "      box-shadow: 0px 1px 3px 1px rgba(0, 0, 0, 0.15);\n",
              "      filter: drop-shadow(0px 1px 2px rgba(0, 0, 0, 0.3));\n",
              "      fill: #FFFFFF;\n",
              "    }\n",
              "  </style>\n",
              "\n",
              "      <script>\n",
              "        const buttonEl =\n",
              "          document.querySelector('#df-aad1c0f5-7422-4e96-8c69-0e6f4622f93b button.colab-df-convert');\n",
              "        buttonEl.style.display =\n",
              "          google.colab.kernel.accessAllowed ? 'block' : 'none';\n",
              "\n",
              "        async function convertToInteractive(key) {\n",
              "          const element = document.querySelector('#df-aad1c0f5-7422-4e96-8c69-0e6f4622f93b');\n",
              "          const dataTable =\n",
              "            await google.colab.kernel.invokeFunction('convertToInteractive',\n",
              "                                                     [key], {});\n",
              "          if (!dataTable) return;\n",
              "\n",
              "          const docLinkHtml = 'Like what you see? Visit the ' +\n",
              "            '<a target=\"_blank\" href=https://colab.research.google.com/notebooks/data_table.ipynb>data table notebook</a>'\n",
              "            + ' to learn more about interactive tables.';\n",
              "          element.innerHTML = '';\n",
              "          dataTable['output_type'] = 'display_data';\n",
              "          await google.colab.output.renderOutput(dataTable, element);\n",
              "          const docLink = document.createElement('div');\n",
              "          docLink.innerHTML = docLinkHtml;\n",
              "          element.appendChild(docLink);\n",
              "        }\n",
              "      </script>\n",
              "    </div>\n",
              "  </div>\n",
              "  "
            ]
          },
          "metadata": {},
          "execution_count": 24
        }
      ],
      "source": [
        "#Procesemos variables categóricas:\n",
        "category_Col =data[['Property Type', 'Room Type', 'Cancellation Policy']]\n",
        "category_Col.head(5)"
      ]
    },
    {
      "cell_type": "markdown",
      "metadata": {
        "id": "Y7CXM8dKp2w7"
      },
      "source": [
        "Realizamos la codificación ya que los algoritmos de aprendizaje automatico solo maneja datos numericos por lo que hay que convertir los datos categóricos en datos numéricos."
      ]
    },
    {
      "cell_type": "code",
      "execution_count": 25,
      "metadata": {
        "id": "gLVUBN3LqG9J",
        "colab": {
          "base_uri": "https://localhost:8080/"
        },
        "outputId": "87703828-0474-443d-8845-47ccdbff84d3"
      },
      "outputs": [
        {
          "output_type": "execute_result",
          "data": {
            "text/plain": [
              "(700, 16)"
            ]
          },
          "metadata": {},
          "execution_count": 25
        }
      ],
      "source": [
        "#Convertir a one-hot y eliminar una variable para evitar la colinealidad:\n",
        "\"\"\"La codificación one-hot se realiza para representar datos categóricos \n",
        "  como vectores binarios, que pueden procesarse fácilmente mediante \n",
        "  algoritmos de aprendizaje automático.\"\"\"\n",
        "\n",
        "\"\"\"El método get_dummies() de pandas se usa para convertir cada columna categórica \n",
        "  en columnas binarias. Se agregan prefijos a las nuevas columnas para indicar \n",
        "  de qué columna original se derivaron. Por ejemplo, la columna Tipo de propiedad \n",
        "  se convierte en columnas binarias con el prefijo 'Property_Type'.\"\"\"\n",
        "#PropertyType:\n",
        "data_categorica_PT = pd.get_dummies(category_Col['Property Type'], prefix='Property_Type')\n",
        "\n",
        "#Room Type:\n",
        "data_categorica_RT = pd.get_dummies(category_Col['Room Type'], prefix='Room_Type')\n",
        "data_categorica_RT.drop('Room_Type_Shared room', axis=1, inplace=True)\n",
        "\n",
        "#Cancellation Policy:\n",
        "data_categorica_CP = pd.get_dummies(category_Col['Cancellation Policy'], prefix='Cancellation_Policy')\n",
        "data_categorica_CP.drop('Cancellation_Policy_strict', axis=1, inplace=True)\n",
        "\n",
        "\"\"\"Por ultimo: todas las columnas categóricas codificadas \n",
        "    se concatenan en un solo conjunto de datos llamado 'category_Col', \n",
        "    que contiene los datos categóricos en forma binaria.\"\"\"\n",
        "#Reunir los datos categoricos:\n",
        "category_Col = pd.concat([data_categorica_PT, data_categorica_RT, data_categorica_CP], axis=1, join='inner')\n",
        "category_Col.shape"
      ]
    },
    {
      "cell_type": "code",
      "execution_count": 26,
      "metadata": {
        "id": "zovnlIKrtc5y",
        "colab": {
          "base_uri": "https://localhost:8080/"
        },
        "outputId": "7e0f15cc-6eb1-48da-c787-d2f1f239719e"
      },
      "outputs": [
        {
          "output_type": "execute_result",
          "data": {
            "text/plain": [
              "(700, 26)"
            ]
          },
          "metadata": {},
          "execution_count": 26
        }
      ],
      "source": [
        "#Concatenemos las columnas categóricas numéricas y transformadas juntas:\n",
        "X= pd.concat([numeric_col, category_Col], axis=1, join='inner')\n",
        "X.shape"
      ]
    },
    {
      "cell_type": "code",
      "execution_count": 17,
      "metadata": {
        "id": "ahExLfjrtyVP",
        "colab": {
          "base_uri": "https://localhost:8080/",
          "height": 351
        },
        "outputId": "932c72db-6c30-4406-eff2-c036a6a0fb2c"
      },
      "outputs": [
        {
          "output_type": "execute_result",
          "data": {
            "text/plain": [
              "   Accommodates  Bathrooms  Bedrooms      Beds  Guests Included  Extra People  \\\n",
              "0     -0.600791  -0.392618 -0.411639 -0.615589        -0.501549     -0.789340   \n",
              "1     -0.600791  -0.392618 -0.411639 -0.615589        -0.501549     -0.789340   \n",
              "2     -0.600791  -0.392618 -0.411639 -0.615589        -0.501549      0.356291   \n",
              "3      0.386424  -0.392618 -0.411639 -0.012987         0.318742     -0.216524   \n",
              "4      2.360854   2.771020  2.173159  1.192216         3.599906      3.793184   \n",
              "\n",
              "   Minimum Nights  Maximum Nights  Number of Reviews  \\\n",
              "0       -0.243010        0.428109           1.379505   \n",
              "1        0.209402        0.428109           1.628758   \n",
              "2        0.209402        0.428109          -0.116009   \n",
              "3        0.209402        1.708549           0.756374   \n",
              "4        0.209402        0.428109           0.532047   \n",
              "\n",
              "   Host Total Listings Count  ...  Property_Type_Guesthouse  \\\n",
              "0                  -0.314211  ...                         0   \n",
              "1                  -0.260533  ...                         0   \n",
              "2                  -0.233693  ...                         0   \n",
              "3                  -0.072658  ...                         0   \n",
              "4                  -0.314211  ...                         0   \n",
              "\n",
              "   Property_Type_Hostel  Property_Type_House  Property_Type_Loft  \\\n",
              "0                     0                    0                   0   \n",
              "1                     0                    0                   0   \n",
              "2                     0                    0                   0   \n",
              "3                     0                    0                   0   \n",
              "4                     0                    0                   0   \n",
              "\n",
              "   Property_Type_Other  Room_Type_Entire home/apt  Room_Type_Private room  \\\n",
              "0                    0                          0                       1   \n",
              "1                    0                          1                       0   \n",
              "2                    0                          0                       1   \n",
              "3                    0                          1                       0   \n",
              "4                    0                          1                       0   \n",
              "\n",
              "   Cancellation_Policy_flexible  Cancellation_Policy_moderate  \\\n",
              "0                             1                             0   \n",
              "1                             0                             0   \n",
              "2                             1                             0   \n",
              "3                             0                             0   \n",
              "4                             0                             1   \n",
              "\n",
              "   Cancellation_Policy_super_strict_60  \n",
              "0                                    0  \n",
              "1                                    0  \n",
              "2                                    0  \n",
              "3                                    0  \n",
              "4                                    0  \n",
              "\n",
              "[5 rows x 26 columns]"
            ],
            "text/html": [
              "\n",
              "  <div id=\"df-4f99b152-64af-4e9b-87db-cba43be612c5\">\n",
              "    <div class=\"colab-df-container\">\n",
              "      <div>\n",
              "<style scoped>\n",
              "    .dataframe tbody tr th:only-of-type {\n",
              "        vertical-align: middle;\n",
              "    }\n",
              "\n",
              "    .dataframe tbody tr th {\n",
              "        vertical-align: top;\n",
              "    }\n",
              "\n",
              "    .dataframe thead th {\n",
              "        text-align: right;\n",
              "    }\n",
              "</style>\n",
              "<table border=\"1\" class=\"dataframe\">\n",
              "  <thead>\n",
              "    <tr style=\"text-align: right;\">\n",
              "      <th></th>\n",
              "      <th>Accommodates</th>\n",
              "      <th>Bathrooms</th>\n",
              "      <th>Bedrooms</th>\n",
              "      <th>Beds</th>\n",
              "      <th>Guests Included</th>\n",
              "      <th>Extra People</th>\n",
              "      <th>Minimum Nights</th>\n",
              "      <th>Maximum Nights</th>\n",
              "      <th>Number of Reviews</th>\n",
              "      <th>Host Total Listings Count</th>\n",
              "      <th>...</th>\n",
              "      <th>Property_Type_Guesthouse</th>\n",
              "      <th>Property_Type_Hostel</th>\n",
              "      <th>Property_Type_House</th>\n",
              "      <th>Property_Type_Loft</th>\n",
              "      <th>Property_Type_Other</th>\n",
              "      <th>Room_Type_Entire home/apt</th>\n",
              "      <th>Room_Type_Private room</th>\n",
              "      <th>Cancellation_Policy_flexible</th>\n",
              "      <th>Cancellation_Policy_moderate</th>\n",
              "      <th>Cancellation_Policy_super_strict_60</th>\n",
              "    </tr>\n",
              "  </thead>\n",
              "  <tbody>\n",
              "    <tr>\n",
              "      <th>0</th>\n",
              "      <td>-0.600791</td>\n",
              "      <td>-0.392618</td>\n",
              "      <td>-0.411639</td>\n",
              "      <td>-0.615589</td>\n",
              "      <td>-0.501549</td>\n",
              "      <td>-0.789340</td>\n",
              "      <td>-0.243010</td>\n",
              "      <td>0.428109</td>\n",
              "      <td>1.379505</td>\n",
              "      <td>-0.314211</td>\n",
              "      <td>...</td>\n",
              "      <td>0</td>\n",
              "      <td>0</td>\n",
              "      <td>0</td>\n",
              "      <td>0</td>\n",
              "      <td>0</td>\n",
              "      <td>0</td>\n",
              "      <td>1</td>\n",
              "      <td>1</td>\n",
              "      <td>0</td>\n",
              "      <td>0</td>\n",
              "    </tr>\n",
              "    <tr>\n",
              "      <th>1</th>\n",
              "      <td>-0.600791</td>\n",
              "      <td>-0.392618</td>\n",
              "      <td>-0.411639</td>\n",
              "      <td>-0.615589</td>\n",
              "      <td>-0.501549</td>\n",
              "      <td>-0.789340</td>\n",
              "      <td>0.209402</td>\n",
              "      <td>0.428109</td>\n",
              "      <td>1.628758</td>\n",
              "      <td>-0.260533</td>\n",
              "      <td>...</td>\n",
              "      <td>0</td>\n",
              "      <td>0</td>\n",
              "      <td>0</td>\n",
              "      <td>0</td>\n",
              "      <td>0</td>\n",
              "      <td>1</td>\n",
              "      <td>0</td>\n",
              "      <td>0</td>\n",
              "      <td>0</td>\n",
              "      <td>0</td>\n",
              "    </tr>\n",
              "    <tr>\n",
              "      <th>2</th>\n",
              "      <td>-0.600791</td>\n",
              "      <td>-0.392618</td>\n",
              "      <td>-0.411639</td>\n",
              "      <td>-0.615589</td>\n",
              "      <td>-0.501549</td>\n",
              "      <td>0.356291</td>\n",
              "      <td>0.209402</td>\n",
              "      <td>0.428109</td>\n",
              "      <td>-0.116009</td>\n",
              "      <td>-0.233693</td>\n",
              "      <td>...</td>\n",
              "      <td>0</td>\n",
              "      <td>0</td>\n",
              "      <td>0</td>\n",
              "      <td>0</td>\n",
              "      <td>0</td>\n",
              "      <td>0</td>\n",
              "      <td>1</td>\n",
              "      <td>1</td>\n",
              "      <td>0</td>\n",
              "      <td>0</td>\n",
              "    </tr>\n",
              "    <tr>\n",
              "      <th>3</th>\n",
              "      <td>0.386424</td>\n",
              "      <td>-0.392618</td>\n",
              "      <td>-0.411639</td>\n",
              "      <td>-0.012987</td>\n",
              "      <td>0.318742</td>\n",
              "      <td>-0.216524</td>\n",
              "      <td>0.209402</td>\n",
              "      <td>1.708549</td>\n",
              "      <td>0.756374</td>\n",
              "      <td>-0.072658</td>\n",
              "      <td>...</td>\n",
              "      <td>0</td>\n",
              "      <td>0</td>\n",
              "      <td>0</td>\n",
              "      <td>0</td>\n",
              "      <td>0</td>\n",
              "      <td>1</td>\n",
              "      <td>0</td>\n",
              "      <td>0</td>\n",
              "      <td>0</td>\n",
              "      <td>0</td>\n",
              "    </tr>\n",
              "    <tr>\n",
              "      <th>4</th>\n",
              "      <td>2.360854</td>\n",
              "      <td>2.771020</td>\n",
              "      <td>2.173159</td>\n",
              "      <td>1.192216</td>\n",
              "      <td>3.599906</td>\n",
              "      <td>3.793184</td>\n",
              "      <td>0.209402</td>\n",
              "      <td>0.428109</td>\n",
              "      <td>0.532047</td>\n",
              "      <td>-0.314211</td>\n",
              "      <td>...</td>\n",
              "      <td>0</td>\n",
              "      <td>0</td>\n",
              "      <td>0</td>\n",
              "      <td>0</td>\n",
              "      <td>0</td>\n",
              "      <td>1</td>\n",
              "      <td>0</td>\n",
              "      <td>0</td>\n",
              "      <td>1</td>\n",
              "      <td>0</td>\n",
              "    </tr>\n",
              "  </tbody>\n",
              "</table>\n",
              "<p>5 rows × 26 columns</p>\n",
              "</div>\n",
              "      <button class=\"colab-df-convert\" onclick=\"convertToInteractive('df-4f99b152-64af-4e9b-87db-cba43be612c5')\"\n",
              "              title=\"Convert this dataframe to an interactive table.\"\n",
              "              style=\"display:none;\">\n",
              "        \n",
              "  <svg xmlns=\"http://www.w3.org/2000/svg\" height=\"24px\"viewBox=\"0 0 24 24\"\n",
              "       width=\"24px\">\n",
              "    <path d=\"M0 0h24v24H0V0z\" fill=\"none\"/>\n",
              "    <path d=\"M18.56 5.44l.94 2.06.94-2.06 2.06-.94-2.06-.94-.94-2.06-.94 2.06-2.06.94zm-11 1L8.5 8.5l.94-2.06 2.06-.94-2.06-.94L8.5 2.5l-.94 2.06-2.06.94zm10 10l.94 2.06.94-2.06 2.06-.94-2.06-.94-.94-2.06-.94 2.06-2.06.94z\"/><path d=\"M17.41 7.96l-1.37-1.37c-.4-.4-.92-.59-1.43-.59-.52 0-1.04.2-1.43.59L10.3 9.45l-7.72 7.72c-.78.78-.78 2.05 0 2.83L4 21.41c.39.39.9.59 1.41.59.51 0 1.02-.2 1.41-.59l7.78-7.78 2.81-2.81c.8-.78.8-2.07 0-2.86zM5.41 20L4 18.59l7.72-7.72 1.47 1.35L5.41 20z\"/>\n",
              "  </svg>\n",
              "      </button>\n",
              "      \n",
              "  <style>\n",
              "    .colab-df-container {\n",
              "      display:flex;\n",
              "      flex-wrap:wrap;\n",
              "      gap: 12px;\n",
              "    }\n",
              "\n",
              "    .colab-df-convert {\n",
              "      background-color: #E8F0FE;\n",
              "      border: none;\n",
              "      border-radius: 50%;\n",
              "      cursor: pointer;\n",
              "      display: none;\n",
              "      fill: #1967D2;\n",
              "      height: 32px;\n",
              "      padding: 0 0 0 0;\n",
              "      width: 32px;\n",
              "    }\n",
              "\n",
              "    .colab-df-convert:hover {\n",
              "      background-color: #E2EBFA;\n",
              "      box-shadow: 0px 1px 2px rgba(60, 64, 67, 0.3), 0px 1px 3px 1px rgba(60, 64, 67, 0.15);\n",
              "      fill: #174EA6;\n",
              "    }\n",
              "\n",
              "    [theme=dark] .colab-df-convert {\n",
              "      background-color: #3B4455;\n",
              "      fill: #D2E3FC;\n",
              "    }\n",
              "\n",
              "    [theme=dark] .colab-df-convert:hover {\n",
              "      background-color: #434B5C;\n",
              "      box-shadow: 0px 1px 3px 1px rgba(0, 0, 0, 0.15);\n",
              "      filter: drop-shadow(0px 1px 2px rgba(0, 0, 0, 0.3));\n",
              "      fill: #FFFFFF;\n",
              "    }\n",
              "  </style>\n",
              "\n",
              "      <script>\n",
              "        const buttonEl =\n",
              "          document.querySelector('#df-4f99b152-64af-4e9b-87db-cba43be612c5 button.colab-df-convert');\n",
              "        buttonEl.style.display =\n",
              "          google.colab.kernel.accessAllowed ? 'block' : 'none';\n",
              "\n",
              "        async function convertToInteractive(key) {\n",
              "          const element = document.querySelector('#df-4f99b152-64af-4e9b-87db-cba43be612c5');\n",
              "          const dataTable =\n",
              "            await google.colab.kernel.invokeFunction('convertToInteractive',\n",
              "                                                     [key], {});\n",
              "          if (!dataTable) return;\n",
              "\n",
              "          const docLinkHtml = 'Like what you see? Visit the ' +\n",
              "            '<a target=\"_blank\" href=https://colab.research.google.com/notebooks/data_table.ipynb>data table notebook</a>'\n",
              "            + ' to learn more about interactive tables.';\n",
              "          element.innerHTML = '';\n",
              "          dataTable['output_type'] = 'display_data';\n",
              "          await google.colab.output.renderOutput(dataTable, element);\n",
              "          const docLink = document.createElement('div');\n",
              "          docLink.innerHTML = docLinkHtml;\n",
              "          element.appendChild(docLink);\n",
              "        }\n",
              "      </script>\n",
              "    </div>\n",
              "  </div>\n",
              "  "
            ]
          },
          "metadata": {},
          "execution_count": 17
        }
      ],
      "source": [
        "X.head()"
      ]
    },
    {
      "cell_type": "markdown",
      "metadata": {
        "id": "-WK-6nA-t4Tv"
      },
      "source": [
        "hasta el momento tenemos los valores de escalado y la codificación.\n",
        "\n",
        "## Ahora pasamos a la parte de manejo de valores faltantes (NULL):"
      ]
    },
    {
      "cell_type": "code",
      "execution_count": 18,
      "metadata": {
        "id": "wDAKQ69tuGXO",
        "colab": {
          "base_uri": "https://localhost:8080/"
        },
        "outputId": "056b9688-1a12-4d75-8981-d92f163c5b49"
      },
      "outputs": [
        {
          "output_type": "execute_result",
          "data": {
            "text/plain": [
              "Accommodates                           0\n",
              "Bathrooms                              3\n",
              "Bedrooms                               3\n",
              "Beds                                   4\n",
              "Guests Included                        0\n",
              "Extra People                           0\n",
              "Minimum Nights                         0\n",
              "Maximum Nights                         0\n",
              "Number of Reviews                      0\n",
              "Host Total Listings Count              0\n",
              "Property_Type_Apartment                0\n",
              "Property_Type_Bed & Breakfast          0\n",
              "Property_Type_Casa particular          0\n",
              "Property_Type_Chalet                   0\n",
              "Property_Type_Condominium              0\n",
              "Property_Type_Dorm                     0\n",
              "Property_Type_Guesthouse               0\n",
              "Property_Type_Hostel                   0\n",
              "Property_Type_House                    0\n",
              "Property_Type_Loft                     0\n",
              "Property_Type_Other                    0\n",
              "Room_Type_Entire home/apt              0\n",
              "Room_Type_Private room                 0\n",
              "Cancellation_Policy_flexible           0\n",
              "Cancellation_Policy_moderate           0\n",
              "Cancellation_Policy_super_strict_60    0\n",
              "dtype: int64"
            ]
          },
          "metadata": {},
          "execution_count": 18
        }
      ],
      "source": [
        "#Comprobamos valores que faltan:\n",
        "X.isnull().sum()"
      ]
    },
    {
      "cell_type": "markdown",
      "metadata": {
        "id": "4P5RgUAlyAew"
      },
      "source": [
        "Observamos que nuestro las variables baño, el dormitorio y las camas tienen valores faltantes."
      ]
    },
    {
      "cell_type": "markdown",
      "metadata": {
        "id": "DpZb0OLKzMLe"
      },
      "source": [
        "Procedemos a llenar los valores faltantes con sus valores medios:\n",
        "Imputación de media: reemplace los valores faltantes con la media de los datos disponibles:"
      ]
    },
    {
      "cell_type": "code",
      "execution_count": 29,
      "metadata": {
        "id": "BXkFBAKGyLJW"
      },
      "outputs": [],
      "source": [
        "#Vamos a usar el método de medios para llenar los valores faltantes de la columna:\n",
        "X['Bathrooms'] = X['Bathrooms'].fillna(X['Bathrooms'].mean())\n",
        "X['Bedrooms'] = X['Bedrooms'].fillna(X['Bedrooms'].mean())\n",
        "X['Beds'] = X['Beds'].fillna(X['Beds'].mean())"
      ]
    },
    {
      "cell_type": "code",
      "source": [
        "#Comprobamos valores que faltan:\n",
        "X.isnull().sum()"
      ],
      "metadata": {
        "colab": {
          "base_uri": "https://localhost:8080/"
        },
        "id": "4HIIydDmfCt1",
        "outputId": "7e52c766-d387-450d-ab14-7dd717c64d13"
      },
      "execution_count": 30,
      "outputs": [
        {
          "output_type": "execute_result",
          "data": {
            "text/plain": [
              "Accommodates                           0\n",
              "Bathrooms                              0\n",
              "Bedrooms                               0\n",
              "Beds                                   0\n",
              "Guests Included                        0\n",
              "Extra People                           0\n",
              "Minimum Nights                         0\n",
              "Maximum Nights                         0\n",
              "Number of Reviews                      0\n",
              "Host Total Listings Count              0\n",
              "Property_Type_Apartment                0\n",
              "Property_Type_Bed & Breakfast          0\n",
              "Property_Type_Casa particular          0\n",
              "Property_Type_Chalet                   0\n",
              "Property_Type_Condominium              0\n",
              "Property_Type_Dorm                     0\n",
              "Property_Type_Guesthouse               0\n",
              "Property_Type_Hostel                   0\n",
              "Property_Type_House                    0\n",
              "Property_Type_Loft                     0\n",
              "Property_Type_Other                    0\n",
              "Room_Type_Entire home/apt              0\n",
              "Room_Type_Private room                 0\n",
              "Cancellation_Policy_flexible           0\n",
              "Cancellation_Policy_moderate           0\n",
              "Cancellation_Policy_super_strict_60    0\n",
              "dtype: int64"
            ]
          },
          "metadata": {},
          "execution_count": 30
        }
      ]
    },
    {
      "cell_type": "markdown",
      "metadata": {
        "id": "DNTcPKyv5lEa"
      },
      "source": [
        "# Primer módulo:"
      ]
    },
    {
      "cell_type": "markdown",
      "metadata": {
        "id": "FmV6W-fv7rsT"
      },
      "source": [
        "## Modelo basado en datos"
      ]
    },
    {
      "cell_type": "code",
      "execution_count": 31,
      "metadata": {
        "id": "TqJNcJuL6xcu"
      },
      "outputs": [],
      "source": [
        "#Dividámonos en train y test:\n",
        "from sklearn.model_selection import train_test_split\n",
        "X_train, X_test, y_train, y_test = train_test_split(X, y, test_size=0.2, random_state=42)\n",
        "X_train, X_val, y_train, y_val = train_test_split(X_train, y_train, test_size=0.1, random_state=42)"
      ]
    },
    {
      "cell_type": "markdown",
      "metadata": {
        "id": "0lx5aDO29tzS"
      },
      "source": [
        "El código anterior divide los datos en tres conjuntos: train, validación y test, utilizando la función train_test_split() del módulo sklearn.model_selection.\n",
        "\n",
        "Las variables X e y representan las características de entrada y la variable de salida. \n",
        "\n",
        "El parámetro test_size especifica la proporción de los datos que deben asignarse a test (en este caso, 20 %) y el parámetro random_state garantiza que se obtenga la misma división cada vez que se ejecuta el código.\n",
        "\n",
        "La función train_test_split() se llama dos veces para obtener tres conjuntos: X_train, y_train para entrenamiento, X_val, y_val para validación y X_test, y_test para prueba. \n",
        "\n",
        "El parámetro test_size se usa dos veces para especificar la proporción de los datos asignados al de validación y al test. En este código, el conjunto de validación es el 10 % de train y el test es el 20 % de los datos originales."
      ]
    },
    {
      "cell_type": "code",
      "execution_count": 36,
      "metadata": {
        "id": "iSx19jk0-f18",
        "colab": {
          "base_uri": "https://localhost:8080/"
        },
        "outputId": "f04f1880-5dbe-4b25-8bfc-8a0950f02c56"
      },
      "outputs": [
        {
          "output_type": "stream",
          "name": "stdout",
          "text": [
            "Epoch 1/50\n",
            "63/63 [==============================] - 1s 5ms/step - loss: 6951.9727 - val_loss: 4225.2588\n",
            "Epoch 2/50\n",
            "63/63 [==============================] - 0s 3ms/step - loss: 5642.6675 - val_loss: 2940.6501\n",
            "Epoch 3/50\n",
            "63/63 [==============================] - 0s 3ms/step - loss: 3815.9482 - val_loss: 1793.2120\n",
            "Epoch 4/50\n",
            "63/63 [==============================] - 0s 3ms/step - loss: 2591.1694 - val_loss: 1359.2444\n",
            "Epoch 5/50\n",
            "63/63 [==============================] - 0s 3ms/step - loss: 2166.2090 - val_loss: 1188.2516\n",
            "Epoch 6/50\n",
            "63/63 [==============================] - 0s 3ms/step - loss: 2033.2712 - val_loss: 1095.3801\n",
            "Epoch 7/50\n",
            "63/63 [==============================] - 0s 3ms/step - loss: 1973.3391 - val_loss: 1029.9265\n",
            "Epoch 8/50\n",
            "63/63 [==============================] - 0s 3ms/step - loss: 1932.4417 - val_loss: 970.8580\n",
            "Epoch 9/50\n",
            "63/63 [==============================] - 0s 3ms/step - loss: 1893.4825 - val_loss: 935.7191\n",
            "Epoch 10/50\n",
            "63/63 [==============================] - 0s 3ms/step - loss: 1863.8262 - val_loss: 909.0012\n",
            "Epoch 11/50\n",
            "63/63 [==============================] - 0s 3ms/step - loss: 1836.5372 - val_loss: 872.3268\n",
            "Epoch 12/50\n",
            "63/63 [==============================] - 0s 3ms/step - loss: 1830.9976 - val_loss: 850.3936\n",
            "Epoch 13/50\n",
            "63/63 [==============================] - 0s 3ms/step - loss: 1808.1702 - val_loss: 816.7347\n",
            "Epoch 14/50\n",
            "63/63 [==============================] - 0s 3ms/step - loss: 1780.9384 - val_loss: 798.5262\n",
            "Epoch 15/50\n",
            "63/63 [==============================] - 0s 3ms/step - loss: 1767.7792 - val_loss: 780.4008\n",
            "Epoch 16/50\n",
            "63/63 [==============================] - 0s 3ms/step - loss: 1759.8953 - val_loss: 776.1878\n",
            "Epoch 17/50\n",
            "63/63 [==============================] - 0s 3ms/step - loss: 1743.7830 - val_loss: 770.4278\n",
            "Epoch 18/50\n",
            "63/63 [==============================] - 0s 3ms/step - loss: 1731.8522 - val_loss: 752.1683\n",
            "Epoch 19/50\n",
            "63/63 [==============================] - 0s 3ms/step - loss: 1713.7860 - val_loss: 744.3173\n",
            "Epoch 20/50\n",
            "63/63 [==============================] - 0s 4ms/step - loss: 1707.1857 - val_loss: 728.2247\n",
            "Epoch 21/50\n",
            "63/63 [==============================] - 0s 4ms/step - loss: 1690.6964 - val_loss: 728.5750\n",
            "Epoch 22/50\n",
            "63/63 [==============================] - 0s 4ms/step - loss: 1677.5416 - val_loss: 709.8099\n",
            "Epoch 23/50\n",
            "63/63 [==============================] - 0s 4ms/step - loss: 1675.6090 - val_loss: 699.4742\n",
            "Epoch 24/50\n",
            "63/63 [==============================] - 0s 4ms/step - loss: 1663.0439 - val_loss: 697.6961\n",
            "Epoch 25/50\n",
            "63/63 [==============================] - 0s 4ms/step - loss: 1655.7361 - val_loss: 673.3273\n",
            "Epoch 26/50\n",
            "63/63 [==============================] - 0s 4ms/step - loss: 1649.8411 - val_loss: 680.3754\n",
            "Epoch 27/50\n",
            "63/63 [==============================] - 0s 4ms/step - loss: 1634.4536 - val_loss: 672.1589\n",
            "Epoch 28/50\n",
            "63/63 [==============================] - 0s 5ms/step - loss: 1623.7218 - val_loss: 666.5471\n",
            "Epoch 29/50\n",
            "63/63 [==============================] - 0s 3ms/step - loss: 1624.1272 - val_loss: 667.7983\n",
            "Epoch 30/50\n",
            "63/63 [==============================] - 0s 3ms/step - loss: 1608.6721 - val_loss: 650.5114\n",
            "Epoch 31/50\n",
            "63/63 [==============================] - 0s 3ms/step - loss: 1609.5175 - val_loss: 658.2405\n",
            "Epoch 32/50\n",
            "63/63 [==============================] - 0s 3ms/step - loss: 1598.9586 - val_loss: 662.8016\n",
            "Epoch 33/50\n",
            "63/63 [==============================] - 0s 3ms/step - loss: 1591.4280 - val_loss: 661.7387\n",
            "Epoch 34/50\n",
            "63/63 [==============================] - 0s 3ms/step - loss: 1577.2239 - val_loss: 644.4838\n",
            "Epoch 35/50\n",
            "63/63 [==============================] - 0s 3ms/step - loss: 1570.9236 - val_loss: 655.5499\n",
            "Epoch 36/50\n",
            "63/63 [==============================] - 0s 3ms/step - loss: 1591.2029 - val_loss: 635.9030\n",
            "Epoch 37/50\n",
            "63/63 [==============================] - 0s 3ms/step - loss: 1563.2760 - val_loss: 652.4249\n",
            "Epoch 38/50\n",
            "63/63 [==============================] - 0s 3ms/step - loss: 1552.4717 - val_loss: 634.1564\n",
            "Epoch 39/50\n",
            "63/63 [==============================] - 0s 3ms/step - loss: 1557.7902 - val_loss: 638.8334\n",
            "Epoch 40/50\n",
            "63/63 [==============================] - 0s 3ms/step - loss: 1546.2559 - val_loss: 635.3239\n",
            "Epoch 41/50\n",
            "63/63 [==============================] - 0s 3ms/step - loss: 1543.4039 - val_loss: 638.4926\n",
            "Epoch 42/50\n",
            "63/63 [==============================] - 0s 3ms/step - loss: 1538.2512 - val_loss: 647.1011\n",
            "Epoch 43/50\n",
            "63/63 [==============================] - 0s 3ms/step - loss: 1531.3085 - val_loss: 634.9825\n",
            "Epoch 44/50\n",
            "63/63 [==============================] - 0s 3ms/step - loss: 1532.3082 - val_loss: 648.2368\n",
            "Epoch 45/50\n",
            "63/63 [==============================] - 0s 3ms/step - loss: 1514.4363 - val_loss: 646.5670\n",
            "Epoch 46/50\n",
            "63/63 [==============================] - 0s 3ms/step - loss: 1518.1490 - val_loss: 646.5328\n",
            "Epoch 47/50\n",
            "63/63 [==============================] - 0s 3ms/step - loss: 1509.0890 - val_loss: 617.5617\n",
            "Epoch 48/50\n",
            "63/63 [==============================] - 0s 3ms/step - loss: 1517.7997 - val_loss: 630.6677\n",
            "Epoch 49/50\n",
            "63/63 [==============================] - 0s 3ms/step - loss: 1507.2338 - val_loss: 638.1910\n",
            "Epoch 50/50\n",
            "63/63 [==============================] - 0s 3ms/step - loss: 1492.2532 - val_loss: 619.7457\n",
            "5/5 [==============================] - 0s 3ms/step - loss: 1799.1016\n",
            "Loss=1799.1015625\n"
          ]
        }
      ],
      "source": [
        "# Importando librerias:\n",
        "from tensorflow.keras.models import Sequential\n",
        "from tensorflow.keras.layers import Dense\n",
        "\n",
        "#Creando el modelo secuencial:\n",
        "\"\"\"El modelo es un modelo secuencial, lo que significa que las capas se apilan de forma lineal.\"\"\"\n",
        "model = Sequential()\n",
        "\n",
        "\"\"\"La primera capa es una capa densa con 64 neuronas y \n",
        "    la forma de entrada es el número de características en los datos de X_train. \n",
        "    La función de activación utilizada es 'relu'.\n",
        "\n",
        "    La segunda capa también es una capa densa con 32 neuronas \n",
        "    y la misma función de activación ('relu').\n",
        "\n",
        "    La capa final es una capa densa con 1 neurona \n",
        "    y la función de activación es 'lineal'. \n",
        "    Esto se debe a que queremos predecir un valor continuo (el precio de la habitación) \n",
        "    en lugar de un valor binario (clasificación).\"\"\"\n",
        "#Agregar capas al modelo:\n",
        "model.add(Dense(64, input_shape=(X_train.shape[1],), activation='relu')) #64 neuronas con forma de entrada\n",
        "model.add(Dense(32, activation='relu')) #32 neuronas con activación relu\n",
        "model.add(Dense(1, activation='linear')) #1 neurona con activación lineal\n",
        "\n",
        "\"\"\"La función de pérdida utilizada es 'mean_squared_error', \n",
        "  que mide la diferencia cuadrática promedio entre los valores predichos y reales.\n",
        "  y El optimizador utilizado es 'RMSProp', que es un algoritmo de optimización \n",
        "  de tasa de aprendizaje adaptativo.\n",
        "  \"\"\"\n",
        "#Compilar el modelo:\n",
        "model.compile(loss='mean_squared_error', optimizer='RMSProp')\n",
        "\n",
        "\n",
        "#Entrene el modelo con datos de train y valide con datos de validación:\n",
        "model.fit(X_train, y_train,\n",
        "          validation_data=(X_val, y_val),\n",
        "          epochs=50,\n",
        "          batch_size=8)\n",
        "\n",
        "#Evaluar el modelo en los datos de test:\n",
        "loss = model.evaluate(X_test, y_test)\n",
        "print(f'Loss={loss}')\n"
      ]
    },
    {
      "cell_type": "code",
      "execution_count": 37,
      "metadata": {
        "id": "en3FtphfIi9C",
        "colab": {
          "base_uri": "https://localhost:8080/"
        },
        "outputId": "2f475384-8ac9-4598-b5eb-c61aa2c3ae3c"
      },
      "outputs": [
        {
          "output_type": "stream",
          "name": "stderr",
          "text": [
            "WARNING:absl:`lr` is deprecated, please use `learning_rate` instead, or use the legacy optimizer, e.g.,tf.keras.optimizers.legacy.Adam.\n"
          ]
        },
        {
          "output_type": "stream",
          "name": "stdout",
          "text": [
            "Epoch 1/100\n",
            "63/63 [==============================] - 2s 6ms/step - loss: 6642.9048 - val_loss: 2978.7009\n",
            "Epoch 2/100\n",
            "63/63 [==============================] - 0s 4ms/step - loss: 2658.9966 - val_loss: 1255.0935\n",
            "Epoch 3/100\n",
            "63/63 [==============================] - 0s 4ms/step - loss: 2116.9126 - val_loss: 1035.3700\n",
            "Epoch 4/100\n",
            "63/63 [==============================] - 0s 3ms/step - loss: 2015.7014 - val_loss: 946.6199\n",
            "Epoch 5/100\n",
            "63/63 [==============================] - 0s 3ms/step - loss: 1843.4607 - val_loss: 973.6495\n",
            "Epoch 6/100\n",
            "63/63 [==============================] - 0s 3ms/step - loss: 1910.8541 - val_loss: 906.8394\n",
            "Epoch 7/100\n",
            "63/63 [==============================] - 0s 3ms/step - loss: 1832.5247 - val_loss: 841.5331\n",
            "Epoch 8/100\n",
            "63/63 [==============================] - 0s 4ms/step - loss: 1749.1193 - val_loss: 861.2497\n",
            "Epoch 9/100\n",
            "63/63 [==============================] - 0s 3ms/step - loss: 1692.1395 - val_loss: 823.0245\n",
            "Epoch 10/100\n",
            "63/63 [==============================] - 0s 3ms/step - loss: 1826.2616 - val_loss: 786.8436\n",
            "Epoch 11/100\n",
            "63/63 [==============================] - 0s 3ms/step - loss: 1777.0493 - val_loss: 764.8143\n",
            "Epoch 12/100\n",
            "63/63 [==============================] - 0s 3ms/step - loss: 1811.4115 - val_loss: 786.2337\n",
            "Epoch 13/100\n",
            "63/63 [==============================] - 0s 3ms/step - loss: 1625.0582 - val_loss: 765.8456\n",
            "Epoch 14/100\n",
            "63/63 [==============================] - 0s 3ms/step - loss: 1604.4939 - val_loss: 796.1992\n",
            "Epoch 15/100\n",
            "63/63 [==============================] - 0s 4ms/step - loss: 1684.7687 - val_loss: 762.6216\n",
            "Epoch 16/100\n",
            "63/63 [==============================] - 0s 3ms/step - loss: 1567.7189 - val_loss: 793.5521\n",
            "Epoch 17/100\n",
            "63/63 [==============================] - 0s 7ms/step - loss: 1612.4559 - val_loss: 756.2657\n",
            "Epoch 18/100\n",
            "63/63 [==============================] - 1s 8ms/step - loss: 1524.4855 - val_loss: 804.4136\n",
            "Epoch 19/100\n",
            "63/63 [==============================] - 1s 11ms/step - loss: 1525.2675 - val_loss: 784.8126\n",
            "Epoch 20/100\n",
            "63/63 [==============================] - 0s 5ms/step - loss: 1597.3068 - val_loss: 782.1608\n",
            "Epoch 21/100\n",
            "63/63 [==============================] - 0s 5ms/step - loss: 1555.8221 - val_loss: 706.0491\n",
            "Epoch 22/100\n",
            "63/63 [==============================] - 0s 5ms/step - loss: 1520.5781 - val_loss: 735.9664\n",
            "Epoch 23/100\n",
            "63/63 [==============================] - 0s 5ms/step - loss: 1464.2440 - val_loss: 691.1859\n",
            "Epoch 24/100\n",
            "63/63 [==============================] - 0s 5ms/step - loss: 1525.8063 - val_loss: 767.3831\n",
            "Epoch 25/100\n",
            "63/63 [==============================] - 0s 5ms/step - loss: 1483.7079 - val_loss: 698.2112\n",
            "Epoch 26/100\n",
            "63/63 [==============================] - 0s 3ms/step - loss: 1486.0449 - val_loss: 763.7607\n",
            "Epoch 27/100\n",
            "63/63 [==============================] - 0s 4ms/step - loss: 1485.5945 - val_loss: 793.4064\n",
            "Epoch 28/100\n",
            "63/63 [==============================] - 0s 3ms/step - loss: 1417.4464 - val_loss: 774.8506\n",
            "Epoch 29/100\n",
            "63/63 [==============================] - 0s 3ms/step - loss: 1385.3406 - val_loss: 730.2601\n",
            "Epoch 30/100\n",
            "63/63 [==============================] - 0s 3ms/step - loss: 1382.1895 - val_loss: 696.9120\n",
            "Epoch 31/100\n",
            "63/63 [==============================] - 0s 3ms/step - loss: 1395.1858 - val_loss: 720.7592\n",
            "Epoch 32/100\n",
            "63/63 [==============================] - 0s 3ms/step - loss: 1352.2335 - val_loss: 751.0782\n",
            "Epoch 33/100\n",
            "63/63 [==============================] - 0s 3ms/step - loss: 1367.5289 - val_loss: 812.9137\n",
            "5/5 [==============================] - 0s 3ms/step - loss: 2152.4346\n",
            "Loss=2152.4345703125\n"
          ]
        }
      ],
      "source": [
        "from tensorflow.keras.models import Sequential\n",
        "from tensorflow.keras.layers import Dense, Dropout\n",
        "from tensorflow.keras.optimizers import Adam\n",
        "from tensorflow.keras.callbacks import EarlyStopping\n",
        "\n",
        "#Definiendo el modelo:\n",
        "model = Sequential()\n",
        "\n",
        "#Agregar capas al modelo:\n",
        "#capas de entrada con 128 neuronas:\n",
        "model.add(Dense(128, input_shape=(X_train.shape[1],), activation='relu'))\n",
        "model.add(Dropout(0.2))\n",
        "\n",
        "#Capas ocultas con 64 neuronas:\n",
        "model.add(Dense(64, activation='relu'))\n",
        "model.add(Dropout(0.3))\n",
        "\n",
        "#Capas ocultas con 32 neuronas:\n",
        "model.add(Dense(32, activation='relu'))\n",
        "\n",
        "#Capa de salida:\n",
        "model.add(Dense(1, activation='linear'))\n",
        "\n",
        "#Compilar el modelo:\n",
        "optimizer = Adam(lr=0.005)\n",
        "model.compile(loss='mean_squared_error', optimizer=optimizer)\n",
        "\n",
        "#Definir devolución de llamada de detención anticipada:\n",
        "early_stop = EarlyStopping(monitor='val_loss', patience=10)\n",
        "\n",
        "#Entrene el modelo con datos de train y valide con datos de validación:\n",
        "history = model.fit(X_train, y_train,\n",
        "                    validation_data=(X_val, y_val),\n",
        "                    epochs=100,\n",
        "                    batch_size=8,\n",
        "                    callbacks=[early_stop])\n",
        "\n",
        "#Evaluar el modelo en los datos de test:\n",
        "loss = model.evaluate(X_test, y_test)\n",
        "print(f'Loss={loss}')\n"
      ]
    },
    {
      "cell_type": "markdown",
      "metadata": {
        "id": "FFALnsxiKYqf"
      },
      "source": [
        "Agregamos más capas al modelo para aumentar su complejidad y capacidad. También agregamos capas de exclusión para evitar el sobreajuste y usamos el optimizador Adam con una tasa de aprendizaje baja para mejorar la convergencia.\n",
        "\n",
        "he incluimos la detención anticipada como devolución de llamada para evitar el sobreajuste y mejorar la generalización. Esto nos permite dejar de entrenar cuando la pérdida de validación deja de mejorar después de un cierto número de épocas (en este caso, 10).\n",
        "\n",
        "Igualmente podemos ajustar la cantidad de capas, neuronas, tasa de abandono, tasa de aprendizaje y parámetros de parada temprana para optimizar aún más el modelo para su problema específico."
      ]
    },
    {
      "cell_type": "markdown",
      "metadata": {
        "id": "tZjCq423Kw2A"
      },
      "source": [
        "## Modelo basado en imagen"
      ]
    },
    {
      "cell_type": "code",
      "execution_count": 43,
      "metadata": {
        "id": "Ln9FW5OmK3Ck",
        "colab": {
          "base_uri": "https://localhost:8080/",
          "height": 1000
        },
        "outputId": "b59cfa59-b600-4e53-e985-5a0f4b24a65c"
      },
      "outputs": [
        {
          "output_type": "stream",
          "name": "stderr",
          "text": [
            "\r  0%|          | 0/700 [00:00<?, ?it/s]"
          ]
        },
        {
          "output_type": "stream",
          "name": "stdout",
          "text": [
            "1/1 [==============================] - 0s 142ms/step\n"
          ]
        },
        {
          "output_type": "stream",
          "name": "stderr",
          "text": [
            "\r  0%|          | 1/700 [00:00<02:08,  5.44it/s]"
          ]
        },
        {
          "output_type": "stream",
          "name": "stdout",
          "text": [
            "1/1 [==============================] - 0s 20ms/step\n",
            "1/1 [==============================] - 0s 18ms/step\n"
          ]
        },
        {
          "output_type": "stream",
          "name": "stderr",
          "text": [
            "\r  0%|          | 3/700 [00:00<01:03, 10.95it/s]"
          ]
        },
        {
          "output_type": "stream",
          "name": "stdout",
          "text": [
            "1/1 [==============================] - 0s 20ms/step\n",
            "1/1 [==============================] - 0s 21ms/step\n"
          ]
        },
        {
          "output_type": "stream",
          "name": "stderr",
          "text": [
            "\r  1%|          | 5/700 [00:00<00:51, 13.44it/s]"
          ]
        },
        {
          "output_type": "stream",
          "name": "stdout",
          "text": [
            "1/1 [==============================] - 0s 20ms/step\n",
            "1/1 [==============================] - 0s 19ms/step\n"
          ]
        },
        {
          "output_type": "stream",
          "name": "stderr",
          "text": [
            "\r  1%|          | 7/700 [00:00<00:46, 14.87it/s]"
          ]
        },
        {
          "output_type": "stream",
          "name": "stdout",
          "text": [
            "1/1 [==============================] - 0s 20ms/step\n",
            "1/1 [==============================] - 0s 20ms/step\n"
          ]
        },
        {
          "output_type": "stream",
          "name": "stderr",
          "text": [
            "\r  1%|▏         | 9/700 [00:00<00:45, 15.07it/s]"
          ]
        },
        {
          "output_type": "stream",
          "name": "stdout",
          "text": [
            "1/1 [==============================] - 0s 22ms/step\n",
            "1/1 [==============================] - 0s 26ms/step\n"
          ]
        },
        {
          "output_type": "stream",
          "name": "stderr",
          "text": [
            "\r  2%|▏         | 11/700 [00:00<00:45, 15.14it/s]"
          ]
        },
        {
          "output_type": "stream",
          "name": "stdout",
          "text": [
            "1/1 [==============================] - 0s 20ms/step\n",
            "1/1 [==============================] - 0s 20ms/step\n"
          ]
        },
        {
          "output_type": "stream",
          "name": "stderr",
          "text": [
            "\r  2%|▏         | 13/700 [00:00<00:44, 15.32it/s]"
          ]
        },
        {
          "output_type": "stream",
          "name": "stdout",
          "text": [
            "1/1 [==============================] - 0s 19ms/step\n",
            "1/1 [==============================] - 0s 31ms/step\n"
          ]
        },
        {
          "output_type": "stream",
          "name": "stderr",
          "text": [
            "\r  2%|▏         | 15/700 [00:01<00:44, 15.32it/s]"
          ]
        },
        {
          "output_type": "stream",
          "name": "stdout",
          "text": [
            "1/1 [==============================] - 0s 31ms/step\n",
            "1/1 [==============================] - 0s 28ms/step\n"
          ]
        },
        {
          "output_type": "stream",
          "name": "stderr",
          "text": [
            "\r  2%|▏         | 17/700 [00:01<00:51, 13.31it/s]"
          ]
        },
        {
          "output_type": "stream",
          "name": "stdout",
          "text": [
            "1/1 [==============================] - 0s 30ms/step\n",
            "1/1 [==============================] - 0s 28ms/step\n"
          ]
        },
        {
          "output_type": "stream",
          "name": "stderr",
          "text": [
            "\r  3%|▎         | 19/700 [00:01<00:54, 12.45it/s]"
          ]
        },
        {
          "output_type": "stream",
          "name": "stdout",
          "text": [
            "1/1 [==============================] - 0s 27ms/step\n",
            "1/1 [==============================] - 0s 29ms/step\n"
          ]
        },
        {
          "output_type": "stream",
          "name": "stderr",
          "text": [
            "\r  3%|▎         | 21/700 [00:01<00:58, 11.65it/s]"
          ]
        },
        {
          "output_type": "stream",
          "name": "stdout",
          "text": [
            "1/1 [==============================] - 0s 31ms/step\n",
            "1/1 [==============================] - 0s 37ms/step\n"
          ]
        },
        {
          "output_type": "stream",
          "name": "stderr",
          "text": [
            "\r  3%|▎         | 23/700 [00:01<01:00, 11.23it/s]"
          ]
        },
        {
          "output_type": "stream",
          "name": "stdout",
          "text": [
            "1/1 [==============================] - 0s 28ms/step\n",
            "1/1 [==============================] - 0s 29ms/step\n"
          ]
        },
        {
          "output_type": "stream",
          "name": "stderr",
          "text": [
            "\r  4%|▎         | 25/700 [00:02<01:00, 11.12it/s]"
          ]
        },
        {
          "output_type": "stream",
          "name": "stdout",
          "text": [
            "1/1 [==============================] - 0s 36ms/step\n",
            "1/1 [==============================] - 0s 29ms/step\n"
          ]
        },
        {
          "output_type": "stream",
          "name": "stderr",
          "text": [
            "\r  4%|▍         | 27/700 [00:02<01:02, 10.73it/s]"
          ]
        },
        {
          "output_type": "stream",
          "name": "stdout",
          "text": [
            "1/1 [==============================] - 0s 29ms/step\n",
            "1/1 [==============================] - 0s 27ms/step\n"
          ]
        },
        {
          "output_type": "stream",
          "name": "stderr",
          "text": [
            "\r  4%|▍         | 29/700 [00:02<01:03, 10.64it/s]"
          ]
        },
        {
          "output_type": "stream",
          "name": "stdout",
          "text": [
            "1/1 [==============================] - 0s 28ms/step\n",
            "1/1 [==============================] - 0s 29ms/step\n"
          ]
        },
        {
          "output_type": "stream",
          "name": "stderr",
          "text": [
            "\r  4%|▍         | 31/700 [00:02<01:02, 10.62it/s]"
          ]
        },
        {
          "output_type": "stream",
          "name": "stdout",
          "text": [
            "1/1 [==============================] - 0s 29ms/step\n",
            "1/1 [==============================] - 0s 28ms/step\n"
          ]
        },
        {
          "output_type": "stream",
          "name": "stderr",
          "text": [
            "\r  5%|▍         | 33/700 [00:02<01:02, 10.70it/s]"
          ]
        },
        {
          "output_type": "stream",
          "name": "stdout",
          "text": [
            "1/1 [==============================] - 0s 33ms/step\n",
            "1/1 [==============================] - 0s 32ms/step\n"
          ]
        },
        {
          "output_type": "stream",
          "name": "stderr",
          "text": [
            "\r  5%|▌         | 35/700 [00:02<01:03, 10.53it/s]"
          ]
        },
        {
          "output_type": "stream",
          "name": "stdout",
          "text": [
            "1/1 [==============================] - 0s 32ms/step\n",
            "1/1 [==============================] - 0s 32ms/step\n"
          ]
        },
        {
          "output_type": "stream",
          "name": "stderr",
          "text": [
            "\r  5%|▌         | 37/700 [00:03<01:03, 10.50it/s]"
          ]
        },
        {
          "output_type": "stream",
          "name": "stdout",
          "text": [
            "1/1 [==============================] - 0s 31ms/step\n",
            "1/1 [==============================] - 0s 29ms/step\n"
          ]
        },
        {
          "output_type": "stream",
          "name": "stderr",
          "text": [
            "\r  6%|▌         | 39/700 [00:03<01:02, 10.63it/s]"
          ]
        },
        {
          "output_type": "stream",
          "name": "stdout",
          "text": [
            "1/1 [==============================] - 0s 29ms/step\n",
            "1/1 [==============================] - 0s 26ms/step\n"
          ]
        },
        {
          "output_type": "stream",
          "name": "stderr",
          "text": [
            "\r  6%|▌         | 41/700 [00:03<01:00, 10.89it/s]"
          ]
        },
        {
          "output_type": "stream",
          "name": "stdout",
          "text": [
            "1/1 [==============================] - 0s 19ms/step\n",
            "1/1 [==============================] - 0s 21ms/step\n"
          ]
        },
        {
          "output_type": "stream",
          "name": "stderr",
          "text": [
            "\r  6%|▌         | 43/700 [00:03<00:54, 12.16it/s]"
          ]
        },
        {
          "output_type": "stream",
          "name": "stdout",
          "text": [
            "1/1 [==============================] - 0s 20ms/step\n",
            "1/1 [==============================] - 0s 21ms/step\n"
          ]
        },
        {
          "output_type": "stream",
          "name": "stderr",
          "text": [
            "\r  6%|▋         | 45/700 [00:03<00:50, 12.85it/s]"
          ]
        },
        {
          "output_type": "stream",
          "name": "stdout",
          "text": [
            "1/1 [==============================] - 0s 22ms/step\n",
            "1/1 [==============================] - 0s 26ms/step\n"
          ]
        },
        {
          "output_type": "stream",
          "name": "stderr",
          "text": [
            "\r  7%|▋         | 47/700 [00:03<00:48, 13.46it/s]"
          ]
        },
        {
          "output_type": "stream",
          "name": "stdout",
          "text": [
            "1/1 [==============================] - 0s 19ms/step\n",
            "1/1 [==============================] - 0s 20ms/step\n"
          ]
        },
        {
          "output_type": "stream",
          "name": "stderr",
          "text": [
            "\r  7%|▋         | 49/700 [00:04<00:45, 14.36it/s]"
          ]
        },
        {
          "output_type": "stream",
          "name": "stdout",
          "text": [
            "1/1 [==============================] - 0s 21ms/step\n",
            "1/1 [==============================] - 0s 19ms/step\n"
          ]
        },
        {
          "output_type": "stream",
          "name": "stderr",
          "text": [
            "\r  7%|▋         | 51/700 [00:04<00:43, 14.99it/s]"
          ]
        },
        {
          "output_type": "stream",
          "name": "stdout",
          "text": [
            "1/1 [==============================] - 0s 19ms/step\n",
            "1/1 [==============================] - 0s 20ms/step\n"
          ]
        },
        {
          "output_type": "stream",
          "name": "stderr",
          "text": [
            "\r  8%|▊         | 53/700 [00:04<00:42, 15.16it/s]"
          ]
        },
        {
          "output_type": "stream",
          "name": "stdout",
          "text": [
            "1/1 [==============================] - 0s 23ms/step\n",
            "1/1 [==============================] - 0s 20ms/step\n"
          ]
        },
        {
          "output_type": "stream",
          "name": "stderr",
          "text": [
            "\r  8%|▊         | 55/700 [00:04<00:42, 15.29it/s]"
          ]
        },
        {
          "output_type": "stream",
          "name": "stdout",
          "text": [
            "1/1 [==============================] - 0s 23ms/step\n",
            "1/1 [==============================] - 0s 20ms/step\n"
          ]
        },
        {
          "output_type": "stream",
          "name": "stderr",
          "text": [
            "\r  8%|▊         | 57/700 [00:04<00:41, 15.51it/s]"
          ]
        },
        {
          "output_type": "stream",
          "name": "stdout",
          "text": [
            "1/1 [==============================] - 0s 19ms/step\n",
            "1/1 [==============================] - 0s 19ms/step\n"
          ]
        },
        {
          "output_type": "stream",
          "name": "stderr",
          "text": [
            "\r  8%|▊         | 59/700 [00:04<00:40, 15.81it/s]"
          ]
        },
        {
          "output_type": "stream",
          "name": "stdout",
          "text": [
            "1/1 [==============================] - 0s 19ms/step\n",
            "1/1 [==============================] - 0s 19ms/step\n"
          ]
        },
        {
          "output_type": "stream",
          "name": "stderr",
          "text": [
            "\r  9%|▊         | 61/700 [00:04<00:39, 16.12it/s]"
          ]
        },
        {
          "output_type": "stream",
          "name": "stdout",
          "text": [
            "1/1 [==============================] - 0s 24ms/step\n",
            "1/1 [==============================] - 0s 30ms/step\n"
          ]
        },
        {
          "output_type": "stream",
          "name": "stderr",
          "text": [
            "\r  9%|▉         | 63/700 [00:04<00:42, 15.04it/s]"
          ]
        },
        {
          "output_type": "stream",
          "name": "stdout",
          "text": [
            "1/1 [==============================] - 0s 22ms/step\n",
            "1/1 [==============================] - 0s 21ms/step\n"
          ]
        },
        {
          "output_type": "stream",
          "name": "stderr",
          "text": [
            "\r  9%|▉         | 65/700 [00:05<00:41, 15.41it/s]"
          ]
        },
        {
          "output_type": "stream",
          "name": "stdout",
          "text": [
            "1/1 [==============================] - 0s 22ms/step\n",
            "1/1 [==============================] - 0s 22ms/step\n"
          ]
        },
        {
          "output_type": "stream",
          "name": "stderr",
          "text": [
            "\r 10%|▉         | 67/700 [00:05<00:40, 15.56it/s]"
          ]
        },
        {
          "output_type": "stream",
          "name": "stdout",
          "text": [
            "1/1 [==============================] - 0s 20ms/step\n",
            "1/1 [==============================] - 0s 21ms/step\n"
          ]
        },
        {
          "output_type": "stream",
          "name": "stderr",
          "text": [
            "\r 10%|▉         | 69/700 [00:05<00:39, 15.87it/s]"
          ]
        },
        {
          "output_type": "stream",
          "name": "stdout",
          "text": [
            "1/1 [==============================] - 0s 20ms/step\n",
            "1/1 [==============================] - 0s 19ms/step\n"
          ]
        },
        {
          "output_type": "stream",
          "name": "stderr",
          "text": [
            "\r 10%|█         | 71/700 [00:05<00:39, 16.01it/s]"
          ]
        },
        {
          "output_type": "stream",
          "name": "stdout",
          "text": [
            "1/1 [==============================] - 0s 21ms/step\n",
            "1/1 [==============================] - 0s 22ms/step\n"
          ]
        },
        {
          "output_type": "stream",
          "name": "stderr",
          "text": [
            "\r 10%|█         | 73/700 [00:05<00:39, 15.71it/s]"
          ]
        },
        {
          "output_type": "stream",
          "name": "stdout",
          "text": [
            "1/1 [==============================] - 0s 22ms/step\n",
            "1/1 [==============================] - 0s 20ms/step\n"
          ]
        },
        {
          "output_type": "stream",
          "name": "stderr",
          "text": [
            "\r 11%|█         | 75/700 [00:05<00:39, 15.79it/s]"
          ]
        },
        {
          "output_type": "stream",
          "name": "stdout",
          "text": [
            "1/1 [==============================] - 0s 21ms/step\n",
            "1/1 [==============================] - 0s 20ms/step\n"
          ]
        },
        {
          "output_type": "stream",
          "name": "stderr",
          "text": [
            "\r 11%|█         | 77/700 [00:05<00:39, 15.83it/s]"
          ]
        },
        {
          "output_type": "stream",
          "name": "stdout",
          "text": [
            "1/1 [==============================] - 0s 19ms/step\n",
            "1/1 [==============================] - 0s 18ms/step\n"
          ]
        },
        {
          "output_type": "stream",
          "name": "stderr",
          "text": [
            "\r 11%|█▏        | 79/700 [00:05<00:38, 16.15it/s]"
          ]
        },
        {
          "output_type": "stream",
          "name": "stdout",
          "text": [
            "1/1 [==============================] - 0s 19ms/step\n",
            "1/1 [==============================] - 0s 20ms/step\n"
          ]
        },
        {
          "output_type": "stream",
          "name": "stderr",
          "text": [
            "\r 12%|█▏        | 81/700 [00:06<00:40, 15.45it/s]"
          ]
        },
        {
          "output_type": "stream",
          "name": "stdout",
          "text": [
            "1/1 [==============================] - 0s 20ms/step\n",
            "1/1 [==============================] - 0s 20ms/step\n"
          ]
        },
        {
          "output_type": "stream",
          "name": "stderr",
          "text": [
            "\r 12%|█▏        | 83/700 [00:06<00:38, 15.86it/s]"
          ]
        },
        {
          "output_type": "stream",
          "name": "stdout",
          "text": [
            "1/1 [==============================] - 0s 19ms/step\n",
            "1/1 [==============================] - 0s 20ms/step\n"
          ]
        },
        {
          "output_type": "stream",
          "name": "stderr",
          "text": [
            "\r 12%|█▏        | 85/700 [00:06<00:38, 15.99it/s]"
          ]
        },
        {
          "output_type": "stream",
          "name": "stdout",
          "text": [
            "1/1 [==============================] - 0s 19ms/step\n",
            "1/1 [==============================] - 0s 19ms/step\n"
          ]
        },
        {
          "output_type": "stream",
          "name": "stderr",
          "text": [
            "\r 12%|█▏        | 87/700 [00:06<00:37, 16.31it/s]"
          ]
        },
        {
          "output_type": "stream",
          "name": "stdout",
          "text": [
            "1/1 [==============================] - 0s 22ms/step\n",
            "1/1 [==============================] - 0s 20ms/step\n"
          ]
        },
        {
          "output_type": "stream",
          "name": "stderr",
          "text": [
            "\r 13%|█▎        | 89/700 [00:06<00:37, 16.17it/s]"
          ]
        },
        {
          "output_type": "stream",
          "name": "stdout",
          "text": [
            "1/1 [==============================] - 0s 20ms/step\n",
            "1/1 [==============================] - 0s 22ms/step\n"
          ]
        },
        {
          "output_type": "stream",
          "name": "stderr",
          "text": [
            "\r 13%|█▎        | 91/700 [00:06<00:38, 15.99it/s]"
          ]
        },
        {
          "output_type": "stream",
          "name": "stdout",
          "text": [
            "1/1 [==============================] - 0s 20ms/step\n",
            "1/1 [==============================] - 0s 22ms/step\n"
          ]
        },
        {
          "output_type": "stream",
          "name": "stderr",
          "text": [
            "\r 13%|█▎        | 93/700 [00:06<00:38, 15.66it/s]"
          ]
        },
        {
          "output_type": "stream",
          "name": "stdout",
          "text": [
            "1/1 [==============================] - 0s 21ms/step\n",
            "1/1 [==============================] - 0s 21ms/step\n"
          ]
        },
        {
          "output_type": "stream",
          "name": "stderr",
          "text": [
            "\r 14%|█▎        | 95/700 [00:06<00:38, 15.77it/s]"
          ]
        },
        {
          "output_type": "stream",
          "name": "stdout",
          "text": [
            "1/1 [==============================] - 0s 22ms/step\n",
            "1/1 [==============================] - 0s 22ms/step\n"
          ]
        },
        {
          "output_type": "stream",
          "name": "stderr",
          "text": [
            "\r 14%|█▍        | 97/700 [00:07<00:39, 15.40it/s]"
          ]
        },
        {
          "output_type": "stream",
          "name": "stdout",
          "text": [
            "1/1 [==============================] - 0s 20ms/step\n",
            "1/1 [==============================] - 0s 23ms/step\n"
          ]
        },
        {
          "output_type": "stream",
          "name": "stderr",
          "text": [
            "\r 14%|█▍        | 99/700 [00:07<00:39, 15.25it/s]"
          ]
        },
        {
          "output_type": "stream",
          "name": "stdout",
          "text": [
            "1/1 [==============================] - 0s 21ms/step\n",
            "1/1 [==============================] - 0s 20ms/step\n"
          ]
        },
        {
          "output_type": "stream",
          "name": "stderr",
          "text": [
            "\r 14%|█▍        | 101/700 [00:07<00:38, 15.58it/s]"
          ]
        },
        {
          "output_type": "stream",
          "name": "stdout",
          "text": [
            "1/1 [==============================] - 0s 22ms/step\n",
            "1/1 [==============================] - 0s 20ms/step\n"
          ]
        },
        {
          "output_type": "stream",
          "name": "stderr",
          "text": [
            "\r 15%|█▍        | 103/700 [00:07<00:37, 15.80it/s]"
          ]
        },
        {
          "output_type": "stream",
          "name": "stdout",
          "text": [
            "1/1 [==============================] - 0s 19ms/step\n",
            "1/1 [==============================] - 0s 26ms/step\n"
          ]
        },
        {
          "output_type": "stream",
          "name": "stderr",
          "text": [
            "\r 15%|█▌        | 105/700 [00:07<00:37, 15.81it/s]"
          ]
        },
        {
          "output_type": "stream",
          "name": "stdout",
          "text": [
            "1/1 [==============================] - 0s 20ms/step\n",
            "1/1 [==============================] - 0s 19ms/step\n"
          ]
        },
        {
          "output_type": "stream",
          "name": "stderr",
          "text": [
            "\r 15%|█▌        | 107/700 [00:07<00:37, 16.02it/s]"
          ]
        },
        {
          "output_type": "stream",
          "name": "stdout",
          "text": [
            "1/1 [==============================] - 0s 19ms/step\n",
            "1/1 [==============================] - 0s 21ms/step\n"
          ]
        },
        {
          "output_type": "stream",
          "name": "stderr",
          "text": [
            "\r 16%|█▌        | 109/700 [00:07<00:37, 15.85it/s]"
          ]
        },
        {
          "output_type": "stream",
          "name": "stdout",
          "text": [
            "1/1 [==============================] - 0s 20ms/step\n",
            "1/1 [==============================] - 0s 21ms/step\n"
          ]
        },
        {
          "output_type": "stream",
          "name": "stderr",
          "text": [
            "\r 16%|█▌        | 111/700 [00:07<00:37, 15.87it/s]"
          ]
        },
        {
          "output_type": "stream",
          "name": "stdout",
          "text": [
            "1/1 [==============================] - 0s 19ms/step\n",
            "1/1 [==============================] - 0s 22ms/step\n"
          ]
        },
        {
          "output_type": "stream",
          "name": "stderr",
          "text": [
            "\r 16%|█▌        | 113/700 [00:08<00:39, 14.99it/s]"
          ]
        },
        {
          "output_type": "stream",
          "name": "stdout",
          "text": [
            "1/1 [==============================] - 0s 22ms/step\n",
            "1/1 [==============================] - 0s 21ms/step\n"
          ]
        },
        {
          "output_type": "stream",
          "name": "stderr",
          "text": [
            "\r 16%|█▋        | 115/700 [00:08<00:38, 15.30it/s]"
          ]
        },
        {
          "output_type": "stream",
          "name": "stdout",
          "text": [
            "1/1 [==============================] - 0s 20ms/step\n",
            "1/1 [==============================] - 0s 20ms/step\n"
          ]
        },
        {
          "output_type": "stream",
          "name": "stderr",
          "text": [
            "\r 17%|█▋        | 117/700 [00:08<00:37, 15.49it/s]"
          ]
        },
        {
          "output_type": "stream",
          "name": "stdout",
          "text": [
            "1/1 [==============================] - 0s 22ms/step\n",
            "1/1 [==============================] - 0s 20ms/step\n"
          ]
        },
        {
          "output_type": "stream",
          "name": "stderr",
          "text": [
            "\r 17%|█▋        | 119/700 [00:08<00:37, 15.34it/s]"
          ]
        },
        {
          "output_type": "stream",
          "name": "stdout",
          "text": [
            "1/1 [==============================] - 0s 20ms/step\n",
            "1/1 [==============================] - 0s 20ms/step\n"
          ]
        },
        {
          "output_type": "stream",
          "name": "stderr",
          "text": [
            "\r 17%|█▋        | 121/700 [00:08<00:37, 15.31it/s]"
          ]
        },
        {
          "output_type": "stream",
          "name": "stdout",
          "text": [
            "1/1 [==============================] - 0s 18ms/step\n",
            "1/1 [==============================] - 0s 21ms/step\n"
          ]
        },
        {
          "output_type": "stream",
          "name": "stderr",
          "text": [
            "\r 18%|█▊        | 123/700 [00:08<00:36, 15.70it/s]"
          ]
        },
        {
          "output_type": "stream",
          "name": "stdout",
          "text": [
            "1/1 [==============================] - 0s 19ms/step\n",
            "1/1 [==============================] - 0s 20ms/step\n"
          ]
        },
        {
          "output_type": "stream",
          "name": "stderr",
          "text": [
            "\r 18%|█▊        | 125/700 [00:08<00:36, 15.88it/s]"
          ]
        },
        {
          "output_type": "stream",
          "name": "stdout",
          "text": [
            "1/1 [==============================] - 0s 20ms/step\n",
            "1/1 [==============================] - 0s 23ms/step\n"
          ]
        },
        {
          "output_type": "stream",
          "name": "stderr",
          "text": [
            "\r 18%|█▊        | 127/700 [00:08<00:36, 15.72it/s]"
          ]
        },
        {
          "output_type": "stream",
          "name": "stdout",
          "text": [
            "1/1 [==============================] - 0s 20ms/step\n",
            "1/1 [==============================] - 0s 18ms/step\n"
          ]
        },
        {
          "output_type": "stream",
          "name": "stderr",
          "text": [
            "\r 18%|█▊        | 129/700 [00:09<00:36, 15.80it/s]"
          ]
        },
        {
          "output_type": "stream",
          "name": "stdout",
          "text": [
            "1/1 [==============================] - 0s 21ms/step\n",
            "1/1 [==============================] - 0s 18ms/step\n"
          ]
        },
        {
          "output_type": "stream",
          "name": "stderr",
          "text": [
            "\r 19%|█▊        | 131/700 [00:09<00:36, 15.68it/s]"
          ]
        },
        {
          "output_type": "stream",
          "name": "stdout",
          "text": [
            "1/1 [==============================] - 0s 19ms/step\n",
            "1/1 [==============================] - 0s 19ms/step\n"
          ]
        },
        {
          "output_type": "stream",
          "name": "stderr",
          "text": [
            "\r 19%|█▉        | 133/700 [00:09<00:35, 15.95it/s]"
          ]
        },
        {
          "output_type": "stream",
          "name": "stdout",
          "text": [
            "1/1 [==============================] - 0s 19ms/step\n",
            "1/1 [==============================] - 0s 22ms/step\n"
          ]
        },
        {
          "output_type": "stream",
          "name": "stderr",
          "text": [
            "\r 19%|█▉        | 135/700 [00:09<00:36, 15.45it/s]"
          ]
        },
        {
          "output_type": "stream",
          "name": "stdout",
          "text": [
            "1/1 [==============================] - 0s 20ms/step\n",
            "1/1 [==============================] - 0s 22ms/step\n"
          ]
        },
        {
          "output_type": "stream",
          "name": "stderr",
          "text": [
            "\r 20%|█▉        | 137/700 [00:09<00:36, 15.58it/s]"
          ]
        },
        {
          "output_type": "stream",
          "name": "stdout",
          "text": [
            "1/1 [==============================] - 0s 21ms/step\n",
            "1/1 [==============================] - 0s 18ms/step\n"
          ]
        },
        {
          "output_type": "stream",
          "name": "stderr",
          "text": [
            "\r 20%|█▉        | 139/700 [00:09<00:35, 15.83it/s]"
          ]
        },
        {
          "output_type": "stream",
          "name": "stdout",
          "text": [
            "1/1 [==============================] - 0s 19ms/step\n",
            "1/1 [==============================] - 0s 20ms/step\n"
          ]
        },
        {
          "output_type": "stream",
          "name": "stderr",
          "text": [
            "\r 20%|██        | 141/700 [00:09<00:36, 15.37it/s]"
          ]
        },
        {
          "output_type": "stream",
          "name": "stdout",
          "text": [
            "1/1 [==============================] - 0s 20ms/step\n",
            "1/1 [==============================] - 0s 25ms/step\n"
          ]
        },
        {
          "output_type": "stream",
          "name": "stderr",
          "text": [
            "\r 20%|██        | 143/700 [00:10<00:37, 15.00it/s]"
          ]
        },
        {
          "output_type": "stream",
          "name": "stdout",
          "text": [
            "1/1 [==============================] - 0s 20ms/step\n",
            "1/1 [==============================] - 0s 21ms/step\n"
          ]
        },
        {
          "output_type": "stream",
          "name": "stderr",
          "text": [
            "\r 21%|██        | 145/700 [00:10<00:36, 15.16it/s]"
          ]
        },
        {
          "output_type": "stream",
          "name": "stdout",
          "text": [
            "1/1 [==============================] - 0s 23ms/step\n",
            "1/1 [==============================] - 0s 22ms/step\n"
          ]
        },
        {
          "output_type": "stream",
          "name": "stderr",
          "text": [
            "\r 21%|██        | 147/700 [00:10<00:36, 14.98it/s]"
          ]
        },
        {
          "output_type": "stream",
          "name": "stdout",
          "text": [
            "1/1 [==============================] - 0s 21ms/step\n",
            "1/1 [==============================] - 0s 20ms/step\n"
          ]
        },
        {
          "output_type": "stream",
          "name": "stderr",
          "text": [
            "\r 21%|██▏       | 149/700 [00:10<00:36, 15.17it/s]"
          ]
        },
        {
          "output_type": "stream",
          "name": "stdout",
          "text": [
            "1/1 [==============================] - 0s 20ms/step\n",
            "1/1 [==============================] - 0s 20ms/step\n"
          ]
        },
        {
          "output_type": "stream",
          "name": "stderr",
          "text": [
            "\r 22%|██▏       | 151/700 [00:10<00:36, 15.12it/s]"
          ]
        },
        {
          "output_type": "stream",
          "name": "stdout",
          "text": [
            "1/1 [==============================] - 0s 21ms/step\n",
            "1/1 [==============================] - 0s 19ms/step\n"
          ]
        },
        {
          "output_type": "stream",
          "name": "stderr",
          "text": [
            "\r 22%|██▏       | 153/700 [00:10<00:35, 15.40it/s]"
          ]
        },
        {
          "output_type": "stream",
          "name": "stdout",
          "text": [
            "1/1 [==============================] - 0s 20ms/step\n",
            "1/1 [==============================] - 0s 20ms/step\n"
          ]
        },
        {
          "output_type": "stream",
          "name": "stderr",
          "text": [
            "\r 22%|██▏       | 155/700 [00:10<00:35, 15.46it/s]"
          ]
        },
        {
          "output_type": "stream",
          "name": "stdout",
          "text": [
            "1/1 [==============================] - 0s 19ms/step\n",
            "1/1 [==============================] - 0s 34ms/step\n"
          ]
        },
        {
          "output_type": "stream",
          "name": "stderr",
          "text": [
            "\r 22%|██▏       | 157/700 [00:10<00:36, 14.75it/s]"
          ]
        },
        {
          "output_type": "stream",
          "name": "stdout",
          "text": [
            "1/1 [==============================] - 0s 40ms/step\n",
            "1/1 [==============================] - 0s 47ms/step\n"
          ]
        },
        {
          "output_type": "stream",
          "name": "stderr",
          "text": [
            "\r 23%|██▎       | 159/700 [00:11<00:43, 12.33it/s]"
          ]
        },
        {
          "output_type": "stream",
          "name": "stdout",
          "text": [
            "1/1 [==============================] - 0s 37ms/step\n",
            "1/1 [==============================] - 0s 39ms/step\n"
          ]
        },
        {
          "output_type": "stream",
          "name": "stderr",
          "text": [
            "\r 23%|██▎       | 161/700 [00:11<00:47, 11.30it/s]"
          ]
        },
        {
          "output_type": "stream",
          "name": "stdout",
          "text": [
            "1/1 [==============================] - 0s 37ms/step\n",
            "1/1 [==============================] - 0s 39ms/step\n"
          ]
        },
        {
          "output_type": "stream",
          "name": "stderr",
          "text": [
            "\r 23%|██▎       | 163/700 [00:11<00:51, 10.53it/s]"
          ]
        },
        {
          "output_type": "stream",
          "name": "stdout",
          "text": [
            "1/1 [==============================] - 0s 20ms/step\n",
            "1/1 [==============================] - 0s 19ms/step\n"
          ]
        },
        {
          "output_type": "stream",
          "name": "stderr",
          "text": [
            "\r 24%|██▎       | 165/700 [00:11<00:45, 11.66it/s]"
          ]
        },
        {
          "output_type": "stream",
          "name": "stdout",
          "text": [
            "1/1 [==============================] - 0s 19ms/step\n",
            "1/1 [==============================] - 0s 20ms/step\n"
          ]
        },
        {
          "output_type": "stream",
          "name": "stderr",
          "text": [
            "\r 24%|██▍       | 167/700 [00:11<00:42, 12.61it/s]"
          ]
        },
        {
          "output_type": "stream",
          "name": "stdout",
          "text": [
            "1/1 [==============================] - 0s 19ms/step\n",
            "1/1 [==============================] - 0s 19ms/step\n"
          ]
        },
        {
          "output_type": "stream",
          "name": "stderr",
          "text": [
            "\r 24%|██▍       | 169/700 [00:11<00:39, 13.59it/s]"
          ]
        },
        {
          "output_type": "stream",
          "name": "stdout",
          "text": [
            "1/1 [==============================] - 0s 26ms/step\n",
            "1/1 [==============================] - 0s 18ms/step\n"
          ]
        },
        {
          "output_type": "stream",
          "name": "stderr",
          "text": [
            "\r 24%|██▍       | 171/700 [00:12<00:38, 13.90it/s]"
          ]
        },
        {
          "output_type": "stream",
          "name": "stdout",
          "text": [
            "1/1 [==============================] - 0s 23ms/step\n",
            "1/1 [==============================] - 0s 28ms/step\n"
          ]
        },
        {
          "output_type": "stream",
          "name": "stderr",
          "text": [
            "\r 25%|██▍       | 173/700 [00:12<01:00,  8.73it/s]"
          ]
        },
        {
          "output_type": "stream",
          "name": "stdout",
          "text": [
            "1/1 [==============================] - 0s 38ms/step\n",
            "1/1 [==============================] - 0s 29ms/step\n"
          ]
        },
        {
          "output_type": "stream",
          "name": "stderr",
          "text": [
            "\r 25%|██▌       | 175/700 [00:12<00:55,  9.41it/s]"
          ]
        },
        {
          "output_type": "stream",
          "name": "stdout",
          "text": [
            "1/1 [==============================] - 0s 27ms/step\n",
            "1/1 [==============================] - 0s 26ms/step\n"
          ]
        },
        {
          "output_type": "stream",
          "name": "stderr",
          "text": [
            "\r 25%|██▌       | 177/700 [00:12<00:50, 10.26it/s]"
          ]
        },
        {
          "output_type": "stream",
          "name": "stdout",
          "text": [
            "1/1 [==============================] - 0s 37ms/step\n",
            "1/1 [==============================] - 0s 27ms/step\n"
          ]
        },
        {
          "output_type": "stream",
          "name": "stderr",
          "text": [
            "\r 26%|██▌       | 179/700 [00:13<00:49, 10.51it/s]"
          ]
        },
        {
          "output_type": "stream",
          "name": "stdout",
          "text": [
            "1/1 [==============================] - 0s 24ms/step\n",
            "1/1 [==============================] - 0s 25ms/step\n"
          ]
        },
        {
          "output_type": "stream",
          "name": "stderr",
          "text": [
            "\r 26%|██▌       | 181/700 [00:13<00:45, 11.30it/s]"
          ]
        },
        {
          "output_type": "stream",
          "name": "stdout",
          "text": [
            "1/1 [==============================] - 0s 24ms/step\n",
            "1/1 [==============================] - 0s 25ms/step\n"
          ]
        },
        {
          "output_type": "stream",
          "name": "stderr",
          "text": [
            "\r 26%|██▌       | 183/700 [00:13<00:42, 12.08it/s]"
          ]
        },
        {
          "output_type": "stream",
          "name": "stdout",
          "text": [
            "1/1 [==============================] - 0s 26ms/step\n",
            "1/1 [==============================] - 0s 26ms/step\n"
          ]
        },
        {
          "output_type": "stream",
          "name": "stderr",
          "text": [
            "\r 26%|██▋       | 185/700 [00:13<00:41, 12.53it/s]"
          ]
        },
        {
          "output_type": "stream",
          "name": "stdout",
          "text": [
            "1/1 [==============================] - 0s 39ms/step\n",
            "1/1 [==============================] - 0s 39ms/step\n"
          ]
        },
        {
          "output_type": "stream",
          "name": "stderr",
          "text": [
            "\r 27%|██▋       | 187/700 [00:13<00:44, 11.66it/s]"
          ]
        },
        {
          "output_type": "stream",
          "name": "stdout",
          "text": [
            "1/1 [==============================] - 0s 42ms/step\n",
            "1/1 [==============================] - 0s 33ms/step\n"
          ]
        },
        {
          "output_type": "stream",
          "name": "stderr",
          "text": [
            "\r 27%|██▋       | 189/700 [00:13<00:46, 10.92it/s]"
          ]
        },
        {
          "output_type": "stream",
          "name": "stdout",
          "text": [
            "1/1 [==============================] - 0s 34ms/step\n",
            "1/1 [==============================] - 0s 47ms/step\n"
          ]
        },
        {
          "output_type": "stream",
          "name": "stderr",
          "text": [
            "\r 27%|██▋       | 191/700 [00:14<00:50, 10.06it/s]"
          ]
        },
        {
          "output_type": "stream",
          "name": "stdout",
          "text": [
            "1/1 [==============================] - 0s 35ms/step\n",
            "1/1 [==============================] - 0s 34ms/step\n"
          ]
        },
        {
          "output_type": "stream",
          "name": "stderr",
          "text": [
            "\r 28%|██▊       | 193/700 [00:14<00:51,  9.88it/s]"
          ]
        },
        {
          "output_type": "stream",
          "name": "stdout",
          "text": [
            "1/1 [==============================] - 0s 41ms/step\n",
            "1/1 [==============================] - 0s 33ms/step\n"
          ]
        },
        {
          "output_type": "stream",
          "name": "stderr",
          "text": [
            "\r 28%|██▊       | 195/700 [00:14<00:52,  9.60it/s]"
          ]
        },
        {
          "output_type": "stream",
          "name": "stdout",
          "text": [
            "1/1 [==============================] - 0s 33ms/step\n"
          ]
        },
        {
          "output_type": "stream",
          "name": "stderr",
          "text": [
            "\r 28%|██▊       | 196/700 [00:14<00:52,  9.57it/s]"
          ]
        },
        {
          "output_type": "stream",
          "name": "stdout",
          "text": [
            "1/1 [==============================] - 0s 32ms/step\n"
          ]
        },
        {
          "output_type": "stream",
          "name": "stderr",
          "text": [
            "\r 28%|██▊       | 197/700 [00:14<00:52,  9.58it/s]"
          ]
        },
        {
          "output_type": "stream",
          "name": "stdout",
          "text": [
            "1/1 [==============================] - 0s 32ms/step\n"
          ]
        },
        {
          "output_type": "stream",
          "name": "stderr",
          "text": [
            "\r 28%|██▊       | 198/700 [00:14<00:52,  9.57it/s]"
          ]
        },
        {
          "output_type": "stream",
          "name": "stdout",
          "text": [
            "1/1 [==============================] - 0s 34ms/step\n"
          ]
        },
        {
          "output_type": "stream",
          "name": "stderr",
          "text": [
            "\r 28%|██▊       | 199/700 [00:14<00:53,  9.31it/s]"
          ]
        },
        {
          "output_type": "stream",
          "name": "stdout",
          "text": [
            "1/1 [==============================] - 0s 33ms/step\n"
          ]
        },
        {
          "output_type": "stream",
          "name": "stderr",
          "text": [
            "\r 29%|██▊       | 200/700 [00:15<00:53,  9.36it/s]"
          ]
        },
        {
          "output_type": "stream",
          "name": "stdout",
          "text": [
            "1/1 [==============================] - 0s 37ms/step\n"
          ]
        },
        {
          "output_type": "stream",
          "name": "stderr",
          "text": [
            "\r 29%|██▊       | 201/700 [00:15<00:54,  9.15it/s]"
          ]
        },
        {
          "output_type": "stream",
          "name": "stdout",
          "text": [
            "1/1 [==============================] - 0s 37ms/step\n"
          ]
        },
        {
          "output_type": "stream",
          "name": "stderr",
          "text": [
            "\r 29%|██▉       | 202/700 [00:15<00:54,  9.13it/s]"
          ]
        },
        {
          "output_type": "stream",
          "name": "stdout",
          "text": [
            "1/1 [==============================] - 0s 34ms/step\n"
          ]
        },
        {
          "output_type": "stream",
          "name": "stderr",
          "text": [
            "\r 29%|██▉       | 203/700 [00:15<00:53,  9.27it/s]"
          ]
        },
        {
          "output_type": "stream",
          "name": "stdout",
          "text": [
            "1/1 [==============================] - 0s 32ms/step\n"
          ]
        },
        {
          "output_type": "stream",
          "name": "stderr",
          "text": [
            "\r 29%|██▉       | 204/700 [00:15<00:52,  9.43it/s]"
          ]
        },
        {
          "output_type": "stream",
          "name": "stdout",
          "text": [
            "1/1 [==============================] - 0s 38ms/step\n"
          ]
        },
        {
          "output_type": "stream",
          "name": "stderr",
          "text": [
            "\r 29%|██▉       | 205/700 [00:15<00:53,  9.27it/s]"
          ]
        },
        {
          "output_type": "stream",
          "name": "stdout",
          "text": [
            "1/1 [==============================] - 0s 35ms/step\n"
          ]
        },
        {
          "output_type": "stream",
          "name": "stderr",
          "text": [
            "\r 29%|██▉       | 206/700 [00:15<00:52,  9.35it/s]"
          ]
        },
        {
          "output_type": "stream",
          "name": "stdout",
          "text": [
            "1/1 [==============================] - 0s 38ms/step\n"
          ]
        },
        {
          "output_type": "stream",
          "name": "stderr",
          "text": [
            "\r 30%|██▉       | 207/700 [00:15<00:52,  9.39it/s]"
          ]
        },
        {
          "output_type": "stream",
          "name": "stdout",
          "text": [
            "1/1 [==============================] - 0s 29ms/step\n"
          ]
        },
        {
          "output_type": "stream",
          "name": "stderr",
          "text": [
            "\r 30%|██▉       | 208/700 [00:15<00:54,  9.11it/s]"
          ]
        },
        {
          "output_type": "stream",
          "name": "stdout",
          "text": [
            "1/1 [==============================] - 0s 23ms/step\n",
            "1/1 [==============================] - 0s 22ms/step\n"
          ]
        },
        {
          "output_type": "stream",
          "name": "stderr",
          "text": [
            "\r 30%|███       | 210/700 [00:16<00:44, 11.06it/s]"
          ]
        },
        {
          "output_type": "stream",
          "name": "stdout",
          "text": [
            "1/1 [==============================] - 0s 30ms/step\n",
            "1/1 [==============================] - 0s 24ms/step\n"
          ]
        },
        {
          "output_type": "stream",
          "name": "stderr",
          "text": [
            "\r 30%|███       | 212/700 [00:16<00:40, 12.11it/s]"
          ]
        },
        {
          "output_type": "stream",
          "name": "stdout",
          "text": [
            "1/1 [==============================] - 0s 24ms/step\n",
            "1/1 [==============================] - 0s 22ms/step\n"
          ]
        },
        {
          "output_type": "stream",
          "name": "stderr",
          "text": [
            "\r 31%|███       | 214/700 [00:16<00:37, 13.08it/s]"
          ]
        },
        {
          "output_type": "stream",
          "name": "stdout",
          "text": [
            "1/1 [==============================] - 0s 24ms/step\n",
            "1/1 [==============================] - 0s 29ms/step\n"
          ]
        },
        {
          "output_type": "stream",
          "name": "stderr",
          "text": [
            "\r 31%|███       | 216/700 [00:16<00:36, 13.38it/s]"
          ]
        },
        {
          "output_type": "stream",
          "name": "stdout",
          "text": [
            "1/1 [==============================] - 0s 25ms/step\n",
            "1/1 [==============================] - 0s 26ms/step\n"
          ]
        },
        {
          "output_type": "stream",
          "name": "stderr",
          "text": [
            "\r 31%|███       | 218/700 [00:16<00:35, 13.56it/s]"
          ]
        },
        {
          "output_type": "stream",
          "name": "stdout",
          "text": [
            "1/1 [==============================] - 0s 22ms/step\n",
            "1/1 [==============================] - 0s 22ms/step\n"
          ]
        },
        {
          "output_type": "stream",
          "name": "stderr",
          "text": [
            "\r 31%|███▏      | 220/700 [00:16<00:34, 13.76it/s]"
          ]
        },
        {
          "output_type": "stream",
          "name": "stdout",
          "text": [
            "1/1 [==============================] - 0s 24ms/step\n",
            "1/1 [==============================] - 0s 23ms/step\n"
          ]
        },
        {
          "output_type": "stream",
          "name": "stderr",
          "text": [
            "\r 32%|███▏      | 222/700 [00:16<00:34, 13.91it/s]"
          ]
        },
        {
          "output_type": "stream",
          "name": "stdout",
          "text": [
            "1/1 [==============================] - 0s 22ms/step\n",
            "1/1 [==============================] - 0s 22ms/step\n"
          ]
        },
        {
          "output_type": "stream",
          "name": "stderr",
          "text": [
            "\r 32%|███▏      | 224/700 [00:17<00:33, 14.28it/s]"
          ]
        },
        {
          "output_type": "stream",
          "name": "stdout",
          "text": [
            "1/1 [==============================] - 0s 22ms/step\n",
            "1/1 [==============================] - 0s 24ms/step\n"
          ]
        },
        {
          "output_type": "stream",
          "name": "stderr",
          "text": [
            "\r 32%|███▏      | 226/700 [00:17<00:33, 14.04it/s]"
          ]
        },
        {
          "output_type": "stream",
          "name": "stdout",
          "text": [
            "1/1 [==============================] - 0s 23ms/step\n",
            "1/1 [==============================] - 0s 22ms/step\n"
          ]
        },
        {
          "output_type": "stream",
          "name": "stderr",
          "text": [
            "\r 33%|███▎      | 228/700 [00:17<00:33, 14.21it/s]"
          ]
        },
        {
          "output_type": "stream",
          "name": "stdout",
          "text": [
            "1/1 [==============================] - 0s 22ms/step\n",
            "1/1 [==============================] - 0s 21ms/step\n"
          ]
        },
        {
          "output_type": "stream",
          "name": "stderr",
          "text": [
            "\r 33%|███▎      | 230/700 [00:17<00:32, 14.28it/s]"
          ]
        },
        {
          "output_type": "stream",
          "name": "stdout",
          "text": [
            "1/1 [==============================] - 0s 24ms/step\n",
            "1/1 [==============================] - 0s 22ms/step\n"
          ]
        },
        {
          "output_type": "stream",
          "name": "stderr",
          "text": [
            "\r 33%|███▎      | 232/700 [00:17<00:31, 14.63it/s]"
          ]
        },
        {
          "output_type": "stream",
          "name": "stdout",
          "text": [
            "1/1 [==============================] - 0s 21ms/step\n",
            "1/1 [==============================] - 0s 21ms/step\n"
          ]
        },
        {
          "output_type": "stream",
          "name": "stderr",
          "text": [
            "\r 33%|███▎      | 234/700 [00:17<00:31, 14.67it/s]"
          ]
        },
        {
          "output_type": "stream",
          "name": "stdout",
          "text": [
            "1/1 [==============================] - 0s 23ms/step\n",
            "1/1 [==============================] - 0s 20ms/step\n"
          ]
        },
        {
          "output_type": "stream",
          "name": "stderr",
          "text": [
            "\r 34%|███▎      | 236/700 [00:17<00:31, 14.54it/s]"
          ]
        },
        {
          "output_type": "stream",
          "name": "stdout",
          "text": [
            "1/1 [==============================] - 0s 21ms/step\n",
            "1/1 [==============================] - 0s 22ms/step\n"
          ]
        },
        {
          "output_type": "stream",
          "name": "stderr",
          "text": [
            "\r 34%|███▍      | 238/700 [00:18<00:31, 14.84it/s]"
          ]
        },
        {
          "output_type": "stream",
          "name": "stdout",
          "text": [
            "1/1 [==============================] - 0s 21ms/step\n",
            "1/1 [==============================] - 0s 21ms/step\n"
          ]
        },
        {
          "output_type": "stream",
          "name": "stderr",
          "text": [
            "\r 34%|███▍      | 240/700 [00:18<00:30, 15.15it/s]"
          ]
        },
        {
          "output_type": "stream",
          "name": "stdout",
          "text": [
            "1/1 [==============================] - 0s 24ms/step\n",
            "1/1 [==============================] - 0s 24ms/step\n"
          ]
        },
        {
          "output_type": "stream",
          "name": "stderr",
          "text": [
            "\r 35%|███▍      | 242/700 [00:18<00:30, 14.91it/s]"
          ]
        },
        {
          "output_type": "stream",
          "name": "stdout",
          "text": [
            "1/1 [==============================] - 0s 22ms/step\n",
            "1/1 [==============================] - 0s 23ms/step\n"
          ]
        },
        {
          "output_type": "stream",
          "name": "stderr",
          "text": [
            "\r 35%|███▍      | 244/700 [00:18<00:31, 14.36it/s]"
          ]
        },
        {
          "output_type": "stream",
          "name": "stdout",
          "text": [
            "1/1 [==============================] - 0s 24ms/step\n",
            "1/1 [==============================] - 0s 21ms/step\n"
          ]
        },
        {
          "output_type": "stream",
          "name": "stderr",
          "text": [
            "\r 35%|███▌      | 246/700 [00:18<00:31, 14.64it/s]"
          ]
        },
        {
          "output_type": "stream",
          "name": "stdout",
          "text": [
            "1/1 [==============================] - 0s 21ms/step\n",
            "1/1 [==============================] - 0s 22ms/step\n"
          ]
        },
        {
          "output_type": "stream",
          "name": "stderr",
          "text": [
            "\r 35%|███▌      | 248/700 [00:18<00:30, 14.66it/s]"
          ]
        },
        {
          "output_type": "stream",
          "name": "stdout",
          "text": [
            "1/1 [==============================] - 0s 21ms/step\n",
            "1/1 [==============================] - 0s 21ms/step\n"
          ]
        },
        {
          "output_type": "stream",
          "name": "stderr",
          "text": [
            "\r 36%|███▌      | 250/700 [00:18<00:30, 14.85it/s]"
          ]
        },
        {
          "output_type": "stream",
          "name": "stdout",
          "text": [
            "1/1 [==============================] - 0s 20ms/step\n",
            "1/1 [==============================] - 0s 20ms/step\n"
          ]
        },
        {
          "output_type": "stream",
          "name": "stderr",
          "text": [
            "\r 36%|███▌      | 252/700 [00:18<00:30, 14.82it/s]"
          ]
        },
        {
          "output_type": "stream",
          "name": "stdout",
          "text": [
            "1/1 [==============================] - 0s 20ms/step\n",
            "1/1 [==============================] - 0s 20ms/step\n"
          ]
        },
        {
          "output_type": "stream",
          "name": "stderr",
          "text": [
            "\r 36%|███▋      | 254/700 [00:19<00:30, 14.86it/s]"
          ]
        },
        {
          "output_type": "stream",
          "name": "stdout",
          "text": [
            "1/1 [==============================] - 0s 21ms/step\n",
            "1/1 [==============================] - 0s 25ms/step\n"
          ]
        },
        {
          "output_type": "stream",
          "name": "stderr",
          "text": [
            "\r 37%|███▋      | 256/700 [00:19<00:29, 14.90it/s]"
          ]
        },
        {
          "output_type": "stream",
          "name": "stdout",
          "text": [
            "1/1 [==============================] - 0s 20ms/step\n",
            "1/1 [==============================] - 0s 22ms/step\n"
          ]
        },
        {
          "output_type": "stream",
          "name": "stderr",
          "text": [
            "\r 37%|███▋      | 258/700 [00:19<00:30, 14.46it/s]"
          ]
        },
        {
          "output_type": "stream",
          "name": "stdout",
          "text": [
            "1/1 [==============================] - 0s 22ms/step\n",
            "1/1 [==============================] - 0s 23ms/step\n"
          ]
        },
        {
          "output_type": "stream",
          "name": "stderr",
          "text": [
            "\r 37%|███▋      | 260/700 [00:19<00:30, 14.35it/s]"
          ]
        },
        {
          "output_type": "stream",
          "name": "stdout",
          "text": [
            "1/1 [==============================] - 0s 23ms/step\n",
            "1/1 [==============================] - 0s 25ms/step\n"
          ]
        },
        {
          "output_type": "stream",
          "name": "stderr",
          "text": [
            "\r 37%|███▋      | 262/700 [00:19<00:31, 14.07it/s]"
          ]
        },
        {
          "output_type": "stream",
          "name": "stdout",
          "text": [
            "1/1 [==============================] - 0s 21ms/step\n",
            "1/1 [==============================] - 0s 20ms/step\n"
          ]
        },
        {
          "output_type": "stream",
          "name": "stderr",
          "text": [
            "\r 38%|███▊      | 264/700 [00:19<00:30, 14.32it/s]"
          ]
        },
        {
          "output_type": "stream",
          "name": "stdout",
          "text": [
            "1/1 [==============================] - 0s 20ms/step\n",
            "1/1 [==============================] - 0s 21ms/step\n"
          ]
        },
        {
          "output_type": "stream",
          "name": "stderr",
          "text": [
            "\r 38%|███▊      | 266/700 [00:19<00:29, 14.78it/s]"
          ]
        },
        {
          "output_type": "stream",
          "name": "stdout",
          "text": [
            "1/1 [==============================] - 0s 21ms/step\n",
            "1/1 [==============================] - 0s 23ms/step\n"
          ]
        },
        {
          "output_type": "stream",
          "name": "stderr",
          "text": [
            "\r 38%|███▊      | 268/700 [00:20<00:28, 14.99it/s]"
          ]
        },
        {
          "output_type": "stream",
          "name": "stdout",
          "text": [
            "1/1 [==============================] - 0s 19ms/step\n",
            "1/1 [==============================] - 0s 23ms/step\n"
          ]
        },
        {
          "output_type": "stream",
          "name": "stderr",
          "text": [
            "\r 39%|███▊      | 270/700 [00:20<00:29, 14.67it/s]"
          ]
        },
        {
          "output_type": "stream",
          "name": "stdout",
          "text": [
            "1/1 [==============================] - 0s 20ms/step\n",
            "1/1 [==============================] - 0s 22ms/step\n"
          ]
        },
        {
          "output_type": "stream",
          "name": "stderr",
          "text": [
            "\r 39%|███▉      | 272/700 [00:20<00:30, 14.13it/s]"
          ]
        },
        {
          "output_type": "stream",
          "name": "stdout",
          "text": [
            "1/1 [==============================] - 0s 22ms/step\n",
            "1/1 [==============================] - 0s 21ms/step\n"
          ]
        },
        {
          "output_type": "stream",
          "name": "stderr",
          "text": [
            "\r 39%|███▉      | 274/700 [00:20<00:29, 14.43it/s]"
          ]
        },
        {
          "output_type": "stream",
          "name": "stdout",
          "text": [
            "1/1 [==============================] - 0s 23ms/step\n",
            "1/1 [==============================] - 0s 20ms/step\n"
          ]
        },
        {
          "output_type": "stream",
          "name": "stderr",
          "text": [
            "\r 39%|███▉      | 276/700 [00:20<00:28, 14.77it/s]"
          ]
        },
        {
          "output_type": "stream",
          "name": "stdout",
          "text": [
            "1/1 [==============================] - 0s 22ms/step\n",
            "1/1 [==============================] - 0s 22ms/step\n"
          ]
        },
        {
          "output_type": "stream",
          "name": "stderr",
          "text": [
            "\r 40%|███▉      | 278/700 [00:20<00:27, 15.09it/s]"
          ]
        },
        {
          "output_type": "stream",
          "name": "stdout",
          "text": [
            "1/1 [==============================] - 0s 21ms/step\n",
            "1/1 [==============================] - 0s 21ms/step\n"
          ]
        },
        {
          "output_type": "stream",
          "name": "stderr",
          "text": [
            "\r 40%|████      | 280/700 [00:20<00:28, 14.95it/s]"
          ]
        },
        {
          "output_type": "stream",
          "name": "stdout",
          "text": [
            "1/1 [==============================] - 0s 21ms/step\n",
            "1/1 [==============================] - 0s 21ms/step\n"
          ]
        },
        {
          "output_type": "stream",
          "name": "stderr",
          "text": [
            "\r 40%|████      | 282/700 [00:21<00:27, 15.17it/s]"
          ]
        },
        {
          "output_type": "stream",
          "name": "stdout",
          "text": [
            "1/1 [==============================] - 0s 22ms/step\n",
            "1/1 [==============================] - 0s 21ms/step\n"
          ]
        },
        {
          "output_type": "stream",
          "name": "stderr",
          "text": [
            "\r 41%|████      | 284/700 [00:21<00:27, 15.21it/s]"
          ]
        },
        {
          "output_type": "stream",
          "name": "stdout",
          "text": [
            "1/1 [==============================] - 0s 21ms/step\n",
            "1/1 [==============================] - 0s 20ms/step\n"
          ]
        },
        {
          "output_type": "stream",
          "name": "stderr",
          "text": [
            "\r 41%|████      | 286/700 [00:21<00:28, 14.43it/s]"
          ]
        },
        {
          "output_type": "stream",
          "name": "stdout",
          "text": [
            "1/1 [==============================] - 0s 20ms/step\n",
            "1/1 [==============================] - 0s 22ms/step\n"
          ]
        },
        {
          "output_type": "stream",
          "name": "stderr",
          "text": [
            "\r 41%|████      | 288/700 [00:21<00:27, 14.82it/s]"
          ]
        },
        {
          "output_type": "stream",
          "name": "stdout",
          "text": [
            "1/1 [==============================] - 0s 22ms/step\n",
            "1/1 [==============================] - 0s 22ms/step\n"
          ]
        },
        {
          "output_type": "stream",
          "name": "stderr",
          "text": [
            "\r 41%|████▏     | 290/700 [00:21<00:27, 14.81it/s]"
          ]
        },
        {
          "output_type": "stream",
          "name": "stdout",
          "text": [
            "1/1 [==============================] - 0s 23ms/step\n",
            "1/1 [==============================] - 0s 25ms/step\n"
          ]
        },
        {
          "output_type": "stream",
          "name": "stderr",
          "text": [
            "\r 42%|████▏     | 292/700 [00:21<00:28, 14.52it/s]"
          ]
        },
        {
          "output_type": "stream",
          "name": "stdout",
          "text": [
            "1/1 [==============================] - 0s 22ms/step\n",
            "1/1 [==============================] - 0s 21ms/step\n"
          ]
        },
        {
          "output_type": "stream",
          "name": "stderr",
          "text": [
            "\r 42%|████▏     | 294/700 [00:21<00:27, 14.87it/s]"
          ]
        },
        {
          "output_type": "stream",
          "name": "stdout",
          "text": [
            "1/1 [==============================] - 0s 21ms/step\n",
            "1/1 [==============================] - 0s 21ms/step\n"
          ]
        },
        {
          "output_type": "stream",
          "name": "stderr",
          "text": [
            "\r 42%|████▏     | 296/700 [00:21<00:26, 15.21it/s]"
          ]
        },
        {
          "output_type": "stream",
          "name": "stdout",
          "text": [
            "1/1 [==============================] - 0s 23ms/step\n",
            "1/1 [==============================] - 0s 20ms/step\n"
          ]
        },
        {
          "output_type": "stream",
          "name": "stderr",
          "text": [
            "\r 43%|████▎     | 298/700 [00:22<00:26, 14.94it/s]"
          ]
        },
        {
          "output_type": "stream",
          "name": "stdout",
          "text": [
            "1/1 [==============================] - 0s 19ms/step\n",
            "1/1 [==============================] - 0s 19ms/step\n"
          ]
        },
        {
          "output_type": "stream",
          "name": "stderr",
          "text": [
            "\r 43%|████▎     | 300/700 [00:22<00:26, 14.98it/s]"
          ]
        },
        {
          "output_type": "stream",
          "name": "stdout",
          "text": [
            "1/1 [==============================] - 0s 20ms/step\n",
            "1/1 [==============================] - 0s 20ms/step\n"
          ]
        },
        {
          "output_type": "stream",
          "name": "stderr",
          "text": [
            "\r 43%|████▎     | 302/700 [00:22<00:26, 15.04it/s]"
          ]
        },
        {
          "output_type": "stream",
          "name": "stdout",
          "text": [
            "1/1 [==============================] - 0s 23ms/step\n",
            "1/1 [==============================] - 0s 19ms/step\n"
          ]
        },
        {
          "output_type": "stream",
          "name": "stderr",
          "text": [
            "\r 43%|████▎     | 304/700 [00:22<00:26, 15.22it/s]"
          ]
        },
        {
          "output_type": "stream",
          "name": "stdout",
          "text": [
            "1/1 [==============================] - 0s 19ms/step\n",
            "1/1 [==============================] - 0s 19ms/step\n"
          ]
        },
        {
          "output_type": "stream",
          "name": "stderr",
          "text": [
            "\r 44%|████▎     | 306/700 [00:22<00:26, 14.94it/s]"
          ]
        },
        {
          "output_type": "stream",
          "name": "stdout",
          "text": [
            "1/1 [==============================] - 0s 21ms/step\n",
            "1/1 [==============================] - 0s 20ms/step\n"
          ]
        },
        {
          "output_type": "stream",
          "name": "stderr",
          "text": [
            "\r 44%|████▍     | 308/700 [00:22<00:26, 15.01it/s]"
          ]
        },
        {
          "output_type": "stream",
          "name": "stdout",
          "text": [
            "1/1 [==============================] - 0s 23ms/step\n",
            "1/1 [==============================] - 0s 19ms/step\n"
          ]
        },
        {
          "output_type": "stream",
          "name": "stderr",
          "text": [
            "\r 44%|████▍     | 310/700 [00:22<00:25, 15.09it/s]"
          ]
        },
        {
          "output_type": "stream",
          "name": "stdout",
          "text": [
            "1/1 [==============================] - 0s 19ms/step\n",
            "1/1 [==============================] - 0s 19ms/step\n"
          ]
        },
        {
          "output_type": "stream",
          "name": "stderr",
          "text": [
            "\r 45%|████▍     | 312/700 [00:23<00:25, 15.50it/s]"
          ]
        },
        {
          "output_type": "stream",
          "name": "stdout",
          "text": [
            "1/1 [==============================] - 0s 19ms/step\n",
            "1/1 [==============================] - 0s 20ms/step\n"
          ]
        },
        {
          "output_type": "stream",
          "name": "stderr",
          "text": [
            "\r 45%|████▍     | 314/700 [00:23<00:24, 15.83it/s]"
          ]
        },
        {
          "output_type": "stream",
          "name": "stdout",
          "text": [
            "1/1 [==============================] - 0s 20ms/step\n",
            "1/1 [==============================] - 0s 21ms/step\n"
          ]
        },
        {
          "output_type": "stream",
          "name": "stderr",
          "text": [
            "\r 45%|████▌     | 316/700 [00:23<00:24, 15.52it/s]"
          ]
        },
        {
          "output_type": "stream",
          "name": "stdout",
          "text": [
            "1/1 [==============================] - 0s 22ms/step\n",
            "1/1 [==============================] - 0s 24ms/step\n"
          ]
        },
        {
          "output_type": "stream",
          "name": "stderr",
          "text": [
            "\r 45%|████▌     | 318/700 [00:23<00:25, 15.08it/s]"
          ]
        },
        {
          "output_type": "stream",
          "name": "stdout",
          "text": [
            "1/1 [==============================] - 0s 20ms/step\n",
            "1/1 [==============================] - 0s 22ms/step\n"
          ]
        },
        {
          "output_type": "stream",
          "name": "stderr",
          "text": [
            "\r 46%|████▌     | 320/700 [00:23<00:25, 15.10it/s]"
          ]
        },
        {
          "output_type": "stream",
          "name": "stdout",
          "text": [
            "1/1 [==============================] - 0s 20ms/step\n",
            "1/1 [==============================] - 0s 20ms/step\n"
          ]
        },
        {
          "output_type": "stream",
          "name": "stderr",
          "text": [
            "\r 46%|████▌     | 322/700 [00:23<00:24, 15.57it/s]"
          ]
        },
        {
          "output_type": "stream",
          "name": "stdout",
          "text": [
            "1/1 [==============================] - 0s 23ms/step\n",
            "1/1 [==============================] - 0s 20ms/step\n"
          ]
        },
        {
          "output_type": "stream",
          "name": "stderr",
          "text": [
            "\r 46%|████▋     | 324/700 [00:23<00:24, 15.64it/s]"
          ]
        },
        {
          "output_type": "stream",
          "name": "stdout",
          "text": [
            "1/1 [==============================] - 0s 21ms/step\n",
            "1/1 [==============================] - 0s 19ms/step\n"
          ]
        },
        {
          "output_type": "stream",
          "name": "stderr",
          "text": [
            "\r 47%|████▋     | 326/700 [00:23<00:24, 15.57it/s]"
          ]
        },
        {
          "output_type": "stream",
          "name": "stdout",
          "text": [
            "1/1 [==============================] - 0s 20ms/step\n",
            "1/1 [==============================] - 0s 23ms/step\n"
          ]
        },
        {
          "output_type": "stream",
          "name": "stderr",
          "text": [
            "\r 47%|████▋     | 328/700 [00:24<00:24, 15.43it/s]"
          ]
        },
        {
          "output_type": "stream",
          "name": "stdout",
          "text": [
            "1/1 [==============================] - 0s 19ms/step\n",
            "1/1 [==============================] - 0s 20ms/step\n"
          ]
        },
        {
          "output_type": "stream",
          "name": "stderr",
          "text": [
            "\r 47%|████▋     | 330/700 [00:24<00:23, 15.67it/s]"
          ]
        },
        {
          "output_type": "stream",
          "name": "stdout",
          "text": [
            "1/1 [==============================] - 0s 19ms/step\n",
            "1/1 [==============================] - 0s 25ms/step\n"
          ]
        },
        {
          "output_type": "stream",
          "name": "stderr",
          "text": [
            "\r 47%|████▋     | 332/700 [00:24<00:24, 15.04it/s]"
          ]
        },
        {
          "output_type": "stream",
          "name": "stdout",
          "text": [
            "1/1 [==============================] - 0s 21ms/step\n",
            "1/1 [==============================] - 0s 21ms/step\n"
          ]
        },
        {
          "output_type": "stream",
          "name": "stderr",
          "text": [
            "\r 48%|████▊     | 334/700 [00:24<00:24, 14.92it/s]"
          ]
        },
        {
          "output_type": "stream",
          "name": "stdout",
          "text": [
            "1/1 [==============================] - 0s 20ms/step\n",
            "1/1 [==============================] - 0s 21ms/step\n"
          ]
        },
        {
          "output_type": "stream",
          "name": "stderr",
          "text": [
            "\r 48%|████▊     | 336/700 [00:24<00:24, 15.09it/s]"
          ]
        },
        {
          "output_type": "stream",
          "name": "stdout",
          "text": [
            "1/1 [==============================] - 0s 22ms/step\n",
            "1/1 [==============================] - 0s 26ms/step\n"
          ]
        },
        {
          "output_type": "stream",
          "name": "stderr",
          "text": [
            "\r 48%|████▊     | 338/700 [00:24<00:23, 15.23it/s]"
          ]
        },
        {
          "output_type": "stream",
          "name": "stdout",
          "text": [
            "1/1 [==============================] - 0s 19ms/step\n",
            "1/1 [==============================] - 0s 19ms/step\n"
          ]
        },
        {
          "output_type": "stream",
          "name": "stderr",
          "text": [
            "\r 49%|████▊     | 340/700 [00:24<00:23, 15.37it/s]"
          ]
        },
        {
          "output_type": "stream",
          "name": "stdout",
          "text": [
            "1/1 [==============================] - 0s 20ms/step\n",
            "1/1 [==============================] - 0s 18ms/step\n"
          ]
        },
        {
          "output_type": "stream",
          "name": "stderr",
          "text": [
            "\r 49%|████▉     | 342/700 [00:24<00:22, 15.61it/s]"
          ]
        },
        {
          "output_type": "stream",
          "name": "stdout",
          "text": [
            "1/1 [==============================] - 0s 20ms/step\n",
            "1/1 [==============================] - 0s 19ms/step\n"
          ]
        },
        {
          "output_type": "stream",
          "name": "stderr",
          "text": [
            "\r 49%|████▉     | 344/700 [00:25<00:23, 15.29it/s]"
          ]
        },
        {
          "output_type": "stream",
          "name": "stdout",
          "text": [
            "1/1 [==============================] - 0s 18ms/step\n",
            "1/1 [==============================] - 0s 19ms/step\n"
          ]
        },
        {
          "output_type": "stream",
          "name": "stderr",
          "text": [
            "\r 49%|████▉     | 346/700 [00:25<00:23, 15.22it/s]"
          ]
        },
        {
          "output_type": "stream",
          "name": "stdout",
          "text": [
            "1/1 [==============================] - 0s 20ms/step\n",
            "1/1 [==============================] - 0s 23ms/step\n"
          ]
        },
        {
          "output_type": "stream",
          "name": "stderr",
          "text": [
            "\r 50%|████▉     | 348/700 [00:25<00:23, 14.89it/s]"
          ]
        },
        {
          "output_type": "stream",
          "name": "stdout",
          "text": [
            "1/1 [==============================] - 0s 19ms/step\n",
            "1/1 [==============================] - 0s 19ms/step\n"
          ]
        },
        {
          "output_type": "stream",
          "name": "stderr",
          "text": [
            "\r 50%|█████     | 350/700 [00:25<00:23, 15.02it/s]"
          ]
        },
        {
          "output_type": "stream",
          "name": "stdout",
          "text": [
            "1/1 [==============================] - 0s 21ms/step\n",
            "1/1 [==============================] - 0s 19ms/step\n"
          ]
        },
        {
          "output_type": "stream",
          "name": "stderr",
          "text": [
            "\r 50%|█████     | 352/700 [00:25<00:23, 15.12it/s]"
          ]
        },
        {
          "output_type": "stream",
          "name": "stdout",
          "text": [
            "1/1 [==============================] - 0s 24ms/step\n",
            "1/1 [==============================] - 0s 18ms/step\n"
          ]
        },
        {
          "output_type": "stream",
          "name": "stderr",
          "text": [
            "\r 51%|█████     | 354/700 [00:25<00:22, 15.35it/s]"
          ]
        },
        {
          "output_type": "stream",
          "name": "stdout",
          "text": [
            "1/1 [==============================] - 0s 19ms/step\n",
            "1/1 [==============================] - 0s 19ms/step\n"
          ]
        },
        {
          "output_type": "stream",
          "name": "stderr",
          "text": [
            "\r 51%|█████     | 356/700 [00:25<00:21, 15.68it/s]"
          ]
        },
        {
          "output_type": "stream",
          "name": "stdout",
          "text": [
            "1/1 [==============================] - 0s 18ms/step\n",
            "1/1 [==============================] - 0s 31ms/step\n"
          ]
        },
        {
          "output_type": "stream",
          "name": "stderr",
          "text": [
            "\r 51%|█████     | 358/700 [00:26<00:22, 15.12it/s]"
          ]
        },
        {
          "output_type": "stream",
          "name": "stdout",
          "text": [
            "1/1 [==============================] - 0s 32ms/step\n",
            "1/1 [==============================] - 0s 29ms/step\n"
          ]
        },
        {
          "output_type": "stream",
          "name": "stderr",
          "text": [
            "\r 51%|█████▏    | 360/700 [00:26<00:25, 13.33it/s]"
          ]
        },
        {
          "output_type": "stream",
          "name": "stdout",
          "text": [
            "1/1 [==============================] - 0s 35ms/step\n",
            "1/1 [==============================] - 0s 28ms/step\n"
          ]
        },
        {
          "output_type": "stream",
          "name": "stderr",
          "text": [
            "\r 52%|█████▏    | 362/700 [00:26<00:27, 12.08it/s]"
          ]
        },
        {
          "output_type": "stream",
          "name": "stdout",
          "text": [
            "1/1 [==============================] - 0s 30ms/step\n",
            "1/1 [==============================] - 0s 28ms/step\n"
          ]
        },
        {
          "output_type": "stream",
          "name": "stderr",
          "text": [
            "\r 52%|█████▏    | 364/700 [00:26<00:27, 12.00it/s]"
          ]
        },
        {
          "output_type": "stream",
          "name": "stdout",
          "text": [
            "1/1 [==============================] - 0s 38ms/step\n",
            "1/1 [==============================] - 0s 27ms/step\n"
          ]
        },
        {
          "output_type": "stream",
          "name": "stderr",
          "text": [
            "\r 52%|█████▏    | 366/700 [00:26<00:28, 11.74it/s]"
          ]
        },
        {
          "output_type": "stream",
          "name": "stdout",
          "text": [
            "1/1 [==============================] - 0s 27ms/step\n",
            "1/1 [==============================] - 0s 27ms/step\n"
          ]
        },
        {
          "output_type": "stream",
          "name": "stderr",
          "text": [
            "\r 53%|█████▎    | 368/700 [00:26<00:28, 11.56it/s]"
          ]
        },
        {
          "output_type": "stream",
          "name": "stdout",
          "text": [
            "1/1 [==============================] - 0s 34ms/step\n",
            "1/1 [==============================] - 0s 30ms/step\n"
          ]
        },
        {
          "output_type": "stream",
          "name": "stderr",
          "text": [
            "\r 53%|█████▎    | 370/700 [00:27<00:29, 11.07it/s]"
          ]
        },
        {
          "output_type": "stream",
          "name": "stdout",
          "text": [
            "1/1 [==============================] - 0s 34ms/step\n",
            "1/1 [==============================] - 0s 29ms/step\n"
          ]
        },
        {
          "output_type": "stream",
          "name": "stderr",
          "text": [
            "\r 53%|█████▎    | 372/700 [00:27<00:30, 10.63it/s]"
          ]
        },
        {
          "output_type": "stream",
          "name": "stdout",
          "text": [
            "1/1 [==============================] - 0s 27ms/step\n",
            "1/1 [==============================] - 0s 27ms/step\n"
          ]
        },
        {
          "output_type": "stream",
          "name": "stderr",
          "text": [
            "\r 53%|█████▎    | 374/700 [00:27<00:31, 10.47it/s]"
          ]
        },
        {
          "output_type": "stream",
          "name": "stdout",
          "text": [
            "1/1 [==============================] - 0s 27ms/step\n",
            "1/1 [==============================] - 0s 27ms/step\n"
          ]
        },
        {
          "output_type": "stream",
          "name": "stderr",
          "text": [
            "\r 54%|█████▎    | 376/700 [00:27<00:30, 10.63it/s]"
          ]
        },
        {
          "output_type": "stream",
          "name": "stdout",
          "text": [
            "1/1 [==============================] - 0s 31ms/step\n",
            "1/1 [==============================] - 0s 30ms/step\n"
          ]
        },
        {
          "output_type": "stream",
          "name": "stderr",
          "text": [
            "\r 54%|█████▍    | 378/700 [00:27<00:29, 10.75it/s]"
          ]
        },
        {
          "output_type": "stream",
          "name": "stdout",
          "text": [
            "1/1 [==============================] - 0s 27ms/step\n",
            "1/1 [==============================] - 0s 28ms/step\n"
          ]
        },
        {
          "output_type": "stream",
          "name": "stderr",
          "text": [
            "\r 54%|█████▍    | 380/700 [00:28<00:30, 10.62it/s]"
          ]
        },
        {
          "output_type": "stream",
          "name": "stdout",
          "text": [
            "1/1 [==============================] - 0s 28ms/step\n",
            "1/1 [==============================] - 0s 29ms/step\n"
          ]
        },
        {
          "output_type": "stream",
          "name": "stderr",
          "text": [
            "\r 55%|█████▍    | 382/700 [00:28<00:29, 10.82it/s]"
          ]
        },
        {
          "output_type": "stream",
          "name": "stdout",
          "text": [
            "1/1 [==============================] - 0s 29ms/step\n",
            "1/1 [==============================] - 0s 37ms/step\n"
          ]
        },
        {
          "output_type": "stream",
          "name": "stderr",
          "text": [
            "\r 55%|█████▍    | 384/700 [00:28<00:29, 10.65it/s]"
          ]
        },
        {
          "output_type": "stream",
          "name": "stdout",
          "text": [
            "1/1 [==============================] - 0s 29ms/step\n",
            "1/1 [==============================] - 0s 19ms/step\n"
          ]
        },
        {
          "output_type": "stream",
          "name": "stderr",
          "text": [
            "\r 55%|█████▌    | 386/700 [00:28<00:28, 10.86it/s]"
          ]
        },
        {
          "output_type": "stream",
          "name": "stdout",
          "text": [
            "1/1 [==============================] - 0s 20ms/step\n",
            "1/1 [==============================] - 0s 19ms/step\n"
          ]
        },
        {
          "output_type": "stream",
          "name": "stderr",
          "text": [
            "\r 55%|█████▌    | 388/700 [00:28<00:26, 11.77it/s]"
          ]
        },
        {
          "output_type": "stream",
          "name": "stdout",
          "text": [
            "1/1 [==============================] - 0s 20ms/step\n",
            "1/1 [==============================] - 0s 22ms/step\n"
          ]
        },
        {
          "output_type": "stream",
          "name": "stderr",
          "text": [
            "\r 56%|█████▌    | 390/700 [00:28<00:25, 12.26it/s]"
          ]
        },
        {
          "output_type": "stream",
          "name": "stdout",
          "text": [
            "1/1 [==============================] - 0s 20ms/step\n",
            "1/1 [==============================] - 0s 20ms/step\n"
          ]
        },
        {
          "output_type": "stream",
          "name": "stderr",
          "text": [
            "\r 56%|█████▌    | 392/700 [00:29<00:24, 12.79it/s]"
          ]
        },
        {
          "output_type": "stream",
          "name": "stdout",
          "text": [
            "1/1 [==============================] - 0s 20ms/step\n",
            "1/1 [==============================] - 0s 21ms/step\n"
          ]
        },
        {
          "output_type": "stream",
          "name": "stderr",
          "text": [
            "\r 56%|█████▋    | 394/700 [00:29<00:22, 13.47it/s]"
          ]
        },
        {
          "output_type": "stream",
          "name": "stdout",
          "text": [
            "1/1 [==============================] - 0s 21ms/step\n",
            "1/1 [==============================] - 0s 23ms/step\n"
          ]
        },
        {
          "output_type": "stream",
          "name": "stderr",
          "text": [
            "\r 57%|█████▋    | 396/700 [00:29<00:22, 13.69it/s]"
          ]
        },
        {
          "output_type": "stream",
          "name": "stdout",
          "text": [
            "1/1 [==============================] - 0s 20ms/step\n",
            "1/1 [==============================] - 0s 23ms/step\n"
          ]
        },
        {
          "output_type": "stream",
          "name": "stderr",
          "text": [
            "\r 57%|█████▋    | 398/700 [00:29<00:22, 13.36it/s]"
          ]
        },
        {
          "output_type": "stream",
          "name": "stdout",
          "text": [
            "1/1 [==============================] - 0s 20ms/step\n",
            "1/1 [==============================] - 0s 20ms/step\n"
          ]
        },
        {
          "output_type": "stream",
          "name": "stderr",
          "text": [
            "\r 57%|█████▋    | 400/700 [00:29<00:21, 13.72it/s]"
          ]
        },
        {
          "output_type": "stream",
          "name": "stdout",
          "text": [
            "1/1 [==============================] - 0s 22ms/step\n",
            "1/1 [==============================] - 0s 20ms/step\n"
          ]
        },
        {
          "output_type": "stream",
          "name": "stderr",
          "text": [
            "\r 57%|█████▋    | 402/700 [00:29<00:21, 14.12it/s]"
          ]
        },
        {
          "output_type": "stream",
          "name": "stdout",
          "text": [
            "1/1 [==============================] - 0s 22ms/step\n",
            "1/1 [==============================] - 0s 19ms/step\n"
          ]
        },
        {
          "output_type": "stream",
          "name": "stderr",
          "text": [
            "\r 58%|█████▊    | 404/700 [00:29<00:20, 14.32it/s]"
          ]
        },
        {
          "output_type": "stream",
          "name": "stdout",
          "text": [
            "1/1 [==============================] - 0s 20ms/step\n",
            "1/1 [==============================] - 0s 20ms/step\n"
          ]
        },
        {
          "output_type": "stream",
          "name": "stderr",
          "text": [
            "\r 58%|█████▊    | 406/700 [00:30<00:20, 14.54it/s]"
          ]
        },
        {
          "output_type": "stream",
          "name": "stdout",
          "text": [
            "1/1 [==============================] - 0s 19ms/step\n",
            "1/1 [==============================] - 0s 19ms/step\n"
          ]
        },
        {
          "output_type": "stream",
          "name": "stderr",
          "text": [
            "\r 58%|█████▊    | 408/700 [00:30<00:19, 14.78it/s]"
          ]
        },
        {
          "output_type": "stream",
          "name": "stdout",
          "text": [
            "1/1 [==============================] - 0s 19ms/step\n",
            "1/1 [==============================] - 0s 23ms/step\n"
          ]
        },
        {
          "output_type": "stream",
          "name": "stderr",
          "text": [
            "\r 59%|█████▊    | 410/700 [00:30<00:19, 14.98it/s]"
          ]
        },
        {
          "output_type": "stream",
          "name": "stdout",
          "text": [
            "1/1 [==============================] - 0s 19ms/step\n",
            "1/1 [==============================] - 0s 19ms/step\n"
          ]
        },
        {
          "output_type": "stream",
          "name": "stderr",
          "text": [
            "\r 59%|█████▉    | 412/700 [00:30<00:19, 14.78it/s]"
          ]
        },
        {
          "output_type": "stream",
          "name": "stdout",
          "text": [
            "1/1 [==============================] - 0s 21ms/step\n",
            "1/1 [==============================] - 0s 21ms/step\n"
          ]
        },
        {
          "output_type": "stream",
          "name": "stderr",
          "text": [
            "\r 59%|█████▉    | 414/700 [00:30<00:19, 15.01it/s]"
          ]
        },
        {
          "output_type": "stream",
          "name": "stdout",
          "text": [
            "1/1 [==============================] - 0s 26ms/step\n",
            "1/1 [==============================] - 0s 20ms/step\n"
          ]
        },
        {
          "output_type": "stream",
          "name": "stderr",
          "text": [
            "\r 59%|█████▉    | 416/700 [00:30<00:19, 14.79it/s]"
          ]
        },
        {
          "output_type": "stream",
          "name": "stdout",
          "text": [
            "1/1 [==============================] - 0s 24ms/step\n",
            "1/1 [==============================] - 0s 22ms/step\n"
          ]
        },
        {
          "output_type": "stream",
          "name": "stderr",
          "text": [
            "\r 60%|█████▉    | 418/700 [00:30<00:18, 14.99it/s]"
          ]
        },
        {
          "output_type": "stream",
          "name": "stdout",
          "text": [
            "1/1 [==============================] - 0s 36ms/step\n",
            "1/1 [==============================] - 0s 19ms/step\n"
          ]
        },
        {
          "output_type": "stream",
          "name": "stderr",
          "text": [
            "\r 60%|██████    | 420/700 [00:30<00:19, 14.66it/s]"
          ]
        },
        {
          "output_type": "stream",
          "name": "stdout",
          "text": [
            "1/1 [==============================] - 0s 20ms/step\n",
            "1/1 [==============================] - 0s 19ms/step\n"
          ]
        },
        {
          "output_type": "stream",
          "name": "stderr",
          "text": [
            "\r 60%|██████    | 422/700 [00:31<00:18, 15.05it/s]"
          ]
        },
        {
          "output_type": "stream",
          "name": "stdout",
          "text": [
            "1/1 [==============================] - 0s 22ms/step\n",
            "1/1 [==============================] - 0s 23ms/step\n"
          ]
        },
        {
          "output_type": "stream",
          "name": "stderr",
          "text": [
            "\r 61%|██████    | 424/700 [00:31<00:18, 15.09it/s]"
          ]
        },
        {
          "output_type": "stream",
          "name": "stdout",
          "text": [
            "1/1 [==============================] - 0s 23ms/step\n",
            "1/1 [==============================] - 0s 22ms/step\n"
          ]
        },
        {
          "output_type": "stream",
          "name": "stderr",
          "text": [
            "\r 61%|██████    | 426/700 [00:31<00:18, 14.52it/s]"
          ]
        },
        {
          "output_type": "stream",
          "name": "stdout",
          "text": [
            "1/1 [==============================] - 0s 23ms/step\n",
            "1/1 [==============================] - 0s 21ms/step\n"
          ]
        },
        {
          "output_type": "stream",
          "name": "stderr",
          "text": [
            "\r 61%|██████    | 428/700 [00:31<00:19, 14.02it/s]"
          ]
        },
        {
          "output_type": "stream",
          "name": "stdout",
          "text": [
            "1/1 [==============================] - 0s 23ms/step\n",
            "1/1 [==============================] - 0s 20ms/step\n"
          ]
        },
        {
          "output_type": "stream",
          "name": "stderr",
          "text": [
            "\r 61%|██████▏   | 430/700 [00:31<00:18, 14.22it/s]"
          ]
        },
        {
          "output_type": "stream",
          "name": "stdout",
          "text": [
            "1/1 [==============================] - 0s 20ms/step\n",
            "1/1 [==============================] - 0s 21ms/step\n"
          ]
        },
        {
          "output_type": "stream",
          "name": "stderr",
          "text": [
            "\r 62%|██████▏   | 432/700 [00:31<00:18, 14.34it/s]"
          ]
        },
        {
          "output_type": "stream",
          "name": "stdout",
          "text": [
            "1/1 [==============================] - 0s 22ms/step\n",
            "1/1 [==============================] - 0s 22ms/step\n"
          ]
        },
        {
          "output_type": "stream",
          "name": "stderr",
          "text": [
            "\r 62%|██████▏   | 434/700 [00:31<00:18, 14.34it/s]"
          ]
        },
        {
          "output_type": "stream",
          "name": "stdout",
          "text": [
            "1/1 [==============================] - 0s 20ms/step\n",
            "1/1 [==============================] - 0s 22ms/step\n"
          ]
        },
        {
          "output_type": "stream",
          "name": "stderr",
          "text": [
            "\r 62%|██████▏   | 436/700 [00:32<00:18, 14.58it/s]"
          ]
        },
        {
          "output_type": "stream",
          "name": "stdout",
          "text": [
            "1/1 [==============================] - 0s 19ms/step\n",
            "1/1 [==============================] - 0s 19ms/step\n"
          ]
        },
        {
          "output_type": "stream",
          "name": "stderr",
          "text": [
            "\r 63%|██████▎   | 438/700 [00:32<00:17, 15.11it/s]"
          ]
        },
        {
          "output_type": "stream",
          "name": "stdout",
          "text": [
            "1/1 [==============================] - 0s 19ms/step\n",
            "1/1 [==============================] - 0s 24ms/step\n"
          ]
        },
        {
          "output_type": "stream",
          "name": "stderr",
          "text": [
            "\r 63%|██████▎   | 440/700 [00:32<00:17, 15.28it/s]"
          ]
        },
        {
          "output_type": "stream",
          "name": "stdout",
          "text": [
            "1/1 [==============================] - 0s 19ms/step\n",
            "1/1 [==============================] - 0s 20ms/step\n"
          ]
        },
        {
          "output_type": "stream",
          "name": "stderr",
          "text": [
            "\r 63%|██████▎   | 442/700 [00:32<00:17, 15.16it/s]"
          ]
        },
        {
          "output_type": "stream",
          "name": "stdout",
          "text": [
            "1/1 [==============================] - 0s 22ms/step\n",
            "1/1 [==============================] - 0s 21ms/step\n"
          ]
        },
        {
          "output_type": "stream",
          "name": "stderr",
          "text": [
            "\r 63%|██████▎   | 444/700 [00:32<00:17, 14.47it/s]"
          ]
        },
        {
          "output_type": "stream",
          "name": "stdout",
          "text": [
            "1/1 [==============================] - 0s 21ms/step\n",
            "1/1 [==============================] - 0s 18ms/step\n"
          ]
        },
        {
          "output_type": "stream",
          "name": "stderr",
          "text": [
            "\r 64%|██████▎   | 446/700 [00:32<00:17, 14.67it/s]"
          ]
        },
        {
          "output_type": "stream",
          "name": "stdout",
          "text": [
            "1/1 [==============================] - 0s 23ms/step\n",
            "1/1 [==============================] - 0s 19ms/step\n"
          ]
        },
        {
          "output_type": "stream",
          "name": "stderr",
          "text": [
            "\r 64%|██████▍   | 448/700 [00:32<00:17, 14.66it/s]"
          ]
        },
        {
          "output_type": "stream",
          "name": "stdout",
          "text": [
            "1/1 [==============================] - 0s 19ms/step\n",
            "1/1 [==============================] - 0s 19ms/step\n"
          ]
        },
        {
          "output_type": "stream",
          "name": "stderr",
          "text": [
            "\r 64%|██████▍   | 450/700 [00:33<00:16, 14.97it/s]"
          ]
        },
        {
          "output_type": "stream",
          "name": "stdout",
          "text": [
            "1/1 [==============================] - 0s 19ms/step\n",
            "1/1 [==============================] - 0s 21ms/step\n"
          ]
        },
        {
          "output_type": "stream",
          "name": "stderr",
          "text": [
            "\r 65%|██████▍   | 452/700 [00:33<00:16, 14.78it/s]"
          ]
        },
        {
          "output_type": "stream",
          "name": "stdout",
          "text": [
            "1/1 [==============================] - 0s 20ms/step\n",
            "1/1 [==============================] - 0s 21ms/step\n"
          ]
        },
        {
          "output_type": "stream",
          "name": "stderr",
          "text": [
            "\r 65%|██████▍   | 454/700 [00:33<00:16, 14.71it/s]"
          ]
        },
        {
          "output_type": "stream",
          "name": "stdout",
          "text": [
            "1/1 [==============================] - 0s 20ms/step\n",
            "1/1 [==============================] - 0s 21ms/step\n"
          ]
        },
        {
          "output_type": "stream",
          "name": "stderr",
          "text": [
            "\r 65%|██████▌   | 456/700 [00:33<00:16, 14.72it/s]"
          ]
        },
        {
          "output_type": "stream",
          "name": "stdout",
          "text": [
            "1/1 [==============================] - 0s 20ms/step\n",
            "1/1 [==============================] - 0s 22ms/step\n"
          ]
        },
        {
          "output_type": "stream",
          "name": "stderr",
          "text": [
            "\r 65%|██████▌   | 458/700 [00:33<00:16, 14.91it/s]"
          ]
        },
        {
          "output_type": "stream",
          "name": "stdout",
          "text": [
            "1/1 [==============================] - 0s 20ms/step\n",
            "1/1 [==============================] - 0s 20ms/step\n"
          ]
        },
        {
          "output_type": "stream",
          "name": "stderr",
          "text": [
            "\r 66%|██████▌   | 460/700 [00:33<00:16, 14.96it/s]"
          ]
        },
        {
          "output_type": "stream",
          "name": "stdout",
          "text": [
            "1/1 [==============================] - 0s 22ms/step\n",
            "1/1 [==============================] - 0s 23ms/step\n"
          ]
        },
        {
          "output_type": "stream",
          "name": "stderr",
          "text": [
            "\r 66%|██████▌   | 462/700 [00:33<00:16, 14.75it/s]"
          ]
        },
        {
          "output_type": "stream",
          "name": "stdout",
          "text": [
            "1/1 [==============================] - 0s 21ms/step\n",
            "1/1 [==============================] - 0s 19ms/step\n"
          ]
        },
        {
          "output_type": "stream",
          "name": "stderr",
          "text": [
            "\r 66%|██████▋   | 464/700 [00:33<00:15, 15.21it/s]"
          ]
        },
        {
          "output_type": "stream",
          "name": "stdout",
          "text": [
            "1/1 [==============================] - 0s 19ms/step\n",
            "1/1 [==============================] - 0s 18ms/step\n"
          ]
        },
        {
          "output_type": "stream",
          "name": "stderr",
          "text": [
            "\r 67%|██████▋   | 466/700 [00:34<00:15, 15.33it/s]"
          ]
        },
        {
          "output_type": "stream",
          "name": "stdout",
          "text": [
            "1/1 [==============================] - 0s 20ms/step\n",
            "1/1 [==============================] - 0s 19ms/step\n"
          ]
        },
        {
          "output_type": "stream",
          "name": "stderr",
          "text": [
            "\r 67%|██████▋   | 468/700 [00:34<00:14, 15.58it/s]"
          ]
        },
        {
          "output_type": "stream",
          "name": "stdout",
          "text": [
            "1/1 [==============================] - 0s 20ms/step\n",
            "1/1 [==============================] - 0s 19ms/step\n"
          ]
        },
        {
          "output_type": "stream",
          "name": "stderr",
          "text": [
            "\r 67%|██████▋   | 470/700 [00:34<00:14, 15.50it/s]"
          ]
        },
        {
          "output_type": "stream",
          "name": "stdout",
          "text": [
            "1/1 [==============================] - 0s 21ms/step\n",
            "1/1 [==============================] - 0s 20ms/step\n"
          ]
        },
        {
          "output_type": "stream",
          "name": "stderr",
          "text": [
            "\r 67%|██████▋   | 472/700 [00:34<00:14, 15.27it/s]"
          ]
        },
        {
          "output_type": "stream",
          "name": "stdout",
          "text": [
            "1/1 [==============================] - 0s 19ms/step\n",
            "1/1 [==============================] - 0s 20ms/step\n"
          ]
        },
        {
          "output_type": "stream",
          "name": "stderr",
          "text": [
            "\r 68%|██████▊   | 474/700 [00:34<00:14, 15.28it/s]"
          ]
        },
        {
          "output_type": "stream",
          "name": "stdout",
          "text": [
            "1/1 [==============================] - 0s 21ms/step\n",
            "1/1 [==============================] - 0s 21ms/step\n"
          ]
        },
        {
          "output_type": "stream",
          "name": "stderr",
          "text": [
            "\r 68%|██████▊   | 476/700 [00:34<00:14, 15.08it/s]"
          ]
        },
        {
          "output_type": "stream",
          "name": "stdout",
          "text": [
            "1/1 [==============================] - 0s 18ms/step\n",
            "1/1 [==============================] - 0s 19ms/step\n"
          ]
        },
        {
          "output_type": "stream",
          "name": "stderr",
          "text": [
            "\r 68%|██████▊   | 478/700 [00:34<00:14, 15.36it/s]"
          ]
        },
        {
          "output_type": "stream",
          "name": "stdout",
          "text": [
            "1/1 [==============================] - 0s 19ms/step\n",
            "1/1 [==============================] - 0s 20ms/step\n"
          ]
        },
        {
          "output_type": "stream",
          "name": "stderr",
          "text": [
            "\r 69%|██████▊   | 480/700 [00:35<00:14, 15.13it/s]"
          ]
        },
        {
          "output_type": "stream",
          "name": "stdout",
          "text": [
            "1/1 [==============================] - 0s 20ms/step\n",
            "1/1 [==============================] - 0s 21ms/step\n"
          ]
        },
        {
          "output_type": "stream",
          "name": "stderr",
          "text": [
            "\r 69%|██████▉   | 482/700 [00:35<00:14, 15.25it/s]"
          ]
        },
        {
          "output_type": "stream",
          "name": "stdout",
          "text": [
            "1/1 [==============================] - 0s 18ms/step\n",
            "1/1 [==============================] - 0s 23ms/step\n"
          ]
        },
        {
          "output_type": "stream",
          "name": "stderr",
          "text": [
            "\r 69%|██████▉   | 484/700 [00:35<00:14, 15.07it/s]"
          ]
        },
        {
          "output_type": "stream",
          "name": "stdout",
          "text": [
            "1/1 [==============================] - 0s 19ms/step\n",
            "1/1 [==============================] - 0s 20ms/step\n"
          ]
        },
        {
          "output_type": "stream",
          "name": "stderr",
          "text": [
            "\r 69%|██████▉   | 486/700 [00:35<00:14, 14.99it/s]"
          ]
        },
        {
          "output_type": "stream",
          "name": "stdout",
          "text": [
            "1/1 [==============================] - 0s 19ms/step\n",
            "1/1 [==============================] - 0s 20ms/step\n"
          ]
        },
        {
          "output_type": "stream",
          "name": "stderr",
          "text": [
            "\r 70%|██████▉   | 488/700 [00:35<00:13, 15.33it/s]"
          ]
        },
        {
          "output_type": "stream",
          "name": "stdout",
          "text": [
            "1/1 [==============================] - 0s 22ms/step\n",
            "1/1 [==============================] - 0s 20ms/step\n"
          ]
        },
        {
          "output_type": "stream",
          "name": "stderr",
          "text": [
            "\r 70%|███████   | 490/700 [00:35<00:14, 14.89it/s]"
          ]
        },
        {
          "output_type": "stream",
          "name": "stdout",
          "text": [
            "1/1 [==============================] - 0s 20ms/step\n",
            "1/1 [==============================] - 0s 19ms/step\n"
          ]
        },
        {
          "output_type": "stream",
          "name": "stderr",
          "text": [
            "\r 70%|███████   | 492/700 [00:35<00:13, 15.04it/s]"
          ]
        },
        {
          "output_type": "stream",
          "name": "stdout",
          "text": [
            "1/1 [==============================] - 0s 20ms/step\n",
            "1/1 [==============================] - 0s 20ms/step\n"
          ]
        },
        {
          "output_type": "stream",
          "name": "stderr",
          "text": [
            "\r 71%|███████   | 494/700 [00:35<00:13, 14.96it/s]"
          ]
        },
        {
          "output_type": "stream",
          "name": "stdout",
          "text": [
            "1/1 [==============================] - 0s 27ms/step\n",
            "1/1 [==============================] - 0s 20ms/step\n"
          ]
        },
        {
          "output_type": "stream",
          "name": "stderr",
          "text": [
            "\r 71%|███████   | 496/700 [00:36<00:13, 14.85it/s]"
          ]
        },
        {
          "output_type": "stream",
          "name": "stdout",
          "text": [
            "1/1 [==============================] - 0s 19ms/step\n",
            "1/1 [==============================] - 0s 22ms/step\n"
          ]
        },
        {
          "output_type": "stream",
          "name": "stderr",
          "text": [
            "\r 71%|███████   | 498/700 [00:36<00:13, 14.84it/s]"
          ]
        },
        {
          "output_type": "stream",
          "name": "stdout",
          "text": [
            "1/1 [==============================] - 0s 22ms/step\n",
            "1/1 [==============================] - 0s 26ms/step\n"
          ]
        },
        {
          "output_type": "stream",
          "name": "stderr",
          "text": [
            "\r 71%|███████▏  | 500/700 [00:36<00:13, 14.82it/s]"
          ]
        },
        {
          "output_type": "stream",
          "name": "stdout",
          "text": [
            "1/1 [==============================] - 0s 20ms/step\n",
            "1/1 [==============================] - 0s 23ms/step\n"
          ]
        },
        {
          "output_type": "stream",
          "name": "stderr",
          "text": [
            "\r 72%|███████▏  | 502/700 [00:36<00:13, 14.77it/s]"
          ]
        },
        {
          "output_type": "stream",
          "name": "stdout",
          "text": [
            "1/1 [==============================] - 0s 19ms/step\n",
            "1/1 [==============================] - 0s 32ms/step\n"
          ]
        },
        {
          "output_type": "stream",
          "name": "stderr",
          "text": [
            "\r 72%|███████▏  | 504/700 [00:36<00:13, 14.26it/s]"
          ]
        },
        {
          "output_type": "stream",
          "name": "stdout",
          "text": [
            "1/1 [==============================] - 0s 18ms/step\n",
            "1/1 [==============================] - 0s 18ms/step\n"
          ]
        },
        {
          "output_type": "stream",
          "name": "stderr",
          "text": [
            "\r 72%|███████▏  | 506/700 [00:36<00:13, 14.81it/s]"
          ]
        },
        {
          "output_type": "stream",
          "name": "stdout",
          "text": [
            "1/1 [==============================] - 0s 23ms/step\n",
            "1/1 [==============================] - 0s 19ms/step\n"
          ]
        },
        {
          "output_type": "stream",
          "name": "stderr",
          "text": [
            "\r 73%|███████▎  | 508/700 [00:36<00:13, 14.54it/s]"
          ]
        },
        {
          "output_type": "stream",
          "name": "stdout",
          "text": [
            "1/1 [==============================] - 0s 19ms/step\n",
            "1/1 [==============================] - 0s 19ms/step\n"
          ]
        },
        {
          "output_type": "stream",
          "name": "stderr",
          "text": [
            "\r 73%|███████▎  | 510/700 [00:37<00:12, 14.88it/s]"
          ]
        },
        {
          "output_type": "stream",
          "name": "stdout",
          "text": [
            "1/1 [==============================] - 0s 19ms/step\n",
            "1/1 [==============================] - 0s 19ms/step\n"
          ]
        },
        {
          "output_type": "stream",
          "name": "stderr",
          "text": [
            "\r 73%|███████▎  | 512/700 [00:37<00:12, 15.16it/s]"
          ]
        },
        {
          "output_type": "stream",
          "name": "stdout",
          "text": [
            "1/1 [==============================] - 0s 18ms/step\n",
            "1/1 [==============================] - 0s 22ms/step\n"
          ]
        },
        {
          "output_type": "stream",
          "name": "stderr",
          "text": [
            "\r 73%|███████▎  | 514/700 [00:37<00:12, 14.87it/s]"
          ]
        },
        {
          "output_type": "stream",
          "name": "stdout",
          "text": [
            "1/1 [==============================] - 0s 22ms/step\n",
            "1/1 [==============================] - 0s 22ms/step\n"
          ]
        },
        {
          "output_type": "stream",
          "name": "stderr",
          "text": [
            "\r 74%|███████▎  | 516/700 [00:37<00:12, 14.54it/s]"
          ]
        },
        {
          "output_type": "stream",
          "name": "stdout",
          "text": [
            "1/1 [==============================] - 0s 19ms/step\n",
            "1/1 [==============================] - 0s 21ms/step\n"
          ]
        },
        {
          "output_type": "stream",
          "name": "stderr",
          "text": [
            "\r 74%|███████▍  | 518/700 [00:37<00:12, 14.76it/s]"
          ]
        },
        {
          "output_type": "stream",
          "name": "stdout",
          "text": [
            "1/1 [==============================] - 0s 27ms/step\n",
            "1/1 [==============================] - 0s 19ms/step\n"
          ]
        },
        {
          "output_type": "stream",
          "name": "stderr",
          "text": [
            "\r 74%|███████▍  | 520/700 [00:37<00:12, 14.85it/s]"
          ]
        },
        {
          "output_type": "stream",
          "name": "stdout",
          "text": [
            "1/1 [==============================] - 0s 18ms/step\n",
            "1/1 [==============================] - 0s 20ms/step\n"
          ]
        },
        {
          "output_type": "stream",
          "name": "stderr",
          "text": [
            "\r 75%|███████▍  | 522/700 [00:37<00:11, 14.97it/s]"
          ]
        },
        {
          "output_type": "stream",
          "name": "stdout",
          "text": [
            "1/1 [==============================] - 0s 19ms/step\n",
            "1/1 [==============================] - 0s 19ms/step\n"
          ]
        },
        {
          "output_type": "stream",
          "name": "stderr",
          "text": [
            "\r 75%|███████▍  | 524/700 [00:37<00:11, 15.17it/s]"
          ]
        },
        {
          "output_type": "stream",
          "name": "stdout",
          "text": [
            "1/1 [==============================] - 0s 22ms/step\n",
            "1/1 [==============================] - 0s 22ms/step\n"
          ]
        },
        {
          "output_type": "stream",
          "name": "stderr",
          "text": [
            "\r 75%|███████▌  | 526/700 [00:38<00:11, 14.83it/s]"
          ]
        },
        {
          "output_type": "stream",
          "name": "stdout",
          "text": [
            "1/1 [==============================] - 0s 19ms/step\n",
            "1/1 [==============================] - 0s 19ms/step\n"
          ]
        },
        {
          "output_type": "stream",
          "name": "stderr",
          "text": [
            "\r 75%|███████▌  | 528/700 [00:38<00:11, 15.12it/s]"
          ]
        },
        {
          "output_type": "stream",
          "name": "stdout",
          "text": [
            "1/1 [==============================] - 0s 23ms/step\n",
            "1/1 [==============================] - 0s 20ms/step\n"
          ]
        },
        {
          "output_type": "stream",
          "name": "stderr",
          "text": [
            "\r 76%|███████▌  | 530/700 [00:38<00:11, 15.26it/s]"
          ]
        },
        {
          "output_type": "stream",
          "name": "stdout",
          "text": [
            "1/1 [==============================] - 0s 19ms/step\n",
            "1/1 [==============================] - 0s 19ms/step\n"
          ]
        },
        {
          "output_type": "stream",
          "name": "stderr",
          "text": [
            "\r 76%|███████▌  | 532/700 [00:38<00:10, 15.57it/s]"
          ]
        },
        {
          "output_type": "stream",
          "name": "stdout",
          "text": [
            "1/1 [==============================] - 0s 21ms/step\n",
            "1/1 [==============================] - 0s 21ms/step\n"
          ]
        },
        {
          "output_type": "stream",
          "name": "stderr",
          "text": [
            "\r 76%|███████▋  | 534/700 [00:38<00:10, 15.24it/s]"
          ]
        },
        {
          "output_type": "stream",
          "name": "stdout",
          "text": [
            "1/1 [==============================] - 0s 30ms/step\n",
            "1/1 [==============================] - 0s 29ms/step\n"
          ]
        },
        {
          "output_type": "stream",
          "name": "stderr",
          "text": [
            "\r 77%|███████▋  | 536/700 [00:38<00:11, 13.75it/s]"
          ]
        },
        {
          "output_type": "stream",
          "name": "stdout",
          "text": [
            "1/1 [==============================] - 0s 27ms/step\n",
            "1/1 [==============================] - 0s 27ms/step\n"
          ]
        },
        {
          "output_type": "stream",
          "name": "stderr",
          "text": [
            "\r 77%|███████▋  | 538/700 [00:38<00:12, 13.03it/s]"
          ]
        },
        {
          "output_type": "stream",
          "name": "stdout",
          "text": [
            "1/1 [==============================] - 0s 27ms/step\n",
            "1/1 [==============================] - 0s 27ms/step\n"
          ]
        },
        {
          "output_type": "stream",
          "name": "stderr",
          "text": [
            "\r 77%|███████▋  | 540/700 [00:39<00:12, 12.31it/s]"
          ]
        },
        {
          "output_type": "stream",
          "name": "stdout",
          "text": [
            "1/1 [==============================] - 0s 27ms/step\n",
            "1/1 [==============================] - 0s 28ms/step\n"
          ]
        },
        {
          "output_type": "stream",
          "name": "stderr",
          "text": [
            "\r 77%|███████▋  | 542/700 [00:39<00:13, 11.83it/s]"
          ]
        },
        {
          "output_type": "stream",
          "name": "stdout",
          "text": [
            "1/1 [==============================] - 0s 30ms/step\n",
            "1/1 [==============================] - 0s 28ms/step\n"
          ]
        },
        {
          "output_type": "stream",
          "name": "stderr",
          "text": [
            "\r 78%|███████▊  | 544/700 [00:39<00:14, 10.96it/s]"
          ]
        },
        {
          "output_type": "stream",
          "name": "stdout",
          "text": [
            "1/1 [==============================] - 0s 34ms/step\n",
            "1/1 [==============================] - 0s 31ms/step\n"
          ]
        },
        {
          "output_type": "stream",
          "name": "stderr",
          "text": [
            "\r 78%|███████▊  | 546/700 [00:39<00:14, 10.64it/s]"
          ]
        },
        {
          "output_type": "stream",
          "name": "stdout",
          "text": [
            "1/1 [==============================] - 0s 28ms/step\n",
            "1/1 [==============================] - 0s 28ms/step\n"
          ]
        },
        {
          "output_type": "stream",
          "name": "stderr",
          "text": [
            "\r 78%|███████▊  | 548/700 [00:39<00:14, 10.53it/s]"
          ]
        },
        {
          "output_type": "stream",
          "name": "stdout",
          "text": [
            "1/1 [==============================] - 0s 28ms/step\n",
            "1/1 [==============================] - 0s 27ms/step\n"
          ]
        },
        {
          "output_type": "stream",
          "name": "stderr",
          "text": [
            "\r 79%|███████▊  | 550/700 [00:40<00:14, 10.63it/s]"
          ]
        },
        {
          "output_type": "stream",
          "name": "stdout",
          "text": [
            "1/1 [==============================] - 0s 27ms/step\n",
            "1/1 [==============================] - 0s 28ms/step\n"
          ]
        },
        {
          "output_type": "stream",
          "name": "stderr",
          "text": [
            "\r 79%|███████▉  | 552/700 [00:40<00:13, 10.59it/s]"
          ]
        },
        {
          "output_type": "stream",
          "name": "stdout",
          "text": [
            "1/1 [==============================] - 0s 33ms/step\n",
            "1/1 [==============================] - 0s 30ms/step\n"
          ]
        },
        {
          "output_type": "stream",
          "name": "stderr",
          "text": [
            "\r 79%|███████▉  | 554/700 [00:40<00:13, 10.47it/s]"
          ]
        },
        {
          "output_type": "stream",
          "name": "stdout",
          "text": [
            "1/1 [==============================] - 0s 28ms/step\n",
            "1/1 [==============================] - 0s 28ms/step\n"
          ]
        },
        {
          "output_type": "stream",
          "name": "stderr",
          "text": [
            "\r 79%|███████▉  | 556/700 [00:40<00:13, 10.47it/s]"
          ]
        },
        {
          "output_type": "stream",
          "name": "stdout",
          "text": [
            "1/1 [==============================] - 0s 30ms/step\n",
            "1/1 [==============================] - 0s 31ms/step\n"
          ]
        },
        {
          "output_type": "stream",
          "name": "stderr",
          "text": [
            "\r 80%|███████▉  | 558/700 [00:40<00:13, 10.17it/s]"
          ]
        },
        {
          "output_type": "stream",
          "name": "stdout",
          "text": [
            "1/1 [==============================] - 0s 37ms/step\n",
            "1/1 [==============================] - 0s 31ms/step\n"
          ]
        },
        {
          "output_type": "stream",
          "name": "stderr",
          "text": [
            "\r 80%|████████  | 560/700 [00:41<00:13, 10.08it/s]"
          ]
        },
        {
          "output_type": "stream",
          "name": "stdout",
          "text": [
            "1/1 [==============================] - 0s 30ms/step\n",
            "1/1 [==============================] - 0s 40ms/step\n"
          ]
        },
        {
          "output_type": "stream",
          "name": "stderr",
          "text": [
            "\r 80%|████████  | 562/700 [00:41<00:13, 10.03it/s]"
          ]
        },
        {
          "output_type": "stream",
          "name": "stdout",
          "text": [
            "1/1 [==============================] - 0s 31ms/step\n",
            "1/1 [==============================] - 0s 19ms/step\n"
          ]
        },
        {
          "output_type": "stream",
          "name": "stderr",
          "text": [
            "\r 81%|████████  | 564/700 [00:41<00:13, 10.36it/s]"
          ]
        },
        {
          "output_type": "stream",
          "name": "stdout",
          "text": [
            "1/1 [==============================] - 0s 26ms/step\n",
            "1/1 [==============================] - 0s 19ms/step\n"
          ]
        },
        {
          "output_type": "stream",
          "name": "stderr",
          "text": [
            "\r 81%|████████  | 566/700 [00:41<00:11, 11.29it/s]"
          ]
        },
        {
          "output_type": "stream",
          "name": "stdout",
          "text": [
            "1/1 [==============================] - 0s 21ms/step\n",
            "1/1 [==============================] - 0s 20ms/step\n"
          ]
        },
        {
          "output_type": "stream",
          "name": "stderr",
          "text": [
            "\r 81%|████████  | 568/700 [00:41<00:10, 12.10it/s]"
          ]
        },
        {
          "output_type": "stream",
          "name": "stdout",
          "text": [
            "1/1 [==============================] - 0s 21ms/step\n",
            "1/1 [==============================] - 0s 22ms/step\n"
          ]
        },
        {
          "output_type": "stream",
          "name": "stderr",
          "text": [
            "\r 81%|████████▏ | 570/700 [00:41<00:10, 12.48it/s]"
          ]
        },
        {
          "output_type": "stream",
          "name": "stdout",
          "text": [
            "1/1 [==============================] - 0s 21ms/step\n",
            "1/1 [==============================] - 0s 20ms/step\n"
          ]
        },
        {
          "output_type": "stream",
          "name": "stderr",
          "text": [
            "\r 82%|████████▏ | 572/700 [00:42<00:09, 13.25it/s]"
          ]
        },
        {
          "output_type": "stream",
          "name": "stdout",
          "text": [
            "1/1 [==============================] - 0s 21ms/step\n",
            "1/1 [==============================] - 0s 20ms/step\n"
          ]
        },
        {
          "output_type": "stream",
          "name": "stderr",
          "text": [
            "\r 82%|████████▏ | 574/700 [00:42<00:09, 13.74it/s]"
          ]
        },
        {
          "output_type": "stream",
          "name": "stdout",
          "text": [
            "1/1 [==============================] - 0s 22ms/step\n",
            "1/1 [==============================] - 0s 21ms/step\n"
          ]
        },
        {
          "output_type": "stream",
          "name": "stderr",
          "text": [
            "\r 82%|████████▏ | 576/700 [00:42<00:08, 14.05it/s]"
          ]
        },
        {
          "output_type": "stream",
          "name": "stdout",
          "text": [
            "1/1 [==============================] - 0s 19ms/step\n",
            "1/1 [==============================] - 0s 20ms/step\n"
          ]
        },
        {
          "output_type": "stream",
          "name": "stderr",
          "text": [
            "\r 83%|████████▎ | 578/700 [00:42<00:08, 14.64it/s]"
          ]
        },
        {
          "output_type": "stream",
          "name": "stdout",
          "text": [
            "1/1 [==============================] - 0s 22ms/step\n",
            "1/1 [==============================] - 0s 19ms/step\n"
          ]
        },
        {
          "output_type": "stream",
          "name": "stderr",
          "text": [
            "\r 83%|████████▎ | 580/700 [00:42<00:08, 14.50it/s]"
          ]
        },
        {
          "output_type": "stream",
          "name": "stdout",
          "text": [
            "1/1 [==============================] - 0s 23ms/step\n",
            "1/1 [==============================] - 0s 19ms/step\n"
          ]
        },
        {
          "output_type": "stream",
          "name": "stderr",
          "text": [
            "\r 83%|████████▎ | 582/700 [00:42<00:08, 14.64it/s]"
          ]
        },
        {
          "output_type": "stream",
          "name": "stdout",
          "text": [
            "1/1 [==============================] - 0s 24ms/step\n",
            "1/1 [==============================] - 0s 20ms/step\n"
          ]
        },
        {
          "output_type": "stream",
          "name": "stderr",
          "text": [
            "\r 83%|████████▎ | 584/700 [00:42<00:07, 14.63it/s]"
          ]
        },
        {
          "output_type": "stream",
          "name": "stdout",
          "text": [
            "1/1 [==============================] - 0s 18ms/step\n",
            "1/1 [==============================] - 0s 19ms/step\n"
          ]
        },
        {
          "output_type": "stream",
          "name": "stderr",
          "text": [
            "\r 84%|████████▎ | 586/700 [00:42<00:07, 14.92it/s]"
          ]
        },
        {
          "output_type": "stream",
          "name": "stdout",
          "text": [
            "1/1 [==============================] - 0s 20ms/step\n",
            "1/1 [==============================] - 0s 20ms/step\n"
          ]
        },
        {
          "output_type": "stream",
          "name": "stderr",
          "text": [
            "\r 84%|████████▍ | 588/700 [00:43<00:07, 15.09it/s]"
          ]
        },
        {
          "output_type": "stream",
          "name": "stdout",
          "text": [
            "1/1 [==============================] - 0s 20ms/step\n",
            "1/1 [==============================] - 0s 21ms/step\n"
          ]
        },
        {
          "output_type": "stream",
          "name": "stderr",
          "text": [
            "\r 84%|████████▍ | 590/700 [00:43<00:07, 14.81it/s]"
          ]
        },
        {
          "output_type": "stream",
          "name": "stdout",
          "text": [
            "1/1 [==============================] - 0s 24ms/step\n",
            "1/1 [==============================] - 0s 19ms/step\n"
          ]
        },
        {
          "output_type": "stream",
          "name": "stderr",
          "text": [
            "\r 85%|████████▍ | 592/700 [00:43<00:07, 14.59it/s]"
          ]
        },
        {
          "output_type": "stream",
          "name": "stdout",
          "text": [
            "1/1 [==============================] - 0s 19ms/step\n",
            "1/1 [==============================] - 0s 20ms/step\n"
          ]
        },
        {
          "output_type": "stream",
          "name": "stderr",
          "text": [
            "\r 85%|████████▍ | 594/700 [00:43<00:07, 14.70it/s]"
          ]
        },
        {
          "output_type": "stream",
          "name": "stdout",
          "text": [
            "1/1 [==============================] - 0s 21ms/step\n",
            "1/1 [==============================] - 0s 23ms/step\n"
          ]
        },
        {
          "output_type": "stream",
          "name": "stderr",
          "text": [
            "\r 85%|████████▌ | 596/700 [00:43<00:07, 14.83it/s]"
          ]
        },
        {
          "output_type": "stream",
          "name": "stdout",
          "text": [
            "1/1 [==============================] - 0s 25ms/step\n",
            "1/1 [==============================] - 0s 21ms/step\n"
          ]
        },
        {
          "output_type": "stream",
          "name": "stderr",
          "text": [
            "\r 85%|████████▌ | 598/700 [00:43<00:07, 14.32it/s]"
          ]
        },
        {
          "output_type": "stream",
          "name": "stdout",
          "text": [
            "1/1 [==============================] - 0s 20ms/step\n",
            "1/1 [==============================] - 0s 24ms/step\n"
          ]
        },
        {
          "output_type": "stream",
          "name": "stderr",
          "text": [
            "\r 86%|████████▌ | 600/700 [00:43<00:06, 14.54it/s]"
          ]
        },
        {
          "output_type": "stream",
          "name": "stdout",
          "text": [
            "1/1 [==============================] - 0s 19ms/step\n",
            "1/1 [==============================] - 0s 20ms/step\n"
          ]
        },
        {
          "output_type": "stream",
          "name": "stderr",
          "text": [
            "\r 86%|████████▌ | 602/700 [00:44<00:06, 14.57it/s]"
          ]
        },
        {
          "output_type": "stream",
          "name": "stdout",
          "text": [
            "1/1 [==============================] - 0s 20ms/step\n",
            "1/1 [==============================] - 0s 20ms/step\n"
          ]
        },
        {
          "output_type": "stream",
          "name": "stderr",
          "text": [
            "\r 86%|████████▋ | 604/700 [00:44<00:06, 15.09it/s]"
          ]
        },
        {
          "output_type": "stream",
          "name": "stdout",
          "text": [
            "1/1 [==============================] - 0s 19ms/step\n",
            "1/1 [==============================] - 0s 21ms/step\n"
          ]
        },
        {
          "output_type": "stream",
          "name": "stderr",
          "text": [
            "\r 87%|████████▋ | 606/700 [00:44<00:06, 15.27it/s]"
          ]
        },
        {
          "output_type": "stream",
          "name": "stdout",
          "text": [
            "1/1 [==============================] - 0s 19ms/step\n",
            "1/1 [==============================] - 0s 20ms/step\n"
          ]
        },
        {
          "output_type": "stream",
          "name": "stderr",
          "text": [
            "\r 87%|████████▋ | 608/700 [00:44<00:06, 15.10it/s]"
          ]
        },
        {
          "output_type": "stream",
          "name": "stdout",
          "text": [
            "1/1 [==============================] - 0s 20ms/step\n",
            "1/1 [==============================] - 0s 21ms/step\n"
          ]
        },
        {
          "output_type": "stream",
          "name": "stderr",
          "text": [
            "\r 87%|████████▋ | 610/700 [00:44<00:05, 15.33it/s]"
          ]
        },
        {
          "output_type": "stream",
          "name": "stdout",
          "text": [
            "1/1 [==============================] - 0s 22ms/step\n",
            "1/1 [==============================] - 0s 21ms/step\n"
          ]
        },
        {
          "output_type": "stream",
          "name": "stderr",
          "text": [
            "\r 87%|████████▋ | 612/700 [00:44<00:05, 14.94it/s]"
          ]
        },
        {
          "output_type": "stream",
          "name": "stdout",
          "text": [
            "1/1 [==============================] - 0s 21ms/step\n",
            "1/1 [==============================] - 0s 21ms/step\n"
          ]
        },
        {
          "output_type": "stream",
          "name": "stderr",
          "text": [
            "\r 88%|████████▊ | 614/700 [00:44<00:05, 15.00it/s]"
          ]
        },
        {
          "output_type": "stream",
          "name": "stdout",
          "text": [
            "1/1 [==============================] - 0s 19ms/step\n",
            "1/1 [==============================] - 0s 19ms/step\n"
          ]
        },
        {
          "output_type": "stream",
          "name": "stderr",
          "text": [
            "\r 88%|████████▊ | 616/700 [00:45<00:05, 14.60it/s]"
          ]
        },
        {
          "output_type": "stream",
          "name": "stdout",
          "text": [
            "1/1 [==============================] - 0s 20ms/step\n",
            "1/1 [==============================] - 0s 19ms/step\n"
          ]
        },
        {
          "output_type": "stream",
          "name": "stderr",
          "text": [
            "\r 88%|████████▊ | 618/700 [00:45<00:05, 14.71it/s]"
          ]
        },
        {
          "output_type": "stream",
          "name": "stdout",
          "text": [
            "1/1 [==============================] - 0s 19ms/step\n",
            "1/1 [==============================] - 0s 19ms/step\n"
          ]
        },
        {
          "output_type": "stream",
          "name": "stderr",
          "text": [
            "\r 89%|████████▊ | 620/700 [00:45<00:05, 14.73it/s]"
          ]
        },
        {
          "output_type": "stream",
          "name": "stdout",
          "text": [
            "1/1 [==============================] - 0s 20ms/step\n",
            "1/1 [==============================] - 0s 22ms/step\n"
          ]
        },
        {
          "output_type": "stream",
          "name": "stderr",
          "text": [
            "\r 89%|████████▉ | 622/700 [00:45<00:05, 14.82it/s]"
          ]
        },
        {
          "output_type": "stream",
          "name": "stdout",
          "text": [
            "1/1 [==============================] - 0s 29ms/step\n",
            "1/1 [==============================] - 0s 19ms/step\n"
          ]
        },
        {
          "output_type": "stream",
          "name": "stderr",
          "text": [
            "\r 89%|████████▉ | 624/700 [00:45<00:05, 14.67it/s]"
          ]
        },
        {
          "output_type": "stream",
          "name": "stdout",
          "text": [
            "1/1 [==============================] - 0s 22ms/step\n",
            "1/1 [==============================] - 0s 21ms/step\n"
          ]
        },
        {
          "output_type": "stream",
          "name": "stderr",
          "text": [
            "\r 89%|████████▉ | 626/700 [00:45<00:05, 14.71it/s]"
          ]
        },
        {
          "output_type": "stream",
          "name": "stdout",
          "text": [
            "1/1 [==============================] - 0s 21ms/step\n",
            "1/1 [==============================] - 0s 24ms/step\n"
          ]
        },
        {
          "output_type": "stream",
          "name": "stderr",
          "text": [
            "\r 90%|████████▉ | 628/700 [00:45<00:04, 14.67it/s]"
          ]
        },
        {
          "output_type": "stream",
          "name": "stdout",
          "text": [
            "1/1 [==============================] - 0s 19ms/step\n",
            "1/1 [==============================] - 0s 19ms/step\n"
          ]
        },
        {
          "output_type": "stream",
          "name": "stderr",
          "text": [
            "\r 90%|█████████ | 630/700 [00:45<00:04, 14.98it/s]"
          ]
        },
        {
          "output_type": "stream",
          "name": "stdout",
          "text": [
            "1/1 [==============================] - 0s 20ms/step\n",
            "1/1 [==============================] - 0s 19ms/step\n"
          ]
        },
        {
          "output_type": "stream",
          "name": "stderr",
          "text": [
            "\r 90%|█████████ | 632/700 [00:46<00:04, 15.37it/s]"
          ]
        },
        {
          "output_type": "stream",
          "name": "stdout",
          "text": [
            "1/1 [==============================] - 0s 19ms/step\n",
            "1/1 [==============================] - 0s 20ms/step\n"
          ]
        },
        {
          "output_type": "stream",
          "name": "stderr",
          "text": [
            "\r 91%|█████████ | 634/700 [00:46<00:04, 14.56it/s]"
          ]
        },
        {
          "output_type": "stream",
          "name": "stdout",
          "text": [
            "1/1 [==============================] - 0s 19ms/step\n",
            "1/1 [==============================] - 0s 19ms/step\n"
          ]
        },
        {
          "output_type": "stream",
          "name": "stderr",
          "text": [
            "\r 91%|█████████ | 636/700 [00:46<00:04, 15.03it/s]"
          ]
        },
        {
          "output_type": "stream",
          "name": "stdout",
          "text": [
            "1/1 [==============================] - 0s 20ms/step\n",
            "1/1 [==============================] - 0s 24ms/step\n"
          ]
        },
        {
          "output_type": "stream",
          "name": "stderr",
          "text": [
            "\r 91%|█████████ | 638/700 [00:46<00:04, 14.88it/s]"
          ]
        },
        {
          "output_type": "stream",
          "name": "stdout",
          "text": [
            "1/1 [==============================] - 0s 23ms/step\n",
            "1/1 [==============================] - 0s 20ms/step\n"
          ]
        },
        {
          "output_type": "stream",
          "name": "stderr",
          "text": [
            "\r 91%|█████████▏| 640/700 [00:46<00:04, 14.86it/s]"
          ]
        },
        {
          "output_type": "stream",
          "name": "stdout",
          "text": [
            "1/1 [==============================] - 0s 20ms/step\n",
            "1/1 [==============================] - 0s 21ms/step\n"
          ]
        },
        {
          "output_type": "stream",
          "name": "stderr",
          "text": [
            "\r 92%|█████████▏| 642/700 [00:46<00:03, 14.79it/s]"
          ]
        },
        {
          "output_type": "stream",
          "name": "stdout",
          "text": [
            "1/1 [==============================] - 0s 21ms/step\n",
            "1/1 [==============================] - 0s 20ms/step\n"
          ]
        },
        {
          "output_type": "stream",
          "name": "stderr",
          "text": [
            "\r 92%|█████████▏| 644/700 [00:46<00:03, 14.09it/s]"
          ]
        },
        {
          "output_type": "stream",
          "name": "stdout",
          "text": [
            "1/1 [==============================] - 0s 19ms/step\n",
            "1/1 [==============================] - 0s 19ms/step\n"
          ]
        },
        {
          "output_type": "stream",
          "name": "stderr",
          "text": [
            "\r 92%|█████████▏| 646/700 [00:47<00:03, 14.51it/s]"
          ]
        },
        {
          "output_type": "stream",
          "name": "stdout",
          "text": [
            "1/1 [==============================] - 0s 25ms/step\n",
            "1/1 [==============================] - 0s 27ms/step\n"
          ]
        },
        {
          "output_type": "stream",
          "name": "stderr",
          "text": [
            "\r 93%|█████████▎| 648/700 [00:47<00:03, 14.08it/s]"
          ]
        },
        {
          "output_type": "stream",
          "name": "stdout",
          "text": [
            "1/1 [==============================] - 0s 21ms/step\n",
            "1/1 [==============================] - 0s 19ms/step\n"
          ]
        },
        {
          "output_type": "stream",
          "name": "stderr",
          "text": [
            "\r 93%|█████████▎| 650/700 [00:47<00:03, 14.29it/s]"
          ]
        },
        {
          "output_type": "stream",
          "name": "stdout",
          "text": [
            "1/1 [==============================] - 0s 24ms/step\n",
            "1/1 [==============================] - 0s 20ms/step\n"
          ]
        },
        {
          "output_type": "stream",
          "name": "stderr",
          "text": [
            "\r 93%|█████████▎| 652/700 [00:47<00:03, 14.15it/s]"
          ]
        },
        {
          "output_type": "stream",
          "name": "stdout",
          "text": [
            "1/1 [==============================] - 0s 20ms/step\n",
            "1/1 [==============================] - 0s 22ms/step\n"
          ]
        },
        {
          "output_type": "stream",
          "name": "stderr",
          "text": [
            "\r 93%|█████████▎| 654/700 [00:47<00:03, 14.19it/s]"
          ]
        },
        {
          "output_type": "stream",
          "name": "stdout",
          "text": [
            "1/1 [==============================] - 0s 20ms/step\n",
            "1/1 [==============================] - 0s 19ms/step\n"
          ]
        },
        {
          "output_type": "stream",
          "name": "stderr",
          "text": [
            "\r 94%|█████████▎| 656/700 [00:47<00:03, 14.23it/s]"
          ]
        },
        {
          "output_type": "stream",
          "name": "stdout",
          "text": [
            "1/1 [==============================] - 0s 21ms/step\n",
            "1/1 [==============================] - 0s 19ms/step\n"
          ]
        },
        {
          "output_type": "stream",
          "name": "stderr",
          "text": [
            "\r 94%|█████████▍| 658/700 [00:47<00:03, 13.89it/s]"
          ]
        },
        {
          "output_type": "stream",
          "name": "stdout",
          "text": [
            "1/1 [==============================] - 0s 20ms/step\n",
            "1/1 [==============================] - 0s 19ms/step\n"
          ]
        },
        {
          "output_type": "stream",
          "name": "stderr",
          "text": [
            "\r 94%|█████████▍| 660/700 [00:48<00:02, 14.33it/s]"
          ]
        },
        {
          "output_type": "stream",
          "name": "stdout",
          "text": [
            "1/1 [==============================] - 0s 20ms/step\n",
            "1/1 [==============================] - 0s 19ms/step\n"
          ]
        },
        {
          "output_type": "stream",
          "name": "stderr",
          "text": [
            "\r 95%|█████████▍| 662/700 [00:48<00:02, 14.10it/s]"
          ]
        },
        {
          "output_type": "stream",
          "name": "stdout",
          "text": [
            "1/1 [==============================] - 0s 21ms/step\n",
            "1/1 [==============================] - 0s 31ms/step\n"
          ]
        },
        {
          "output_type": "stream",
          "name": "stderr",
          "text": [
            "\r 95%|█████████▍| 664/700 [00:48<00:02, 13.45it/s]"
          ]
        },
        {
          "output_type": "stream",
          "name": "stdout",
          "text": [
            "1/1 [==============================] - 0s 29ms/step\n",
            "1/1 [==============================] - 0s 29ms/step\n"
          ]
        },
        {
          "output_type": "stream",
          "name": "stderr",
          "text": [
            "\r 95%|█████████▌| 666/700 [00:48<00:02, 12.40it/s]"
          ]
        },
        {
          "output_type": "stream",
          "name": "stdout",
          "text": [
            "1/1 [==============================] - 0s 31ms/step\n",
            "1/1 [==============================] - 0s 30ms/step\n"
          ]
        },
        {
          "output_type": "stream",
          "name": "stderr",
          "text": [
            "\r 95%|█████████▌| 668/700 [00:48<00:02, 11.80it/s]"
          ]
        },
        {
          "output_type": "stream",
          "name": "stdout",
          "text": [
            "1/1 [==============================] - 0s 28ms/step\n",
            "1/1 [==============================] - 0s 38ms/step\n"
          ]
        },
        {
          "output_type": "stream",
          "name": "stderr",
          "text": [
            "\r 96%|█████████▌| 670/700 [00:48<00:02, 11.17it/s]"
          ]
        },
        {
          "output_type": "stream",
          "name": "stdout",
          "text": [
            "1/1 [==============================] - 0s 28ms/step\n",
            "1/1 [==============================] - 0s 30ms/step\n"
          ]
        },
        {
          "output_type": "stream",
          "name": "stderr",
          "text": [
            "\r 96%|█████████▌| 672/700 [00:49<00:02, 10.56it/s]"
          ]
        },
        {
          "output_type": "stream",
          "name": "stdout",
          "text": [
            "1/1 [==============================] - 0s 28ms/step\n",
            "1/1 [==============================] - 0s 34ms/step\n"
          ]
        },
        {
          "output_type": "stream",
          "name": "stderr",
          "text": [
            "\r 96%|█████████▋| 674/700 [00:49<00:02, 10.50it/s]"
          ]
        },
        {
          "output_type": "stream",
          "name": "stdout",
          "text": [
            "1/1 [==============================] - 0s 28ms/step\n",
            "1/1 [==============================] - 0s 27ms/step\n"
          ]
        },
        {
          "output_type": "stream",
          "name": "stderr",
          "text": [
            "\r 97%|█████████▋| 676/700 [00:49<00:02, 10.30it/s]"
          ]
        },
        {
          "output_type": "stream",
          "name": "stdout",
          "text": [
            "1/1 [==============================] - 0s 27ms/step\n",
            "1/1 [==============================] - 0s 29ms/step\n"
          ]
        },
        {
          "output_type": "stream",
          "name": "stderr",
          "text": [
            "\r 97%|█████████▋| 678/700 [00:49<00:02, 10.20it/s]"
          ]
        },
        {
          "output_type": "stream",
          "name": "stdout",
          "text": [
            "1/1 [==============================] - 0s 29ms/step\n",
            "1/1 [==============================] - 0s 33ms/step\n"
          ]
        },
        {
          "output_type": "stream",
          "name": "stderr",
          "text": [
            "\r 97%|█████████▋| 680/700 [00:49<00:01, 10.14it/s]"
          ]
        },
        {
          "output_type": "stream",
          "name": "stdout",
          "text": [
            "1/1 [==============================] - 0s 28ms/step\n",
            "1/1 [==============================] - 0s 28ms/step\n"
          ]
        },
        {
          "output_type": "stream",
          "name": "stderr",
          "text": [
            "\r 97%|█████████▋| 682/700 [00:50<00:01,  9.94it/s]"
          ]
        },
        {
          "output_type": "stream",
          "name": "stdout",
          "text": [
            "1/1 [==============================] - 0s 29ms/step\n",
            "1/1 [==============================] - 0s 30ms/step\n"
          ]
        },
        {
          "output_type": "stream",
          "name": "stderr",
          "text": [
            "\r 98%|█████████▊| 684/700 [00:50<00:01, 10.11it/s]"
          ]
        },
        {
          "output_type": "stream",
          "name": "stdout",
          "text": [
            "1/1 [==============================] - 0s 29ms/step\n",
            "1/1 [==============================] - 0s 31ms/step\n"
          ]
        },
        {
          "output_type": "stream",
          "name": "stderr",
          "text": [
            "\r 98%|█████████▊| 686/700 [00:50<00:01, 10.27it/s]"
          ]
        },
        {
          "output_type": "stream",
          "name": "stdout",
          "text": [
            "1/1 [==============================] - 0s 31ms/step\n",
            "1/1 [==============================] - 0s 29ms/step\n"
          ]
        },
        {
          "output_type": "stream",
          "name": "stderr",
          "text": [
            "\r 98%|█████████▊| 688/700 [00:50<00:01, 10.32it/s]"
          ]
        },
        {
          "output_type": "stream",
          "name": "stdout",
          "text": [
            "1/1 [==============================] - 0s 29ms/step\n",
            "1/1 [==============================] - 0s 29ms/step\n"
          ]
        },
        {
          "output_type": "stream",
          "name": "stderr",
          "text": [
            "\r 99%|█████████▊| 690/700 [00:50<00:00, 10.40it/s]"
          ]
        },
        {
          "output_type": "stream",
          "name": "stdout",
          "text": [
            "1/1 [==============================] - 0s 25ms/step\n",
            "1/1 [==============================] - 0s 18ms/step\n"
          ]
        },
        {
          "output_type": "stream",
          "name": "stderr",
          "text": [
            "\r 99%|█████████▉| 692/700 [00:51<00:00, 11.16it/s]"
          ]
        },
        {
          "output_type": "stream",
          "name": "stdout",
          "text": [
            "1/1 [==============================] - 0s 19ms/step\n",
            "1/1 [==============================] - 0s 18ms/step\n"
          ]
        },
        {
          "output_type": "stream",
          "name": "stderr",
          "text": [
            "\r 99%|█████████▉| 694/700 [00:51<00:00, 12.04it/s]"
          ]
        },
        {
          "output_type": "stream",
          "name": "stdout",
          "text": [
            "1/1 [==============================] - 0s 18ms/step\n",
            "1/1 [==============================] - 0s 19ms/step\n"
          ]
        },
        {
          "output_type": "stream",
          "name": "stderr",
          "text": [
            "\r 99%|█████████▉| 696/700 [00:51<00:00, 12.83it/s]"
          ]
        },
        {
          "output_type": "stream",
          "name": "stdout",
          "text": [
            "1/1 [==============================] - 0s 20ms/step\n",
            "1/1 [==============================] - 0s 33ms/step\n"
          ]
        },
        {
          "output_type": "stream",
          "name": "stderr",
          "text": [
            "\r100%|█████████▉| 698/700 [00:51<00:00, 12.76it/s]"
          ]
        },
        {
          "output_type": "stream",
          "name": "stdout",
          "text": [
            "1/1 [==============================] - 0s 33ms/step\n",
            "1/1 [==============================] - 0s 43ms/step\n"
          ]
        },
        {
          "output_type": "stream",
          "name": "stderr",
          "text": [
            "100%|██████████| 700/700 [00:51<00:00, 13.54it/s]\n"
          ]
        },
        {
          "output_type": "execute_result",
          "data": {
            "text/plain": [
              "'Después de preprocesar la imagen, predice las características de esa imagen \\n    utilizando el modelo creado y almacena las características \\n    en la matriz images_feat.'"
            ],
            "application/vnd.google.colaboratory.intrinsic+json": {
              "type": "string"
            }
          },
          "metadata": {},
          "execution_count": 43
        }
      ],
      "source": [
        "#Para el modelo basado en imágenes, primero tenemos que crear una función de imagen. Comencemos ese proceso\n",
        "    #crear un modelo para extraer el vector de características de nuestras imágenes:\n",
        "from tensorflow.keras.models import Model\n",
        "from tensorflow.keras.layers import GlobalAveragePooling2D\n",
        "from tensorflow.keras.applications.vgg16 import VGG16\n",
        "from tensorflow.keras.preprocessing import image\n",
        "from tensorflow.keras.applications.vgg16 import preprocess_input\n",
        "import numpy as np\n",
        "\"\"\"Se usa el modelo VGG16 para extraer el vector de características \n",
        "de las imágenes al agregarle la capa GlobalAveragePooling.\"\"\"\n",
        "model_base = VGG16(weights='imagenet', include_top=False)\n",
        "#cree un modelo agregándole la capa GlobalAveragePooling:\n",
        "x = model_base.output\n",
        "gap = GlobalAveragePooling2D()(x)\n",
        "model = Model(inputs=model_base.input, outputs=gap)\n",
        "\n",
        "\"\"\"Con Numpy se usa para crear una matriz vacía de formas (n_images, 512) \n",
        "    donde n_images es la cantidad de imágenes que se procesarán. y luego tqdm \n",
        "    para mostrar el progreso del procesamiento. Para cada imagen, \n",
        "    convierte la imagen en una matriz, expande su dimensión agregando un eje más\"\"\"\n",
        "from tqdm import tqdm  #Para mostrar el progreso:\n",
        "#Vamos a procesarlos y extraer el vector de 512 características:\n",
        "images_feat = np.zeros((n_images, 512))\n",
        "\"\"\"la procesa previamente usando la función preprocess_input() de VGG16:\"\"\"\n",
        "for i in tqdm(range(images.shape[0])):\n",
        "    img = images[i]\n",
        "    x = image.img_to_array(img)\n",
        "    x = np.expand_dims(x, axis=0)\n",
        "    x = preprocess_input(x)\n",
        "\n",
        "    features = model.predict(x)\n",
        "    images_feat[i] = features[0]\n",
        "\"\"\"Después de preprocesar la imagen, predice las características de esa imagen \n",
        "    utilizando el modelo creado y almacena las características \n",
        "    en la matriz images_feat.\"\"\""
      ]
    },
    {
      "cell_type": "code",
      "execution_count": 39,
      "metadata": {
        "id": "D4TV0OMOL-Un",
        "colab": {
          "base_uri": "https://localhost:8080/"
        },
        "outputId": "8fa475b0-2595-4e45-9993-99eb62e76305"
      },
      "outputs": [
        {
          "output_type": "execute_result",
          "data": {
            "text/plain": [
              "(700, 512)"
            ]
          },
          "metadata": {},
          "execution_count": 39
        }
      ],
      "source": [
        "images_feat.shape"
      ]
    },
    {
      "cell_type": "code",
      "execution_count": 44,
      "metadata": {
        "id": "ANGhlPBSMC5I"
      },
      "outputs": [],
      "source": [
        "#Normalizamos datos y etiquetas (esta vez las etiquetas son los precios\n",
        "    #y los vamos a normalizar también entre 0 y 1):\n",
        "from sklearn import preprocessing\n",
        "min_max_scaler = preprocessing.MinMaxScaler()\n",
        "data_norm = min_max_scaler.fit_transform(images_feat)"
      ]
    },
    {
      "cell_type": "code",
      "execution_count": 45,
      "metadata": {
        "id": "_9kBqUjCMODw"
      },
      "outputs": [],
      "source": [
        "#Dividimos en train y test\n",
        "from sklearn.model_selection import train_test_split\n",
        "X_train, X_test, y_train, y_test = train_test_split(data_norm, y, test_size=0.2, random_state=42)\n",
        "X_train, X_val, y_train, y_val = train_test_split(X_train, y_train, test_size=0.1, random_state=42)"
      ]
    },
    {
      "cell_type": "code",
      "execution_count": 47,
      "metadata": {
        "id": "_N6Jh_rNMSEC",
        "colab": {
          "base_uri": "https://localhost:8080/"
        },
        "outputId": "93b7693e-6212-40f1-d377-4987a3869830"
      },
      "outputs": [
        {
          "output_type": "stream",
          "name": "stdout",
          "text": [
            "Epoch 1/50\n",
            "63/63 [==============================] - 2s 5ms/step - loss: 4341.7925 - val_loss: 1658.1434\n",
            "Epoch 2/50\n",
            "63/63 [==============================] - 0s 4ms/step - loss: 2990.5264 - val_loss: 1474.2841\n",
            "Epoch 3/50\n",
            "63/63 [==============================] - 0s 3ms/step - loss: 2764.3228 - val_loss: 1276.1357\n",
            "Epoch 4/50\n",
            "63/63 [==============================] - 0s 3ms/step - loss: 2500.0876 - val_loss: 1493.2883\n",
            "Epoch 5/50\n",
            "63/63 [==============================] - 0s 3ms/step - loss: 2320.7766 - val_loss: 1179.2899\n",
            "Epoch 6/50\n",
            "63/63 [==============================] - 0s 3ms/step - loss: 2239.3733 - val_loss: 1338.2015\n",
            "Epoch 7/50\n",
            "63/63 [==============================] - 0s 3ms/step - loss: 2154.4392 - val_loss: 1257.0787\n",
            "Epoch 8/50\n",
            "63/63 [==============================] - 0s 3ms/step - loss: 2130.1274 - val_loss: 1254.7118\n",
            "Epoch 9/50\n",
            "63/63 [==============================] - 0s 4ms/step - loss: 1922.6786 - val_loss: 1532.5016\n",
            "Epoch 10/50\n",
            "63/63 [==============================] - 0s 3ms/step - loss: 1700.2306 - val_loss: 1986.1395\n",
            "Epoch 11/50\n",
            "63/63 [==============================] - 0s 3ms/step - loss: 1709.8447 - val_loss: 1647.5330\n",
            "Epoch 12/50\n",
            "63/63 [==============================] - 0s 3ms/step - loss: 1619.4841 - val_loss: 2042.5907\n",
            "Epoch 13/50\n",
            "63/63 [==============================] - 0s 3ms/step - loss: 1522.1129 - val_loss: 1919.8099\n",
            "Epoch 14/50\n",
            "63/63 [==============================] - 0s 3ms/step - loss: 1283.1964 - val_loss: 2388.1021\n",
            "Epoch 15/50\n",
            "63/63 [==============================] - 0s 4ms/step - loss: 1193.4330 - val_loss: 3102.3105\n",
            "Epoch 16/50\n",
            "63/63 [==============================] - 0s 4ms/step - loss: 1208.7067 - val_loss: 2925.6919\n",
            "Epoch 17/50\n",
            "63/63 [==============================] - 0s 3ms/step - loss: 974.2315 - val_loss: 3224.2068\n",
            "Epoch 18/50\n",
            "63/63 [==============================] - 0s 3ms/step - loss: 833.2382 - val_loss: 4006.7390\n",
            "Epoch 19/50\n",
            "63/63 [==============================] - 0s 3ms/step - loss: 891.3499 - val_loss: 3504.7595\n",
            "Epoch 20/50\n",
            "63/63 [==============================] - 0s 3ms/step - loss: 676.2731 - val_loss: 4448.6084\n",
            "Epoch 21/50\n",
            "63/63 [==============================] - 0s 4ms/step - loss: 558.6719 - val_loss: 6002.2412\n",
            "Epoch 22/50\n",
            "63/63 [==============================] - 0s 3ms/step - loss: 467.7309 - val_loss: 4172.6792\n",
            "Epoch 23/50\n",
            "63/63 [==============================] - 0s 3ms/step - loss: 401.6843 - val_loss: 3910.8657\n",
            "Epoch 24/50\n",
            "63/63 [==============================] - 0s 3ms/step - loss: 375.4456 - val_loss: 3677.8794\n",
            "Epoch 25/50\n",
            "63/63 [==============================] - 0s 3ms/step - loss: 345.7788 - val_loss: 3825.0349\n",
            "Epoch 26/50\n",
            "63/63 [==============================] - 0s 4ms/step - loss: 348.3861 - val_loss: 4049.1624\n",
            "Epoch 27/50\n",
            "63/63 [==============================] - 0s 4ms/step - loss: 317.9991 - val_loss: 4183.8584\n",
            "Epoch 28/50\n",
            "63/63 [==============================] - 0s 3ms/step - loss: 306.2338 - val_loss: 3926.6150\n",
            "Epoch 29/50\n",
            "63/63 [==============================] - 0s 4ms/step - loss: 253.0563 - val_loss: 3715.6340\n",
            "Epoch 30/50\n",
            "63/63 [==============================] - 0s 3ms/step - loss: 268.5854 - val_loss: 4037.0371\n",
            "Epoch 31/50\n",
            "63/63 [==============================] - 0s 3ms/step - loss: 252.8138 - val_loss: 5221.8970\n",
            "Epoch 32/50\n",
            "63/63 [==============================] - 0s 3ms/step - loss: 234.8217 - val_loss: 6888.2109\n",
            "Epoch 33/50\n",
            "63/63 [==============================] - 0s 3ms/step - loss: 248.3562 - val_loss: 4046.2356\n",
            "Epoch 34/50\n",
            "63/63 [==============================] - 0s 3ms/step - loss: 199.3359 - val_loss: 4097.7832\n",
            "Epoch 35/50\n",
            "63/63 [==============================] - 0s 3ms/step - loss: 191.6624 - val_loss: 4090.3176\n",
            "Epoch 36/50\n",
            "63/63 [==============================] - 0s 3ms/step - loss: 199.8424 - val_loss: 5194.5928\n",
            "Epoch 37/50\n",
            "63/63 [==============================] - 0s 3ms/step - loss: 246.9273 - val_loss: 4629.3101\n",
            "Epoch 38/50\n",
            "63/63 [==============================] - 0s 3ms/step - loss: 171.6152 - val_loss: 4507.2314\n",
            "Epoch 39/50\n",
            "63/63 [==============================] - 0s 4ms/step - loss: 209.8943 - val_loss: 4238.1743\n",
            "Epoch 40/50\n",
            "63/63 [==============================] - 0s 3ms/step - loss: 205.7774 - val_loss: 4494.2778\n",
            "Epoch 41/50\n",
            "63/63 [==============================] - 0s 3ms/step - loss: 186.5020 - val_loss: 4167.3540\n",
            "Epoch 42/50\n",
            "63/63 [==============================] - 0s 3ms/step - loss: 189.2453 - val_loss: 4394.0322\n",
            "Epoch 43/50\n",
            "63/63 [==============================] - 0s 4ms/step - loss: 192.7311 - val_loss: 3774.6604\n",
            "Epoch 44/50\n",
            "63/63 [==============================] - 0s 5ms/step - loss: 200.5611 - val_loss: 3846.5632\n",
            "Epoch 45/50\n",
            "63/63 [==============================] - 0s 5ms/step - loss: 260.5188 - val_loss: 4397.1084\n",
            "Epoch 46/50\n",
            "63/63 [==============================] - 0s 5ms/step - loss: 210.3430 - val_loss: 3630.3621\n",
            "Epoch 47/50\n",
            "63/63 [==============================] - 0s 5ms/step - loss: 237.3389 - val_loss: 4101.8286\n",
            "Epoch 48/50\n",
            "63/63 [==============================] - 0s 5ms/step - loss: 163.9809 - val_loss: 3978.7214\n",
            "Epoch 49/50\n",
            "63/63 [==============================] - 0s 5ms/step - loss: 208.0356 - val_loss: 4277.6826\n",
            "Epoch 50/50\n",
            "63/63 [==============================] - 0s 5ms/step - loss: 188.0506 - val_loss: 4906.1987\n",
            "5/5 [==============================] - 0s 5ms/step - loss: 3005.6506\n",
            "Loss=3005.650634765625\n"
          ]
        }
      ],
      "source": [
        "#Creamos un modelo para clasificar primero con y_class:\n",
        "from tensorflow.keras.models import Sequential\n",
        "from tensorflow.keras.layers import Dense\n",
        "\n",
        "\"\"\"crea un modelo secuencial con varias capas densas y una capa de salida. \n",
        "Las capas densas tienen 128, 64, 32 y 32 neuronas respectivamente y utilizan \n",
        "funciones de activación de ReLU. Se aplica dropout a la tercera y cuarta capas \n",
        "densas con una tasa de 0,2. La capa de salida tiene una neurona y \n",
        "ninguna función de activación.\"\"\"\n",
        "#Definimos el modelo:\n",
        "model = Sequential()\n",
        "\n",
        "#Primera capa:\n",
        "model.add(Dense(128, input_shape=(X_train.shape[1],), activation='relu'))\n",
        "#Capa oculta con 64 neuronas:\n",
        "model.add(Dense(64, activation='relu'))\n",
        "#Capa de abandono con umbral de 0.2\n",
        "model.add(Dropout(0.2))\n",
        "#Capa oculta con 32 neuronas\n",
        "model.add(Dense(32, activation='relu'))\n",
        "model.add(Dropout(0.2))\n",
        "#Capa oculta con 32 neuronas\n",
        "model.add(Dense(32, activation='relu'))\n",
        "#Capa de salida\n",
        "model.add(Dense(1, activation='linear')) \n",
        "\n",
        "\"\"\"El modelo se entrena en los datos de train con un tamaño de \n",
        "  lote de 8 y durante 50 épocas. Los datos de validación se utilizan para \n",
        "  monitorear el rendimiento del modelo durante train.\"\"\"\n",
        "model.compile(loss='mean_squared_error', optimizer='RMSProp')\n",
        "\n",
        "model.fit(X_train, y_train,\n",
        "          validation_data=(X_val, y_val),\n",
        "          epochs=50,\n",
        "          batch_size=8)\n",
        "\"\"\"El modelo se evalúa en los datos de prueba y se imprime la pérdida:\"\"\"\n",
        "loss = model.evaluate(X_test, y_test)\n",
        "print(f'Loss={loss}')"
      ]
    },
    {
      "cell_type": "markdown",
      "metadata": {
        "id": "9x2xsIQiNcgQ"
      },
      "source": [
        "# Segundo módulo:"
      ]
    },
    {
      "cell_type": "code",
      "execution_count": 48,
      "metadata": {
        "id": "3mELjnCSNI_x",
        "colab": {
          "base_uri": "https://localhost:8080/"
        },
        "outputId": "b5d9a0be-9ccf-4419-d158-5742208ea106"
      },
      "outputs": [
        {
          "output_type": "stream",
          "name": "stdout",
          "text": [
            "(700, 538)\n"
          ]
        }
      ],
      "source": [
        "#Unamos las características de la imagen y el conjunto de datos numérico/categórico\n",
        "data_all = np.concatenate((X, images_feat), axis=1)\n",
        "print(data_all.shape)"
      ]
    },
    {
      "cell_type": "code",
      "execution_count": 49,
      "metadata": {
        "id": "uTxS68P9NzUA"
      },
      "outputs": [],
      "source": [
        "#Normalizamos datos y etiquetas (esta vez las etiquetas son los precios\n",
        "    #y los vamos a normalizar también entre 0 y 1)\n",
        "data_norm = min_max_scaler.fit_transform(data_all)"
      ]
    },
    {
      "cell_type": "code",
      "execution_count": 50,
      "metadata": {
        "id": "B4la8mSSN2xN"
      },
      "outputs": [],
      "source": [
        "#Dividimos en train y test\n",
        "from sklearn.model_selection import train_test_split\n",
        "X_train, X_test, y_train, y_test = train_test_split(data_norm, y, test_size=0.2, random_state=42)\n",
        "X_train, X_val, y_train, y_val = train_test_split(X_train, y_train, test_size=0.1, random_state=42)"
      ]
    },
    {
      "cell_type": "code",
      "execution_count": 52,
      "metadata": {
        "id": "HO_FScoVOuvz",
        "colab": {
          "base_uri": "https://localhost:8080/"
        },
        "outputId": "e9ef087c-af70-417f-ced7-ecb8fe088732"
      },
      "outputs": [
        {
          "output_type": "stream",
          "name": "stdout",
          "text": [
            "Epoch 1/50\n",
            "63/63 [==============================] - 1s 5ms/step - loss: 5718.2598 - val_loss: 2132.0288\n",
            "Epoch 2/50\n",
            "63/63 [==============================] - 0s 3ms/step - loss: 3078.2871 - val_loss: 1529.5575\n",
            "Epoch 3/50\n",
            "63/63 [==============================] - 0s 3ms/step - loss: 2688.2190 - val_loss: 1349.0618\n",
            "Epoch 4/50\n",
            "63/63 [==============================] - 0s 3ms/step - loss: 2459.0974 - val_loss: 1186.9988\n",
            "Epoch 5/50\n",
            "63/63 [==============================] - 0s 3ms/step - loss: 2254.2463 - val_loss: 1024.8508\n",
            "Epoch 6/50\n",
            "63/63 [==============================] - 0s 3ms/step - loss: 2083.2751 - val_loss: 887.5741\n",
            "Epoch 7/50\n",
            "63/63 [==============================] - 0s 3ms/step - loss: 1955.5154 - val_loss: 824.1227\n",
            "Epoch 8/50\n",
            "63/63 [==============================] - 0s 3ms/step - loss: 1862.7847 - val_loss: 782.9273\n",
            "Epoch 9/50\n",
            "63/63 [==============================] - 0s 3ms/step - loss: 1786.6407 - val_loss: 740.9385\n",
            "Epoch 10/50\n",
            "63/63 [==============================] - 0s 4ms/step - loss: 1724.2861 - val_loss: 795.4948\n",
            "Epoch 11/50\n",
            "63/63 [==============================] - 0s 5ms/step - loss: 1654.5389 - val_loss: 788.7701\n",
            "Epoch 12/50\n",
            "63/63 [==============================] - 0s 4ms/step - loss: 1609.2219 - val_loss: 743.2767\n",
            "Epoch 13/50\n",
            "63/63 [==============================] - 0s 4ms/step - loss: 1555.5527 - val_loss: 718.0892\n",
            "Epoch 14/50\n",
            "63/63 [==============================] - 0s 5ms/step - loss: 1508.8938 - val_loss: 805.6207\n",
            "Epoch 15/50\n",
            "63/63 [==============================] - 0s 5ms/step - loss: 1456.6481 - val_loss: 798.4415\n",
            "Epoch 16/50\n",
            "63/63 [==============================] - 0s 4ms/step - loss: 1416.3978 - val_loss: 840.9265\n",
            "Epoch 17/50\n",
            "63/63 [==============================] - 0s 5ms/step - loss: 1357.7665 - val_loss: 795.1655\n",
            "Epoch 18/50\n",
            "63/63 [==============================] - 0s 4ms/step - loss: 1328.7042 - val_loss: 852.7884\n",
            "Epoch 19/50\n",
            "63/63 [==============================] - 0s 4ms/step - loss: 1294.3577 - val_loss: 845.7921\n",
            "Epoch 20/50\n",
            "63/63 [==============================] - 0s 3ms/step - loss: 1260.1134 - val_loss: 906.1655\n",
            "Epoch 21/50\n",
            "63/63 [==============================] - 0s 3ms/step - loss: 1221.6393 - val_loss: 965.8696\n",
            "Epoch 22/50\n",
            "63/63 [==============================] - 0s 3ms/step - loss: 1182.4849 - val_loss: 942.6787\n",
            "Epoch 23/50\n",
            "63/63 [==============================] - 0s 3ms/step - loss: 1144.2134 - val_loss: 1020.0241\n",
            "Epoch 24/50\n",
            "63/63 [==============================] - 0s 3ms/step - loss: 1099.4741 - val_loss: 1008.2612\n",
            "Epoch 25/50\n",
            "63/63 [==============================] - 0s 3ms/step - loss: 1079.1080 - val_loss: 1122.6038\n",
            "Epoch 26/50\n",
            "63/63 [==============================] - 0s 3ms/step - loss: 1041.2180 - val_loss: 1040.7627\n",
            "Epoch 27/50\n",
            "63/63 [==============================] - 0s 3ms/step - loss: 1020.0211 - val_loss: 1138.1663\n",
            "Epoch 28/50\n",
            "63/63 [==============================] - 0s 3ms/step - loss: 986.1281 - val_loss: 1082.5726\n",
            "Epoch 29/50\n",
            "63/63 [==============================] - 0s 3ms/step - loss: 969.3828 - val_loss: 1245.8044\n",
            "Epoch 30/50\n",
            "63/63 [==============================] - 0s 3ms/step - loss: 933.6336 - val_loss: 1317.3217\n",
            "Epoch 31/50\n",
            "63/63 [==============================] - 0s 3ms/step - loss: 915.6427 - val_loss: 1327.3063\n",
            "Epoch 32/50\n",
            "63/63 [==============================] - 0s 3ms/step - loss: 875.0082 - val_loss: 1240.6542\n",
            "Epoch 33/50\n",
            "63/63 [==============================] - 0s 3ms/step - loss: 845.2622 - val_loss: 1272.0277\n",
            "Epoch 34/50\n",
            "63/63 [==============================] - 0s 3ms/step - loss: 822.5630 - val_loss: 1578.9509\n",
            "Epoch 35/50\n",
            "63/63 [==============================] - 0s 3ms/step - loss: 790.8156 - val_loss: 1348.7191\n",
            "Epoch 36/50\n",
            "63/63 [==============================] - 0s 3ms/step - loss: 749.1315 - val_loss: 1515.1908\n",
            "Epoch 37/50\n",
            "63/63 [==============================] - 0s 3ms/step - loss: 710.0574 - val_loss: 1409.8051\n",
            "Epoch 38/50\n",
            "63/63 [==============================] - 0s 3ms/step - loss: 716.4885 - val_loss: 1624.0154\n",
            "Epoch 39/50\n",
            "63/63 [==============================] - 0s 3ms/step - loss: 677.7855 - val_loss: 1759.9618\n",
            "Epoch 40/50\n",
            "63/63 [==============================] - 0s 3ms/step - loss: 648.3195 - val_loss: 1551.7887\n",
            "Epoch 41/50\n",
            "63/63 [==============================] - 0s 3ms/step - loss: 632.7941 - val_loss: 1591.8416\n",
            "Epoch 42/50\n",
            "63/63 [==============================] - 0s 3ms/step - loss: 594.6651 - val_loss: 1689.5208\n",
            "Epoch 43/50\n",
            "63/63 [==============================] - 0s 3ms/step - loss: 579.9848 - val_loss: 1751.6998\n",
            "Epoch 44/50\n",
            "63/63 [==============================] - 0s 3ms/step - loss: 547.3212 - val_loss: 1853.0599\n",
            "Epoch 45/50\n",
            "63/63 [==============================] - 0s 3ms/step - loss: 515.3163 - val_loss: 1923.2050\n",
            "Epoch 46/50\n",
            "63/63 [==============================] - 0s 3ms/step - loss: 482.3929 - val_loss: 1748.0634\n",
            "Epoch 47/50\n",
            "63/63 [==============================] - 0s 3ms/step - loss: 477.6246 - val_loss: 1855.3229\n",
            "Epoch 48/50\n",
            "63/63 [==============================] - 0s 3ms/step - loss: 449.1636 - val_loss: 1915.3490\n",
            "Epoch 49/50\n",
            "63/63 [==============================] - 0s 3ms/step - loss: 422.2116 - val_loss: 2123.4788\n",
            "Epoch 50/50\n",
            "63/63 [==============================] - 0s 3ms/step - loss: 393.5815 - val_loss: 2213.5288\n",
            "5/5 [==============================] - 0s 3ms/step - loss: 2318.8276\n",
            "Loss=2318.82763671875\n"
          ]
        }
      ],
      "source": [
        "#Definimos el modelo:\n",
        "model = Sequential()\n",
        "#Capa de entrada con 64 neuronas\n",
        "model.add(Dense(64, input_shape=(X_train.shape[1],), activation='relu'))\n",
        "#Capa oculta con 64 neuronas\n",
        "model.add(Dense(32, activation='relu'))\n",
        "#Capa de salida con una neurona \n",
        "model.add(Dense(1, activation='linear')) \n",
        "\n",
        "model.compile(loss='mean_squared_error', optimizer='RMSProp')\n",
        "\n",
        "model.fit(X_train, y_train,\n",
        "          validation_data=(X_val, y_val),\n",
        "          epochs=50,\n",
        "          batch_size=8)\n",
        "\n",
        "\n",
        "loss = model.evaluate(X_test, y_test)\n",
        "print(f'Loss={loss}')"
      ]
    },
    {
      "cell_type": "code",
      "execution_count": 54,
      "metadata": {
        "id": "Eg3AwnjQN7qj",
        "colab": {
          "base_uri": "https://localhost:8080/"
        },
        "outputId": "ff540c8f-e14c-4725-92ed-45fa75221e9f"
      },
      "outputs": [
        {
          "output_type": "stream",
          "name": "stdout",
          "text": [
            "Epoch 1/50\n",
            "63/63 [==============================] - 2s 7ms/step - loss: 3741.4871 - val_loss: 1091.7463\n",
            "Epoch 2/50\n",
            "63/63 [==============================] - 0s 4ms/step - loss: 2114.6453 - val_loss: 834.3491\n",
            "Epoch 3/50\n",
            "63/63 [==============================] - 0s 4ms/step - loss: 1721.2430 - val_loss: 841.5546\n",
            "Epoch 4/50\n",
            "63/63 [==============================] - 0s 4ms/step - loss: 1394.3516 - val_loss: 1281.7727\n",
            "Epoch 5/50\n",
            "63/63 [==============================] - 0s 4ms/step - loss: 1237.3438 - val_loss: 1065.7533\n",
            "Epoch 6/50\n",
            "63/63 [==============================] - 0s 4ms/step - loss: 806.0995 - val_loss: 1107.4325\n",
            "Epoch 7/50\n",
            "63/63 [==============================] - 0s 4ms/step - loss: 556.0158 - val_loss: 1246.4001\n",
            "Epoch 8/50\n",
            "63/63 [==============================] - 0s 4ms/step - loss: 551.4108 - val_loss: 1183.3351\n",
            "Epoch 9/50\n",
            "63/63 [==============================] - 0s 6ms/step - loss: 400.7884 - val_loss: 1151.0763\n",
            "Epoch 10/50\n",
            "63/63 [==============================] - 0s 6ms/step - loss: 403.7948 - val_loss: 1178.6912\n",
            "Epoch 11/50\n",
            "63/63 [==============================] - 0s 5ms/step - loss: 469.1557 - val_loss: 1337.7810\n",
            "Epoch 12/50\n",
            "63/63 [==============================] - 0s 5ms/step - loss: 479.1274 - val_loss: 982.6013\n",
            "Epoch 13/50\n",
            "63/63 [==============================] - 0s 5ms/step - loss: 312.8828 - val_loss: 1148.3241\n",
            "Epoch 14/50\n",
            "63/63 [==============================] - 0s 6ms/step - loss: 300.1096 - val_loss: 1188.8712\n",
            "Epoch 15/50\n",
            "63/63 [==============================] - 0s 6ms/step - loss: 288.9135 - val_loss: 1089.2274\n",
            "Epoch 16/50\n",
            "63/63 [==============================] - 0s 4ms/step - loss: 171.0360 - val_loss: 1189.0723\n",
            "Epoch 17/50\n",
            "63/63 [==============================] - 0s 4ms/step - loss: 268.8917 - val_loss: 1338.4883\n",
            "Epoch 18/50\n",
            "63/63 [==============================] - 0s 4ms/step - loss: 201.6719 - val_loss: 1127.8483\n",
            "Epoch 19/50\n",
            "63/63 [==============================] - 0s 4ms/step - loss: 299.5477 - val_loss: 1468.2394\n",
            "Epoch 20/50\n",
            "63/63 [==============================] - 0s 4ms/step - loss: 283.5487 - val_loss: 1249.2892\n",
            "Epoch 21/50\n",
            "63/63 [==============================] - 0s 4ms/step - loss: 250.1401 - val_loss: 984.8421\n",
            "Epoch 22/50\n",
            "63/63 [==============================] - 0s 4ms/step - loss: 208.6745 - val_loss: 1107.7400\n",
            "Epoch 23/50\n",
            "63/63 [==============================] - 0s 4ms/step - loss: 260.9875 - val_loss: 1473.9187\n",
            "Epoch 24/50\n",
            "63/63 [==============================] - 0s 4ms/step - loss: 364.5472 - val_loss: 1172.9489\n",
            "Epoch 25/50\n",
            "63/63 [==============================] - 0s 4ms/step - loss: 273.8460 - val_loss: 1111.2352\n",
            "Epoch 26/50\n",
            "63/63 [==============================] - 0s 4ms/step - loss: 260.7885 - val_loss: 1152.7461\n",
            "Epoch 27/50\n",
            "63/63 [==============================] - 0s 4ms/step - loss: 266.5746 - val_loss: 1189.2343\n",
            "Epoch 28/50\n",
            "63/63 [==============================] - 0s 4ms/step - loss: 243.4965 - val_loss: 1195.1603\n",
            "Epoch 29/50\n",
            "63/63 [==============================] - 0s 4ms/step - loss: 228.9082 - val_loss: 1117.4615\n",
            "Epoch 30/50\n",
            "63/63 [==============================] - 0s 4ms/step - loss: 399.2056 - val_loss: 908.2452\n",
            "Epoch 31/50\n",
            "63/63 [==============================] - 0s 4ms/step - loss: 251.9400 - val_loss: 1502.7966\n",
            "Epoch 32/50\n",
            "63/63 [==============================] - 0s 4ms/step - loss: 326.6928 - val_loss: 1468.5717\n",
            "Epoch 33/50\n",
            "63/63 [==============================] - 0s 4ms/step - loss: 280.8448 - val_loss: 1194.0525\n",
            "Epoch 34/50\n",
            "63/63 [==============================] - 0s 4ms/step - loss: 295.3895 - val_loss: 1020.2051\n",
            "Epoch 35/50\n",
            "63/63 [==============================] - 0s 4ms/step - loss: 198.0727 - val_loss: 1164.6461\n",
            "Epoch 36/50\n",
            "63/63 [==============================] - 0s 4ms/step - loss: 162.4024 - val_loss: 1015.3916\n",
            "Epoch 37/50\n",
            "63/63 [==============================] - 0s 4ms/step - loss: 185.6239 - val_loss: 1110.0861\n",
            "Epoch 38/50\n",
            "63/63 [==============================] - 0s 5ms/step - loss: 336.4124 - val_loss: 1182.8860\n",
            "Epoch 39/50\n",
            "63/63 [==============================] - 0s 4ms/step - loss: 191.3965 - val_loss: 1048.9767\n",
            "Epoch 40/50\n",
            "63/63 [==============================] - 0s 4ms/step - loss: 157.5270 - val_loss: 1242.9010\n",
            "Epoch 41/50\n",
            "63/63 [==============================] - 0s 4ms/step - loss: 282.2872 - val_loss: 1096.3861\n",
            "Epoch 42/50\n",
            "63/63 [==============================] - 0s 4ms/step - loss: 271.8915 - val_loss: 1364.1765\n",
            "Epoch 43/50\n",
            "63/63 [==============================] - 0s 4ms/step - loss: 303.0213 - val_loss: 1063.7786\n",
            "Epoch 44/50\n",
            "63/63 [==============================] - 0s 4ms/step - loss: 307.4611 - val_loss: 1122.0254\n",
            "Epoch 45/50\n",
            "63/63 [==============================] - 0s 4ms/step - loss: 261.3835 - val_loss: 1243.0502\n",
            "Epoch 46/50\n",
            "63/63 [==============================] - 0s 4ms/step - loss: 315.1793 - val_loss: 1006.8534\n",
            "Epoch 47/50\n",
            "63/63 [==============================] - 0s 4ms/step - loss: 211.2169 - val_loss: 1234.8711\n",
            "Epoch 48/50\n",
            "63/63 [==============================] - 0s 4ms/step - loss: 233.6146 - val_loss: 1057.2955\n",
            "Epoch 49/50\n",
            "63/63 [==============================] - 0s 4ms/step - loss: 202.8512 - val_loss: 1307.2977\n",
            "Epoch 50/50\n",
            "63/63 [==============================] - 0s 4ms/step - loss: 280.3874 - val_loss: 1064.7717\n",
            "5/5 [==============================] - 0s 4ms/step - loss: 2159.5767\n",
            "Loss=2159.57666015625\n"
          ]
        }
      ],
      "source": [
        "from tensorflow.keras.models import Sequential\n",
        "from tensorflow.keras.layers import Dense\n",
        "\n",
        "\"\"\"Definimos un modelo de red neuronal artificial, \n",
        "    con un total de cinco capas completamente conectadas (capas densas) \n",
        "    que incluyen una capa de entrada y una capa de salida. \"\"\"\n",
        "#Definiendo el modelo:\n",
        "model = Sequential()\n",
        "\n",
        "\"\"\"El modelo tiene una capa de regularización de abandono \n",
        "  después de cada capa oculta para evitar el sobreajuste. \n",
        "  La función de activación utilizada para todas las capas ocultas es ReLU, \n",
        "  excepto para la capa de salida, que no tiene función de activación \n",
        "  ya que es un problema de regresión con salida continua.\"\"\"\n",
        "#Capa de entrada con 256 neuronas\n",
        "model.add(Dense(256, input_shape=(X_train.shape[1],), activation='relu'))\n",
        "model.add(Dropout(0.2))\n",
        "\n",
        "#Capa oculta con 512 neuronas\n",
        "model.add(Dense(512, activation='relu'))\n",
        "model.add(Dropout(0.2))\n",
        "\n",
        "#Capa oculta con 128 neuronas\n",
        "model.add(Dense(128, activation='relu'))\n",
        "model.add(Dropout(0.2))\n",
        "\n",
        "#Capa oculta con 64 neuronas\n",
        "model.add(Dense(64, activation='relu'))\n",
        "model.add(Dropout(0.2))\n",
        "\n",
        "#Capa oculta con 32 neuronas\n",
        "model.add(Dense(32, activation='relu'))\n",
        "\n",
        "#Capa de salida\n",
        "model.add(Dense(1, activation='linear')) \n",
        "\"\"\"El optimizador utilizado para el entrenamiento es el optimizador de Adam, \n",
        "    y la función de pérdida utilizada es el error cuadrático medio.\"\"\" \n",
        "model.compile(loss='mean_squared_error', optimizer='adam')\n",
        "\n",
        "\"\"\"El modelo se entrena durante 50 épocas con datos de train (X_train, y_train) \n",
        "con un batch_sizxe de 8, y los datos de validación (X_val, y_val) \n",
        "se usa para la validación durante train.\"\"\"\n",
        "model.fit(X_train, y_train,\n",
        "          validation_data=(X_val, y_val),\n",
        "          epochs=50,\n",
        "          batch_size=8)\n",
        "\"\"\"Después del entrenamiento, el modelo se evalúa en los daos de test (X_test, y_test) \n",
        "    y la pérdida se imprime en la consola.\"\"\"\n",
        "loss = model.evaluate(X_test, y_test)\n",
        "print(f'Loss={loss}')"
      ]
    }
  ],
  "metadata": {
    "accelerator": "GPU",
    "colab": {
      "provenance": []
    },
    "gpuClass": "standard",
    "kernelspec": {
      "display_name": "Python 3 (ipykernel)",
      "language": "python",
      "name": "python3"
    },
    "language_info": {
      "codemirror_mode": {
        "name": "ipython",
        "version": 3
      },
      "file_extension": ".py",
      "mimetype": "text/x-python",
      "name": "python",
      "nbconvert_exporter": "python",
      "pygments_lexer": "ipython3",
      "version": "3.9.13"
    }
  },
  "nbformat": 4,
  "nbformat_minor": 0
}